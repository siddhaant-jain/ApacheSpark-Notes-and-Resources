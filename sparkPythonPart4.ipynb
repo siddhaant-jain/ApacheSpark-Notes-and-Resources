{
 "cells": [
  {
   "cell_type": "code",
   "execution_count": 1,
   "id": "4038af5a-735c-474b-bef4-b3742a1a69b6",
   "metadata": {},
   "outputs": [],
   "source": [
    "import os\n",
    "import sys\n",
    "from pyspark.sql import SparkSession\n",
    "\n",
    "os.environ[\"HADOOP_HOME\"] = \"C:\\\\Users\\\\SkJain\\\\Downloads\\\\Compressed\\\\winutils-master\\\\hadoop-3.2.2\"\n",
    "os.environ[\"PYSPARK_PYTHON\"] = \"python\"\n",
    "sys.path.append('C:\\\\Users\\\\SkJain\\\\Downloads\\\\Compressed\\\\winutils-master\\\\hadoop-3.2.2\\\\bin')"
   ]
  },
  {
   "cell_type": "code",
   "execution_count": 2,
   "id": "92c3c72a-96e0-44b9-885f-683ad159cd1a",
   "metadata": {},
   "outputs": [],
   "source": [
    "spark = SparkSession. \\\n",
    "    builder. \\\n",
    "    config(\"spark.ui.port\", \"0\"). \\\n",
    "    enableHiveSupport(). \\\n",
    "    appName('Pyspark - Part 4'). \\\n",
    "    master('local'). \\\n",
    "    getOrCreate()"
   ]
  },
  {
   "cell_type": "code",
   "execution_count": 3,
   "id": "f999f03d-eb0a-4edf-bc20-f8d6776c20ab",
   "metadata": {},
   "outputs": [],
   "source": [
    "from pyspark.sql.functions import *"
   ]
  },
  {
   "cell_type": "code",
   "execution_count": 14,
   "id": "32bdedec-bbba-4c0e-9931-e9fb9277942b",
   "metadata": {},
   "outputs": [],
   "source": [
    "airtrafic_data_path = 'C:/Users/SkJain/Downloads/Compressed/data-master/airtraffic_all'\n",
    "airportCodes_data_path = 'C:/Users/SkJain/Downloads/Compressed/data-master/airport-codes-na.txt'"
   ]
  },
  {
   "cell_type": "code",
   "execution_count": 17,
   "id": "50820b75-5da3-4ab0-8f6c-d51715a2bc1b",
   "metadata": {},
   "outputs": [],
   "source": [
    "airtraffic_df = spark.read.parquet(airtrafic_data_path)\n",
    "airportCodes_df = spark.read.csv(airportCodes_data_path, inferSchema=True, header=True, sep='\\t')"
   ]
  },
  {
   "cell_type": "code",
   "execution_count": 18,
   "id": "de6ab565-9d39-495b-aae4-c0e155ccc511",
   "metadata": {},
   "outputs": [
    {
     "name": "stdout",
     "output_type": "stream",
     "text": [
      "+-----------+-----+-------+----+\n",
      "|       City|State|Country|IATA|\n",
      "+-----------+-----+-------+----+\n",
      "| Abbotsford|   BC| Canada| YXX|\n",
      "|   Aberdeen|   SD|    USA| ABR|\n",
      "|    Abilene|   TX|    USA| ABI|\n",
      "|      Akron|   OH|    USA| CAK|\n",
      "|    Alamosa|   CO|    USA| ALS|\n",
      "|     Albany|   GA|    USA| ABY|\n",
      "|     Albany|   NY|    USA| ALB|\n",
      "|Albuquerque|   NM|    USA| ABQ|\n",
      "| Alexandria|   LA|    USA| AEX|\n",
      "|  Allentown|   PA|    USA| ABE|\n",
      "|   Alliance|   NE|    USA| AIA|\n",
      "|     Alpena|   MI|    USA| APN|\n",
      "|    Altoona|   PA|    USA| AOO|\n",
      "|   Amarillo|   TX|    USA| AMA|\n",
      "|Anahim Lake|   BC| Canada| YAA|\n",
      "|  Anchorage|   AK|    USA| ANC|\n",
      "|   Appleton|   WI|    USA| ATW|\n",
      "|     Arviat|  NWT| Canada| YEK|\n",
      "|  Asheville|   NC|    USA| AVL|\n",
      "|      Aspen|   CO|    USA| ASE|\n",
      "+-----------+-----+-------+----+\n",
      "only showing top 20 rows\n",
      "\n"
     ]
    }
   ],
   "source": [
    "airportCodes_df.show()"
   ]
  },
  {
   "cell_type": "code",
   "execution_count": 19,
   "id": "1213125b-2dfa-48cf-ba83-f715f3e5c990",
   "metadata": {},
   "outputs": [
    {
     "name": "stdout",
     "output_type": "stream",
     "text": [
      "root\n",
      " |-- City: string (nullable = true)\n",
      " |-- State: string (nullable = true)\n",
      " |-- Country: string (nullable = true)\n",
      " |-- IATA: string (nullable = true)\n",
      "\n"
     ]
    }
   ],
   "source": [
    "airportCodes_df.printSchema()"
   ]
  },
  {
   "cell_type": "code",
   "execution_count": 20,
   "id": "fbcea857-e19d-4b3c-9c0f-bf1a98e108c9",
   "metadata": {},
   "outputs": [
    {
     "data": {
      "text/plain": [
       "526"
      ]
     },
     "execution_count": 20,
     "metadata": {},
     "output_type": "execute_result"
    }
   ],
   "source": [
    "airportCodes_df.count()"
   ]
  },
  {
   "cell_type": "code",
   "execution_count": 21,
   "id": "f899f43c-fd35-4fe5-a1d0-f3e044845552",
   "metadata": {},
   "outputs": [
    {
     "name": "stdout",
     "output_type": "stream",
     "text": [
      "+----+-----+----------+---------+-------+----------+-------+----------+-------------+---------+-------+-----------------+--------------+-------+--------+--------+------+----+--------+------+-------+---------+----------------+--------+------------+------------+--------+-------------+-----------------+------------+------------+-----------+\n",
      "|Year|Month|DayofMonth|DayOfWeek|DepTime|CRSDepTime|ArrTime|CRSArrTime|UniqueCarrier|FlightNum|TailNum|ActualElapsedTime|CRSElapsedTime|AirTime|ArrDelay|DepDelay|Origin|Dest|Distance|TaxiIn|TaxiOut|Cancelled|CancellationCode|Diverted|CarrierDelay|WeatherDelay|NASDelay|SecurityDelay|LateAircraftDelay|IsArrDelayed|IsDepDelayed|flightmonth|\n",
      "+----+-----+----------+---------+-------+----------+-------+----------+-------------+---------+-------+-----------------+--------------+-------+--------+--------+------+----+--------+------+-------+---------+----------------+--------+------------+------------+--------+-------------+-----------------+------------+------------+-----------+\n",
      "|2008|    1|        16|        3|   1725|      1735|   1959|      2021|           OH|     5367| N716CA|              154|           166|    146|     -22|     -10|   BGR| CVG|     906|     1|      7|        0|            null|       0|          NA|          NA|      NA|           NA|               NA|          NO|          NO|     200801|\n",
      "|2008|    1|        17|        4|   1717|      1701|   1915|      1855|           OH|     4977| N967CA|              118|           114|    101|      20|      16|   SYR| CVG|     527|     2|     15|        0|            null|       0|          16|           0|       4|            0|                0|         YES|         YES|     200801|\n",
      "|2008|    1|        17|        4|   1220|      1225|   1440|      1504|           OH|     5352| N709CA|              140|           159|    117|     -24|      -5|   SAV| BOS|     901|     8|     15|        0|            null|       0|          NA|          NA|      NA|           NA|               NA|          NO|          NO|     200801|\n",
      "|2008|    1|        17|        4|   1530|      1530|   1645|      1637|           OH|     5426| N779CA|               75|            67|     45|       8|       0|   CVG| GRR|     268|     5|     25|        0|            null|       0|          NA|          NA|      NA|           NA|               NA|         YES|          NO|     200801|\n",
      "|2008|    1|        17|        4|   1203|      1205|   1429|      1429|           OH|     5441| N809CA|               86|            84|     58|       0|      -2|   STL| CVG|     307|     3|     25|        0|            null|       0|          NA|          NA|      NA|           NA|               NA|          NO|          NO|     200801|\n",
      "+----+-----+----------+---------+-------+----------+-------+----------+-------------+---------+-------+-----------------+--------------+-------+--------+--------+------+----+--------+------+-------+---------+----------------+--------+------------+------------+--------+-------------+-----------------+------------+------------+-----------+\n",
      "only showing top 5 rows\n",
      "\n"
     ]
    }
   ],
   "source": [
    "airtraffic_df.show(5)"
   ]
  },
  {
   "cell_type": "code",
   "execution_count": 24,
   "id": "fbdeab99-75a4-46fc-91c3-eb21a2cff243",
   "metadata": {},
   "outputs": [
    {
     "data": {
      "text/plain": [
       "'200'"
      ]
     },
     "execution_count": 24,
     "metadata": {},
     "output_type": "execute_result"
    }
   ],
   "source": [
    "spark.conf.get(\"spark.sql.shuffle.partitions\")"
   ]
  },
  {
   "cell_type": "code",
   "execution_count": 25,
   "id": "361ec330-4f17-4bfc-ac5f-8728609ef3ea",
   "metadata": {},
   "outputs": [],
   "source": [
    "# 200 is too much for such small data\n",
    "spark.conf.set(\"spark.sql.shuffle.partitions\",2)"
   ]
  },
  {
   "cell_type": "code",
   "execution_count": 26,
   "id": "02d8812b-1065-4591-a1f6-934b836c5116",
   "metadata": {},
   "outputs": [
    {
     "data": {
      "text/plain": [
       "'2'"
      ]
     },
     "execution_count": 26,
     "metadata": {},
     "output_type": "execute_result"
    }
   ],
   "source": [
    "spark.conf.get(\"spark.sql.shuffle.partitions\")"
   ]
  },
  {
   "cell_type": "code",
   "execution_count": 27,
   "id": "5d58ca59-ea4c-4207-8915-ae2e01eed7de",
   "metadata": {},
   "outputs": [
    {
     "name": "stdout",
     "output_type": "stream",
     "text": [
      "+----------+-----+-------+----+\n",
      "|      City|State|Country|IATA|\n",
      "+----------+-----+-------+----+\n",
      "|Abbotsford|   BC| Canada| YXX|\n",
      "|  Aberdeen|   SD|    USA| ABR|\n",
      "|   Abilene|   TX|    USA| ABI|\n",
      "|     Akron|   OH|    USA| CAK|\n",
      "|   Alamosa|   CO|    USA| ALS|\n",
      "+----------+-----+-------+----+\n",
      "only showing top 5 rows\n",
      "\n"
     ]
    }
   ],
   "source": [
    "airportCodes_df.show(5)"
   ]
  },
  {
   "cell_type": "code",
   "execution_count": 29,
   "id": "38e5a609-f3e7-483b-8d44-f0fa17f8e0d0",
   "metadata": {},
   "outputs": [
    {
     "name": "stdout",
     "output_type": "stream",
     "text": [
      "526\n",
      "524\n"
     ]
    }
   ],
   "source": [
    "# IATA isthe airport code\n",
    "# since each airport will have a unique airport code,\n",
    "# then no.of airport codes should be equal to number of records, if there are no duplicates\n",
    "print(airportCodes_df.count())\n",
    "print(airportCodes_df.select('IATA').distinct().count())"
   ]
  },
  {
   "cell_type": "code",
   "execution_count": 41,
   "id": "19dc9d53-be81-40c5-aeec-9fe4f40407d4",
   "metadata": {},
   "outputs": [
    {
     "name": "stdout",
     "output_type": "stream",
     "text": [
      "+----+----------------------------+--------------------+---------------------+--------+\n",
      "|IATA|collect_list(City)          |collect_list(State) |collect_list(Country)|recCount|\n",
      "+----+----------------------------+--------------------+---------------------+--------+\n",
      "|Big |[Hilo, Kailua-Kona, Kamuela]|[HI, Hawaii, Hawaii]|[USA, USA, USA]      |3       |\n",
      "+----+----------------------------+--------------------+---------------------+--------+\n",
      "\n"
     ]
    }
   ],
   "source": [
    "#there are two duplicate records\n",
    "airportCodes_df. \\\n",
    "groupby('IATA'). \\\n",
    "agg(collect_list('City'), collect_list('State'), collect_list('Country'), count('*').alias('recCount')). \\\n",
    "filter(col('recCount')>1). \\\n",
    "show(truncate=False)"
   ]
  },
  {
   "cell_type": "code",
   "execution_count": 43,
   "id": "6fdc3a58-4e09-45da-9d82-6395a5c3029c",
   "metadata": {},
   "outputs": [
    {
     "data": {
      "text/plain": [
       "524"
      ]
     },
     "execution_count": 43,
     "metadata": {},
     "output_type": "execute_result"
    }
   ],
   "source": [
    "#only first one is correct\n",
    "airportCodes_df. \\\n",
    "filter(~((col('State')=='Hawaii') & (col('IATA')=='Big'))). \\\n",
    "count()"
   ]
  },
  {
   "cell_type": "code",
   "execution_count": 54,
   "id": "a0288ef6-d9fb-4fe4-b2d0-5613ddbba9f3",
   "metadata": {},
   "outputs": [
    {
     "name": "stdout",
     "output_type": "stream",
     "text": [
      "+-------+-----+-------------+\n",
      "|Country|State|numOfAirports|\n",
      "+-------+-----+-------------+\n",
      "|    USA|   CA|           29|\n",
      "|    USA|   TX|           26|\n",
      "|    USA|   AK|           25|\n",
      "|    USA|   NY|           18|\n",
      "|    USA|   MI|           18|\n",
      "|    USA|   FL|           18|\n",
      "|    USA|   MT|           14|\n",
      "|    USA|   PA|           13|\n",
      "|    USA|   IL|           12|\n",
      "|    USA|   CO|           12|\n",
      "|    USA|   WY|           10|\n",
      "|    USA|   NC|           10|\n",
      "|    USA|   WI|            9|\n",
      "|    USA|   NE|            9|\n",
      "|    USA|   GA|            9|\n",
      "|    USA|   NM|            9|\n",
      "|    USA|   HI|            9|\n",
      "|    USA|   WA|            9|\n",
      "|    USA|   KS|            9|\n",
      "|    USA|   ND|            8|\n",
      "|    USA|   MO|            8|\n",
      "|    USA|   AR|            8|\n",
      "|    USA|   MA|            8|\n",
      "|    USA|   MN|            8|\n",
      "|    USA|   AZ|            8|\n",
      "|    USA|   WV|            8|\n",
      "|    USA|   IA|            8|\n",
      "|    USA|   SD|            7|\n",
      "|    USA|   ME|            7|\n",
      "|    USA|   VA|            7|\n",
      "|    USA|   LA|            7|\n",
      "|    USA|   MS|            7|\n",
      "|    USA|   OR|            7|\n",
      "|    USA|   TN|            6|\n",
      "|    USA|   AL|            6|\n",
      "|    USA|   OH|            6|\n",
      "|    USA|   IN|            6|\n",
      "|    USA|   ID|            6|\n",
      "|    USA|   SC|            6|\n",
      "|    USA|   OK|            5|\n",
      "|    USA|   KY|            4|\n",
      "|    USA|   VT|            3|\n",
      "|    USA|   NV|            3|\n",
      "|    USA|   NJ|            3|\n",
      "|    USA|   NH|            3|\n",
      "|    USA|   MD|            3|\n",
      "|    USA| null|            3|\n",
      "|    USA|   UT|            2|\n",
      "|    USA|   CT|            2|\n",
      "|    USA|   DE|            1|\n",
      "|    USA|   RI|            1|\n",
      "+-------+-----+-------------+\n",
      "\n"
     ]
    }
   ],
   "source": [
    "# no. of airports by stated sorted by count in desc order\n",
    "\n",
    "airportCodes_df. \\\n",
    "filter(~((col('State')=='Hawaii') & (col('IATA')=='Big')) & (col('Country') == 'USA')). \\\n",
    "groupby('Country','State'). \\\n",
    "agg(count('*').alias('numOfAirports')). \\\n",
    "sort(col('numOfAirports').desc()). \\\n",
    "show(52)"
   ]
  },
  {
   "cell_type": "code",
   "execution_count": 55,
   "id": "9e83a2a2-1d5e-473b-b5be-ab52f498fa4f",
   "metadata": {},
   "outputs": [
    {
     "data": {
      "text/plain": [
       "51"
      ]
     },
     "execution_count": 55,
     "metadata": {},
     "output_type": "execute_result"
    }
   ],
   "source": [
    "# total 51 records should be there (50 states and null)\n",
    "airportCodes_df. \\\n",
    "filter(~((col('State')=='Hawaii') & (col('IATA')=='Big')) & (col('Country') == 'USA')). \\\n",
    "groupby('Country','State'). \\\n",
    "agg(count('*').alias('numOfAirports')). \\\n",
    "sort(col('numOfAirports').desc()). \\\n",
    "count()"
   ]
  },
  {
   "cell_type": "markdown",
   "id": "795d329f-5b63-4c5a-ba8c-b48391e58cdd",
   "metadata": {},
   "source": [
    "## Inner Join"
   ]
  },
  {
   "cell_type": "code",
   "execution_count": 56,
   "id": "7ddece65-a61c-422d-84a4-b3d3e7ea1dea",
   "metadata": {},
   "outputs": [],
   "source": [
    "orders_json = 'C:/Users/SkJain/Downloads/Compressed/data-master/retail_db_json/orders'\n",
    "order_items_json = 'C:/Users/SkJain/Downloads/Compressed/data-master/retail_db_json/order_items'"
   ]
  },
  {
   "cell_type": "code",
   "execution_count": 57,
   "id": "b4e47a60-6b55-4a74-a91b-7494f418a165",
   "metadata": {},
   "outputs": [],
   "source": [
    "orders_df = spark.read.json(orders_json)\n",
    "order_items_df = spark.read.json(order_items_json)"
   ]
  },
  {
   "cell_type": "code",
   "execution_count": 58,
   "id": "e020f358-3680-49bb-9d60-c7d25d39775b",
   "metadata": {},
   "outputs": [
    {
     "name": "stdout",
     "output_type": "stream",
     "text": [
      "root\n",
      " |-- order_customer_id: long (nullable = true)\n",
      " |-- order_date: string (nullable = true)\n",
      " |-- order_id: long (nullable = true)\n",
      " |-- order_status: string (nullable = true)\n",
      "\n"
     ]
    }
   ],
   "source": [
    "orders_df.printSchema()"
   ]
  },
  {
   "cell_type": "code",
   "execution_count": 59,
   "id": "51c4bbb5-d32e-4b2f-926d-0e2d29f8da17",
   "metadata": {},
   "outputs": [
    {
     "name": "stdout",
     "output_type": "stream",
     "text": [
      "root\n",
      " |-- order_item_id: long (nullable = true)\n",
      " |-- order_item_order_id: long (nullable = true)\n",
      " |-- order_item_product_id: long (nullable = true)\n",
      " |-- order_item_product_price: double (nullable = true)\n",
      " |-- order_item_quantity: long (nullable = true)\n",
      " |-- order_item_subtotal: double (nullable = true)\n",
      "\n"
     ]
    }
   ],
   "source": [
    "order_items_df.printSchema()"
   ]
  },
  {
   "cell_type": "code",
   "execution_count": 60,
   "id": "7c5cfe28-fe35-4fea-87c4-35639ae19175",
   "metadata": {},
   "outputs": [],
   "source": [
    "# order_id and order_item_order_id are the common columns\n",
    "\n",
    "#inner is default\n",
    "order_joined = orders_df. \\\n",
    "                join(order_items_df, orders_df['order_id'] == order_items_df['order_item_order_id'])"
   ]
  },
  {
   "cell_type": "code",
   "execution_count": 62,
   "id": "a8014306-1489-488e-af46-c9e0ad57bf4b",
   "metadata": {},
   "outputs": [
    {
     "name": "stdout",
     "output_type": "stream",
     "text": [
      "+-----------------+--------------------+--------+---------------+-------------+-------------------+---------------------+------------------------+-------------------+-------------------+\n",
      "|order_customer_id|          order_date|order_id|   order_status|order_item_id|order_item_order_id|order_item_product_id|order_item_product_price|order_item_quantity|order_item_subtotal|\n",
      "+-----------------+--------------------+--------+---------------+-------------+-------------------+---------------------+------------------------+-------------------+-------------------+\n",
      "|            11599|2013-07-25 00:00:...|       1|         CLOSED|            1|                  1|                  957|                  299.98|                  1|             299.98|\n",
      "|              256|2013-07-25 00:00:...|       2|PENDING_PAYMENT|            2|                  2|                 1073|                  199.99|                  1|             199.99|\n",
      "|              256|2013-07-25 00:00:...|       2|PENDING_PAYMENT|            3|                  2|                  502|                    50.0|                  5|              250.0|\n",
      "+-----------------+--------------------+--------+---------------+-------------+-------------------+---------------------+------------------------+-------------------+-------------------+\n",
      "only showing top 3 rows\n",
      "\n"
     ]
    }
   ],
   "source": [
    "order_joined.show(3)"
   ]
  },
  {
   "cell_type": "code",
   "execution_count": 63,
   "id": "7dac3350-3ac3-45b1-a2a5-99b7396681bb",
   "metadata": {},
   "outputs": [
    {
     "name": "stdout",
     "output_type": "stream",
     "text": [
      "68883\n",
      "172198\n",
      "172198\n"
     ]
    }
   ],
   "source": [
    "print(orders_df.count())\n",
    "print(order_items_df.count())\n",
    "print(order_joined.count())"
   ]
  },
  {
   "cell_type": "code",
   "execution_count": 64,
   "id": "6c4aa99c-1582-4717-98a0-a876a37b1936",
   "metadata": {},
   "outputs": [
    {
     "name": "stdout",
     "output_type": "stream",
     "text": [
      "+-----------------+--------------------+--------+---------------+-------------------+\n",
      "|order_customer_id|          order_date|order_id|   order_status|order_item_subtotal|\n",
      "+-----------------+--------------------+--------+---------------+-------------------+\n",
      "|            11599|2013-07-25 00:00:...|       1|         CLOSED|             299.98|\n",
      "|              256|2013-07-25 00:00:...|       2|PENDING_PAYMENT|             199.99|\n",
      "|              256|2013-07-25 00:00:...|       2|PENDING_PAYMENT|              250.0|\n",
      "|              256|2013-07-25 00:00:...|       2|PENDING_PAYMENT|             129.99|\n",
      "|             8827|2013-07-25 00:00:...|       4|         CLOSED|              49.98|\n",
      "|             8827|2013-07-25 00:00:...|       4|         CLOSED|             299.95|\n",
      "|             8827|2013-07-25 00:00:...|       4|         CLOSED|              150.0|\n",
      "|             8827|2013-07-25 00:00:...|       4|         CLOSED|             199.92|\n",
      "|            11318|2013-07-25 00:00:...|       5|       COMPLETE|             299.98|\n",
      "|            11318|2013-07-25 00:00:...|       5|       COMPLETE|             299.95|\n",
      "|            11318|2013-07-25 00:00:...|       5|       COMPLETE|              99.96|\n",
      "|            11318|2013-07-25 00:00:...|       5|       COMPLETE|             299.98|\n",
      "|            11318|2013-07-25 00:00:...|       5|       COMPLETE|             129.99|\n",
      "|             4530|2013-07-25 00:00:...|       7|       COMPLETE|             199.99|\n",
      "|             4530|2013-07-25 00:00:...|       7|       COMPLETE|             299.98|\n",
      "|             4530|2013-07-25 00:00:...|       7|       COMPLETE|              79.95|\n",
      "|             2911|2013-07-25 00:00:...|       8|     PROCESSING|             179.97|\n",
      "|             2911|2013-07-25 00:00:...|       8|     PROCESSING|             299.95|\n",
      "|             2911|2013-07-25 00:00:...|       8|     PROCESSING|             199.92|\n",
      "|             2911|2013-07-25 00:00:...|       8|     PROCESSING|               50.0|\n",
      "+-----------------+--------------------+--------+---------------+-------------------+\n",
      "only showing top 20 rows\n",
      "\n"
     ]
    }
   ],
   "source": [
    "order_joined.select(orders_df['*'], order_items_df['order_item_subtotal']).show()"
   ]
  },
  {
   "cell_type": "markdown",
   "id": "d33e8700-d3cf-498a-ab9e-40c29664dc74",
   "metadata": {},
   "source": [
    "## Left/Right Outer Join"
   ]
  },
  {
   "cell_type": "code",
   "execution_count": 66,
   "id": "af98ecfe-07c6-4fbd-be29-8ccfcc0da8fc",
   "metadata": {},
   "outputs": [],
   "source": [
    "customers_json = 'C:/Users/SkJain/Downloads/Compressed/data-master/retail_db_json/customers'"
   ]
  },
  {
   "cell_type": "code",
   "execution_count": 68,
   "id": "db0a4b9f-7bc2-419c-ae85-934e44732797",
   "metadata": {},
   "outputs": [],
   "source": [
    "customer_df = spark.read.json(customers_json)"
   ]
  },
  {
   "cell_type": "code",
   "execution_count": 69,
   "id": "2611d147-98f4-45e0-9b76-bc28101e2240",
   "metadata": {},
   "outputs": [
    {
     "name": "stdout",
     "output_type": "stream",
     "text": [
      "root\n",
      " |-- customer_city: string (nullable = true)\n",
      " |-- customer_email: string (nullable = true)\n",
      " |-- customer_fname: string (nullable = true)\n",
      " |-- customer_id: long (nullable = true)\n",
      " |-- customer_lname: string (nullable = true)\n",
      " |-- customer_password: string (nullable = true)\n",
      " |-- customer_state: string (nullable = true)\n",
      " |-- customer_street: string (nullable = true)\n",
      " |-- customer_zipcode: string (nullable = true)\n",
      "\n"
     ]
    }
   ],
   "source": [
    "customer_df.printSchema()"
   ]
  },
  {
   "cell_type": "code",
   "execution_count": 70,
   "id": "1822b1bd-2b85-4863-a33d-e1d10bb64ce7",
   "metadata": {},
   "outputs": [
    {
     "name": "stdout",
     "output_type": "stream",
     "text": [
      "root\n",
      " |-- order_customer_id: long (nullable = true)\n",
      " |-- order_date: string (nullable = true)\n",
      " |-- order_id: long (nullable = true)\n",
      " |-- order_status: string (nullable = true)\n",
      "\n"
     ]
    }
   ],
   "source": [
    "orders_df.printSchema()"
   ]
  },
  {
   "cell_type": "code",
   "execution_count": 72,
   "id": "566ebab4-18f7-41b7-8ca1-25b10098878a",
   "metadata": {},
   "outputs": [],
   "source": [
    "#customer id is the common column\n",
    "\n",
    "customer_orders_df = customer_df. \\\n",
    "                    join(orders_df, orders_df['order_customer_id'] == customer_df['customer_id'], how='left')"
   ]
  },
  {
   "cell_type": "code",
   "execution_count": 73,
   "id": "dccd54f7-b405-40c5-9a60-a622f707ca99",
   "metadata": {},
   "outputs": [
    {
     "name": "stdout",
     "output_type": "stream",
     "text": [
      "68883\n",
      "12435\n",
      "68913\n"
     ]
    }
   ],
   "source": [
    "print(orders_df.count())\n",
    "print(customer_df.count())\n",
    "print(customer_orders_df.count())"
   ]
  },
  {
   "cell_type": "code",
   "execution_count": 88,
   "id": "cfb55231-fc7e-484f-a4ef-44a05493662c",
   "metadata": {},
   "outputs": [
    {
     "name": "stdout",
     "output_type": "stream",
     "text": [
      "+-------------+--------------+--------------+-----------+--------------+-----------------+--------------+--------------------+----------------+-----------------+----------+--------+------------+\n",
      "|customer_city|customer_email|customer_fname|customer_id|customer_lname|customer_password|customer_state|     customer_street|customer_zipcode|order_customer_id|order_date|order_id|order_status|\n",
      "+-------------+--------------+--------------+-----------+--------------+-----------------+--------------+--------------------+----------------+-----------------+----------+--------+------------+\n",
      "|       Denver|     XXXXXXXXX|          Mary|        219|       Harrell|        XXXXXXXXX|            CO|9016 Foggy Robin ...|           80219|             null|      null|    null|        null|\n",
      "|   Long Beach|     XXXXXXXXX|          Mary|        339|        Greene|        XXXXXXXXX|            CA|     4271 Hazy Close|           90805|             null|      null|    null|        null|\n",
      "+-------------+--------------+--------------+-----------+--------------+-----------------+--------------+--------------------+----------------+-----------------+----------+--------+------------+\n",
      "only showing top 2 rows\n",
      "\n"
     ]
    }
   ],
   "source": [
    "customer_orders_df.filter(orders_df['order_id'].isNull()).show(2)"
   ]
  },
  {
   "cell_type": "code",
   "execution_count": 75,
   "id": "10f46a46-3533-4bcc-b5e1-4d5706839e98",
   "metadata": {},
   "outputs": [
    {
     "data": {
      "text/plain": [
       "30"
      ]
     },
     "execution_count": 75,
     "metadata": {},
     "output_type": "execute_result"
    }
   ],
   "source": [
    "customer_orders_df.filter(orders_df['order_id'].isNull()).count()"
   ]
  },
  {
   "cell_type": "code",
   "execution_count": 95,
   "id": "b2e688bb-bf91-49f3-894c-d0112968bceb",
   "metadata": {},
   "outputs": [
    {
     "name": "stdout",
     "output_type": "stream",
     "text": [
      "+-----------+----------+\n",
      "|customer_id|orderCount|\n",
      "+-----------+----------+\n",
      "|       2433|        11|\n",
      "|       5293|        10|\n",
      "|       4876|        10|\n",
      "|       9392|         9|\n",
      "|       5138|         9|\n",
      "|       8757|         9|\n",
      "|       3755|         9|\n",
      "|      10591|         9|\n",
      "|       5904|         9|\n",
      "|       6812|         9|\n",
      "|       9619|         9|\n",
      "|       2277|         9|\n",
      "|       3708|         9|\n",
      "|      11645|         9|\n",
      "|      10965|         9|\n",
      "|       4116|         9|\n",
      "|       1365|         8|\n",
      "|       5821|         8|\n",
      "|       6130|         8|\n",
      "|       7200|         8|\n",
      "+-----------+----------+\n",
      "only showing top 20 rows\n",
      "\n"
     ]
    }
   ],
   "source": [
    "# number of orders placed in 2013 by each customer. If customer has not placed any oorders then order count should be 0\n",
    "\n",
    "orders_df. \\\n",
    "filter(year('order_date') == 2013). \\\n",
    "join(customer_df, orders_df['order_customer_id'] == customer_df['customer_id'], how='right'). \\\n",
    "withColumn('orderPlaced', when(col('order_id').isNull(), 0).otherwise(1)). \\\n",
    "groupby(customer_df['customer_id']). \\\n",
    "agg(sum('orderPlaced').alias('orderCount')). \\\n",
    "sort(col('orderCount').desc()). \\\n",
    "show()"
   ]
  },
  {
   "cell_type": "markdown",
   "id": "fd503dba-ce31-4abd-a7a3-c7112d901fa6",
   "metadata": {},
   "source": [
    "## Problem 1: Get number of flights departed from each US airport in 2008 January"
   ]
  },
  {
   "cell_type": "code",
   "execution_count": 99,
   "id": "0fed8bb2-4a6a-498e-8cd6-78cac8355510",
   "metadata": {},
   "outputs": [
    {
     "name": "stdout",
     "output_type": "stream",
     "text": [
      "root\n",
      " |-- City: string (nullable = true)\n",
      " |-- State: string (nullable = true)\n",
      " |-- Country: string (nullable = true)\n",
      " |-- IATA: string (nullable = true)\n",
      "\n"
     ]
    }
   ],
   "source": [
    "airportCodes_df.printSchema()"
   ]
  },
  {
   "cell_type": "code",
   "execution_count": 100,
   "id": "8266336a-15b9-46ec-a462-8424ee76b398",
   "metadata": {},
   "outputs": [
    {
     "name": "stdout",
     "output_type": "stream",
     "text": [
      "root\n",
      " |-- Year: integer (nullable = true)\n",
      " |-- Month: integer (nullable = true)\n",
      " |-- DayofMonth: integer (nullable = true)\n",
      " |-- DayOfWeek: integer (nullable = true)\n",
      " |-- DepTime: string (nullable = true)\n",
      " |-- CRSDepTime: integer (nullable = true)\n",
      " |-- ArrTime: string (nullable = true)\n",
      " |-- CRSArrTime: integer (nullable = true)\n",
      " |-- UniqueCarrier: string (nullable = true)\n",
      " |-- FlightNum: integer (nullable = true)\n",
      " |-- TailNum: string (nullable = true)\n",
      " |-- ActualElapsedTime: string (nullable = true)\n",
      " |-- CRSElapsedTime: integer (nullable = true)\n",
      " |-- AirTime: string (nullable = true)\n",
      " |-- ArrDelay: string (nullable = true)\n",
      " |-- DepDelay: string (nullable = true)\n",
      " |-- Origin: string (nullable = true)\n",
      " |-- Dest: string (nullable = true)\n",
      " |-- Distance: string (nullable = true)\n",
      " |-- TaxiIn: string (nullable = true)\n",
      " |-- TaxiOut: string (nullable = true)\n",
      " |-- Cancelled: integer (nullable = true)\n",
      " |-- CancellationCode: string (nullable = true)\n",
      " |-- Diverted: integer (nullable = true)\n",
      " |-- CarrierDelay: string (nullable = true)\n",
      " |-- WeatherDelay: string (nullable = true)\n",
      " |-- NASDelay: string (nullable = true)\n",
      " |-- SecurityDelay: string (nullable = true)\n",
      " |-- LateAircraftDelay: string (nullable = true)\n",
      " |-- IsArrDelayed: string (nullable = true)\n",
      " |-- IsDepDelayed: string (nullable = true)\n",
      " |-- flightmonth: integer (nullable = true)\n",
      "\n"
     ]
    }
   ],
   "source": [
    "airtraffic_df.printSchema()"
   ]
  },
  {
   "cell_type": "code",
   "execution_count": 111,
   "id": "c1cd233a-73e7-4259-9a86-3915cec95b46",
   "metadata": {},
   "outputs": [
    {
     "name": "stdout",
     "output_type": "stream",
     "text": [
      "+----+-----------+\n",
      "|IATA|FlightCount|\n",
      "+----+-----------+\n",
      "| ATL|      33897|\n",
      "| ORD|      29936|\n",
      "| DFW|      23861|\n",
      "| DEN|      19477|\n",
      "| LAX|      18945|\n",
      "| PHX|      17695|\n",
      "| IAH|      15531|\n",
      "| LAS|      15292|\n",
      "| DTW|      14357|\n",
      "| EWR|      12467|\n",
      "| SLC|      12401|\n",
      "| MSP|      11800|\n",
      "| SFO|      11573|\n",
      "| MCO|      11070|\n",
      "| CLT|      10752|\n",
      "| LGA|      10300|\n",
      "| JFK|      10023|\n",
      "| BOS|       9717|\n",
      "| BWI|       8883|\n",
      "| CVG|       8659|\n",
      "+----+-----------+\n",
      "only showing top 20 rows\n",
      "\n"
     ]
    }
   ],
   "source": [
    "airtraffic_df. \\\n",
    "join(\n",
    "    airportCodes_df.filter(~((col('State')=='Hawaii') & (col('IATA')=='Big')) & (col('Country') == 'USA')), \n",
    "    airtraffic_df['Origin'] == airportCodes_df['IATA']\n",
    "). \\\n",
    "groupby(airportCodes_df['IATA']). \\\n",
    "agg(count('*').alias('FlightCount')). \\\n",
    "sort(col('FlightCount').desc()). \\\n",
    "show()"
   ]
  },
  {
   "cell_type": "code",
   "execution_count": 109,
   "id": "88c30d34-6716-432b-a440-6d61ba2597d8",
   "metadata": {},
   "outputs": [
    {
     "data": {
      "text/plain": [
       "270"
      ]
     },
     "execution_count": 109,
     "metadata": {},
     "output_type": "execute_result"
    }
   ],
   "source": [
    "airtraffic_df. \\\n",
    "join(\n",
    "    airportCodes_df.filter(~((col('State')=='Hawaii') & (col('IATA')=='Big')) & (col('Country') == 'USA')), \n",
    "    airtraffic_df['Origin'] == airportCodes_df['IATA']\n",
    "). \\\n",
    "groupby(airportCodes_df['IATA']). \\\n",
    "agg(count('*').alias('FlightCount')). \\\n",
    "count()"
   ]
  },
  {
   "cell_type": "markdown",
   "id": "930c3255-41e1-4a83-9f4c-4caaf12bc052",
   "metadata": {},
   "source": [
    "## Problem 2: Get number of flights departed from each US State in 2008 January"
   ]
  },
  {
   "cell_type": "code",
   "execution_count": 112,
   "id": "7fed5080-5477-4bb2-815b-fe4b68167d34",
   "metadata": {},
   "outputs": [
    {
     "name": "stdout",
     "output_type": "stream",
     "text": [
      "+-----+-----------+\n",
      "|State|FlightCount|\n",
      "+-----+-----------+\n",
      "|   CA|      72853|\n",
      "|   TX|      63930|\n",
      "|   FL|      41042|\n",
      "|   IL|      39812|\n",
      "|   GA|      35527|\n",
      "|   NY|      28414|\n",
      "|   CO|      23288|\n",
      "|   AZ|      20768|\n",
      "|   OH|      19209|\n",
      "|   NC|      17942|\n",
      "|   MI|      17824|\n",
      "|   NV|      17763|\n",
      "| null|      14090|\n",
      "|   TN|      13549|\n",
      "|   PA|      13491|\n",
      "|   UT|      12709|\n",
      "|   NJ|      12498|\n",
      "|   MN|      12357|\n",
      "|   MO|      11808|\n",
      "|   WA|      10210|\n",
      "+-----+-----------+\n",
      "only showing top 20 rows\n",
      "\n"
     ]
    }
   ],
   "source": [
    "airtraffic_df. \\\n",
    "join(\n",
    "    airportCodes_df.filter(~((col('State')=='Hawaii') & (col('IATA')=='Big')) & (col('Country') == 'USA')), \n",
    "    airtraffic_df['Origin'] == airportCodes_df['IATA']\n",
    "). \\\n",
    "groupby(airportCodes_df['State']). \\\n",
    "agg(count('*').alias('FlightCount')). \\\n",
    "sort(col('FlightCount').desc()). \\\n",
    "show()"
   ]
  },
  {
   "cell_type": "markdown",
   "id": "5f4822f8-d289-427b-a2d6-a0c1bc683210",
   "metadata": {},
   "source": [
    "## Problem 3: Get list of US airport from which no flight has departed in Jan 2008"
   ]
  },
  {
   "cell_type": "code",
   "execution_count": 116,
   "id": "462f4459-619c-4d3e-8eac-1661695e8e4f",
   "metadata": {},
   "outputs": [
    {
     "name": "stdout",
     "output_type": "stream",
     "text": [
      "+--------------+-----+-------+----+\n",
      "|          City|State|Country|IATA|\n",
      "+--------------+-----+-------+----+\n",
      "|      Aberdeen|   SD|    USA| ABR|\n",
      "|        Alpena|   MI|    USA| APN|\n",
      "|        Athens|   GA|    USA| AHN|\n",
      "|       Bedford|   MA|    USA| BED|\n",
      "|       Bemidji|   MN|    USA| BJI|\n",
      "|   Bloomington|   IN|    USA| BMG|\n",
      "|     Brookings|   SD|    USA| BKX|\n",
      "|    Burlington|   IA|    USA| BRL|\n",
      "|    Burlington|   MA|    USA| BBF|\n",
      "|Cape Girardeau|   MO|    USA| CGI|\n",
      "|      Carlsbad|   NM|    USA| CNM|\n",
      "|       Chicago|   IL|    USA| CHI|\n",
      "|    Clarksburg|   WV|    USA| CKB|\n",
      "|      Columbus|   IN|    USA| CLU|\n",
      "|      Columbus|   NE|    USA| OLU|\n",
      "|       Decatur|   IL|    USA| DEC|\n",
      "|   Devils Lake|   ND|    USA| DVL|\n",
      "|     Dickinson|   ND|    USA| DIK|\n",
      "|    Dodge City|   KS|    USA| DDC|\n",
      "|       Du Bois|   PA|    USA| DUJ|\n",
      "+--------------+-----+-------+----+\n",
      "only showing top 20 rows\n",
      "\n"
     ]
    }
   ],
   "source": [
    "airtraffic_df. \\\n",
    "join(\n",
    "    airportCodes_df.filter(~((col('State')=='Hawaii') & (col('IATA')=='Big')) & (col('Country') == 'USA')), \n",
    "    airtraffic_df['Origin'] == airportCodes_df['IATA'],\n",
    "    how='right'\n",
    "). \\\n",
    "filter(airtraffic_df['Origin'].isNull()). \\\n",
    "select(airportCodes_df['*']) .\\\n",
    "distinct(). \\\n",
    "show()"
   ]
  },
  {
   "cell_type": "markdown",
   "id": "09a227ef-e3dc-424f-9780-047db1cdc76e",
   "metadata": {},
   "source": [
    "## Problem 4: Any origin airport which are not in airport code"
   ]
  },
  {
   "cell_type": "code",
   "execution_count": 117,
   "id": "2401d649-a6d0-47f2-926a-c0b465a4d09a",
   "metadata": {},
   "outputs": [
    {
     "name": "stdout",
     "output_type": "stream",
     "text": [
      "+------+----+-----+-------+----+\n",
      "|Origin|City|State|Country|IATA|\n",
      "+------+----+-----+-------+----+\n",
      "|   HDN|null| null|   null|null|\n",
      "|   SJU|null| null|   null|null|\n",
      "|   ITO|null| null|   null|null|\n",
      "|   STT|null| null|   null|null|\n",
      "|   CEC|null| null|   null|null|\n",
      "|   CDC|null| null|   null|null|\n",
      "|   PSG|null| null|   null|null|\n",
      "|   ADK|null| null|   null|null|\n",
      "|   KOA|null| null|   null|null|\n",
      "|   OTZ|null| null|   null|null|\n",
      "|   BQN|null| null|   null|null|\n",
      "|   STX|null| null|   null|null|\n",
      "|   PMD|null| null|   null|null|\n",
      "|   PSE|null| null|   null|null|\n",
      "|   SCC|null| null|   null|null|\n",
      "|   SLE|null| null|   null|null|\n",
      "+------+----+-----+-------+----+\n",
      "\n"
     ]
    }
   ],
   "source": [
    "airtraffic_df. \\\n",
    "join(\n",
    "    airportCodes_df.filter(~((col('State')=='Hawaii') & (col('IATA')=='Big')) & (col('Country') == 'USA')), \n",
    "    airtraffic_df['Origin'] == airportCodes_df['IATA'],\n",
    "    how='left'\n",
    "). \\\n",
    "filter(airportCodes_df['IATA'].isNull()). \\\n",
    "select(airtraffic_df['Origin'], airportCodes_df['*']) .\\\n",
    "distinct(). \\\n",
    "show()"
   ]
  },
  {
   "cell_type": "code",
   "execution_count": 118,
   "id": "f9e1ef3c-71b4-4c8c-84c7-92c606aa26e4",
   "metadata": {},
   "outputs": [
    {
     "data": {
      "text/plain": [
       "16"
      ]
     },
     "execution_count": 118,
     "metadata": {},
     "output_type": "execute_result"
    }
   ],
   "source": [
    "airtraffic_df. \\\n",
    "join(\n",
    "    airportCodes_df.filter(~((col('State')=='Hawaii') & (col('IATA')=='Big')) & (col('Country') == 'USA')), \n",
    "    airtraffic_df['Origin'] == airportCodes_df['IATA'],\n",
    "    how='left'\n",
    "). \\\n",
    "filter(airportCodes_df['IATA'].isNull()). \\\n",
    "select(airtraffic_df['Origin'], airportCodes_df['*']) .\\\n",
    "distinct(). \\\n",
    "count()"
   ]
  },
  {
   "cell_type": "markdown",
   "id": "d90b91b6-648e-44e9-8db5-051c6424864e",
   "metadata": {},
   "source": [
    "## Problem 5: Get number of flights departed from airports which are not in airport code"
   ]
  },
  {
   "cell_type": "code",
   "execution_count": 121,
   "id": "481eef88-6eb2-450b-86cf-7d318d39f011",
   "metadata": {},
   "outputs": [
    {
     "data": {
      "text/plain": [
       "5585"
      ]
     },
     "execution_count": 121,
     "metadata": {},
     "output_type": "execute_result"
    }
   ],
   "source": [
    "airtraffic_df. \\\n",
    "join(\n",
    "    airportCodes_df.filter(~((col('State')=='Hawaii') & (col('IATA')=='Big')) & (col('Country') == 'USA')), \n",
    "    airtraffic_df['Origin'] == airportCodes_df['IATA'],\n",
    "    how='left'\n",
    "). \\\n",
    "filter(airportCodes_df['IATA'].isNull()). \\\n",
    "count()"
   ]
  },
  {
   "cell_type": "markdown",
   "id": "feeccc3e-0a9d-43d8-a124-fcfee7fdf107",
   "metadata": {},
   "source": [
    "## Problem 6: Total number of flights per airport which are not in airport code"
   ]
  },
  {
   "cell_type": "code",
   "execution_count": 122,
   "id": "0a78dbc3-e637-4f4e-923f-9a25a481c086",
   "metadata": {},
   "outputs": [
    {
     "name": "stdout",
     "output_type": "stream",
     "text": [
      "+------+-----------+\n",
      "|Origin|flightCount|\n",
      "+------+-----------+\n",
      "|   SJU|       1997|\n",
      "|   KOA|       1316|\n",
      "|   ITO|        786|\n",
      "|   HDN|        429|\n",
      "|   STT|        311|\n",
      "|   BQN|        124|\n",
      "|   PSE|        110|\n",
      "|   OTZ|         92|\n",
      "|   CEC|         88|\n",
      "|   PSG|         62|\n",
      "|   SCC|         62|\n",
      "|   PMD|         57|\n",
      "|   SLE|         54|\n",
      "|   CDC|         48|\n",
      "|   STX|         40|\n",
      "|   ADK|          9|\n",
      "+------+-----------+\n",
      "\n"
     ]
    }
   ],
   "source": [
    "airtraffic_df. \\\n",
    "join(\n",
    "    airportCodes_df.filter(~((col('State')=='Hawaii') & (col('IATA')=='Big')) & (col('Country') == 'USA')), \n",
    "    airtraffic_df['Origin'] == airportCodes_df['IATA'],\n",
    "    how='left'\n",
    "). \\\n",
    "filter(airportCodes_df['IATA'].isNull()). \\\n",
    "groupby(airtraffic_df['Origin']).\\\n",
    "agg(count('*').alias('flightCount')). \\\n",
    "sort(col('flightCount').desc()). \\\n",
    "show()"
   ]
  },
  {
   "cell_type": "markdown",
   "id": "924d6849-e332-47b4-b645-c9bb0d65e1dd",
   "metadata": {},
   "source": [
    "## Problem 7: revenue for each date which are completed or closed"
   ]
  },
  {
   "cell_type": "code",
   "execution_count": 123,
   "id": "cb1b4e45-09d4-45bc-9fe3-b0ab3fe61371",
   "metadata": {},
   "outputs": [
    {
     "name": "stdout",
     "output_type": "stream",
     "text": [
      "root\n",
      " |-- order_customer_id: long (nullable = true)\n",
      " |-- order_date: string (nullable = true)\n",
      " |-- order_id: long (nullable = true)\n",
      " |-- order_status: string (nullable = true)\n",
      "\n"
     ]
    }
   ],
   "source": [
    "orders_df.printSchema()"
   ]
  },
  {
   "cell_type": "code",
   "execution_count": 124,
   "id": "6f664625-1ba2-490f-a275-06f6a3841581",
   "metadata": {},
   "outputs": [
    {
     "name": "stdout",
     "output_type": "stream",
     "text": [
      "root\n",
      " |-- order_item_id: long (nullable = true)\n",
      " |-- order_item_order_id: long (nullable = true)\n",
      " |-- order_item_product_id: long (nullable = true)\n",
      " |-- order_item_product_price: double (nullable = true)\n",
      " |-- order_item_quantity: long (nullable = true)\n",
      " |-- order_item_subtotal: double (nullable = true)\n",
      "\n"
     ]
    }
   ],
   "source": [
    "order_items_df.printSchema()"
   ]
  },
  {
   "cell_type": "code",
   "execution_count": 129,
   "id": "caeeef5c-470f-48d8-b6f1-13cbab687d7b",
   "metadata": {},
   "outputs": [
    {
     "name": "stdout",
     "output_type": "stream",
     "text": [
      "+--------------------+------------------------+\n",
      "|          order_date|sum(order_item_subtotal)|\n",
      "+--------------------+------------------------+\n",
      "|2013-07-25 00:00:...|      31547.230000000014|\n",
      "|2013-07-26 00:00:...|       54713.23000000002|\n",
      "|2013-07-27 00:00:...|       48411.48000000003|\n",
      "|2013-07-28 00:00:...|       35672.03000000004|\n",
      "|2013-07-29 00:00:...|      54579.699999999946|\n",
      "|2013-07-30 00:00:...|       49329.29000000002|\n",
      "|2013-07-31 00:00:...|      59212.490000000056|\n",
      "|2013-08-01 00:00:...|      49160.080000000045|\n",
      "|2013-08-02 00:00:...|       50688.58000000002|\n",
      "|2013-08-03 00:00:...|       43416.74000000001|\n",
      "|2013-08-04 00:00:...|       35093.01000000003|\n",
      "|2013-08-05 00:00:...|      34025.270000000026|\n",
      "|2013-08-06 00:00:...|       57843.89000000003|\n",
      "|2013-08-07 00:00:...|       45525.59000000006|\n",
      "|2013-08-08 00:00:...|       33549.47000000002|\n",
      "|2013-08-09 00:00:...|      29225.160000000018|\n",
      "|2013-08-10 00:00:...|       46435.04000000003|\n",
      "|2013-08-11 00:00:...|                 31155.5|\n",
      "|2013-08-12 00:00:...|       59014.74000000002|\n",
      "|2013-08-13 00:00:...|      17956.879999999994|\n",
      "+--------------------+------------------------+\n",
      "only showing top 20 rows\n",
      "\n"
     ]
    }
   ],
   "source": [
    "orders_df. \\\n",
    "filter(col('order_status').isin('CLOSED', 'COMPLETE')). \\\n",
    "join(order_items_df, orders_df['order_id'] == order_items_df['order_item_order_id']). \\\n",
    "groupby('order_date'). \\\n",
    "agg(sum('order_item_subtotal')). \\\n",
    "sort('order_date'). \\\n",
    "show()"
   ]
  },
  {
   "cell_type": "markdown",
   "id": "7094c0f5-2f1c-4210-bda9-1597de8c7eae",
   "metadata": {},
   "source": [
    "## Problem 8: revenue for each year, month and date which are completed or closed"
   ]
  },
  {
   "cell_type": "code",
   "execution_count": 136,
   "id": "2e14b948-955a-45e9-81ee-2b4203c92321",
   "metadata": {},
   "outputs": [
    {
     "name": "stdout",
     "output_type": "stream",
     "text": [
      "+---------+----------+--------+------------------------+\n",
      "|orderYear|orderMonth|orderDay|sum(order_item_subtotal)|\n",
      "+---------+----------+--------+------------------------+\n",
      "|     null|      null|    null|     1.501298248001313E7|\n",
      "|     2013|      null|    null|       6686892.000003136|\n",
      "|     2013|         7|    null|      333465.44999999914|\n",
      "|     2013|         7|      25|      31547.230000000014|\n",
      "|     2013|         7|      26|       54713.23000000002|\n",
      "|     2013|         7|      27|       48411.48000000003|\n",
      "|     2013|         7|      28|       35672.03000000004|\n",
      "|     2013|         7|      29|      54579.699999999946|\n",
      "|     2013|         7|      30|       49329.29000000002|\n",
      "|     2013|         7|      31|      59212.490000000056|\n",
      "|     2013|         8|    null|      1221828.8999999312|\n",
      "|     2013|         8|       1|      49160.080000000045|\n",
      "|     2013|         8|       2|       50688.58000000002|\n",
      "|     2013|         8|       3|       43416.74000000001|\n",
      "|     2013|         8|       4|       35093.01000000003|\n",
      "|     2013|         8|       5|      34025.270000000026|\n",
      "|     2013|         8|       6|       57843.89000000003|\n",
      "|     2013|         8|       7|       45525.59000000006|\n",
      "|     2013|         8|       8|       33549.47000000002|\n",
      "|     2013|         8|       9|      29225.160000000018|\n",
      "+---------+----------+--------+------------------------+\n",
      "only showing top 20 rows\n",
      "\n"
     ]
    }
   ],
   "source": [
    "orders_df. \\\n",
    "filter(col('order_status').isin('CLOSED', 'COMPLETE')). \\\n",
    "join(order_items_df, orders_df['order_id'] == order_items_df['order_item_order_id']). \\\n",
    "rollup(\n",
    "    year('order_date').alias('orderYear'), \n",
    "    month('order_date').alias('orderMonth'), \n",
    "    dayofmonth('order_date').alias('orderDay')\n",
    "). \\\n",
    "agg(sum('order_item_subtotal')). \\\n",
    "sort('orderYear', 'orderMonth', 'orderDay'). \\\n",
    "show()"
   ]
  },
  {
   "cell_type": "code",
   "execution_count": null,
   "id": "64bfaa2e-a83c-4704-9e83-50e5c49e965f",
   "metadata": {},
   "outputs": [],
   "source": []
  }
 ],
 "metadata": {
  "kernelspec": {
   "display_name": "Python 3 (ipykernel)",
   "language": "python",
   "name": "python3"
  },
  "language_info": {
   "codemirror_mode": {
    "name": "ipython",
    "version": 3
   },
   "file_extension": ".py",
   "mimetype": "text/x-python",
   "name": "python",
   "nbconvert_exporter": "python",
   "pygments_lexer": "ipython3",
   "version": "3.8.11"
  }
 },
 "nbformat": 4,
 "nbformat_minor": 5
}
