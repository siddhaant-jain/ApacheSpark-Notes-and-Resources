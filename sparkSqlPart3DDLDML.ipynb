{
 "cells": [
  {
   "cell_type": "code",
   "execution_count": 1,
   "id": "22089b92-4ada-4580-9eac-6b9e2cd89812",
   "metadata": {},
   "outputs": [],
   "source": [
    "from pyspark.sql import SparkSession\n",
    "import os\n",
    "\n",
    "os.environ[\"HADOOP_HOME\"] = \"C:\\\\Users\\\\SkJain\\\\Downloads\\\\Compressed\\\\winutils-master\\\\hadoop-3.2.2\"\n",
    "os.environ[\"HIVE_HOME\"] = \"C:\\\\Users\\\\SkJain\\\\Documents\\\\BigDataStackWorkspace\\\\SparkLearn\\\\apache-hive-3.1.3-bin\"\n",
    "os.environ[\"HIVE_LIB\"] = \"C:\\\\Users\\\\SkJain\\\\Documents\\\\BigDataStackWorkspace\\\\SparkLearn\\\\apache-hive-3.1.3-bin\\\\lib\"\n",
    "os.environ[\"HIVE_BIN\"] =  \"C:\\\\Users\\\\SkJain\\\\Documents\\\\BigDataStackWorkspace\\\\SparkLearn\\\\apache-hive-3.1.3-bin\\\\bin\"\n",
    "os.environ[\"HADOOP_USER_CLASSPATH_FIRST\"] = \"true\""
   ]
  },
  {
   "cell_type": "code",
   "execution_count": null,
   "id": "877109e4-5f56-4b43-a851-ac76a522adcb",
   "metadata": {},
   "outputs": [],
   "source": [
    "spark = SparkSession. \\\n",
    "    builder. \\\n",
    "    config(\"spark.ui.port\", \"0\"). \\\n",
    "    enableHiveSupport(). \\\n",
    "    appName('SparkSql'). \\\n",
    "    master('local'). \\\n",
    "    getOrCreate()"
   ]
  }
 ],
 "metadata": {
  "kernelspec": {
   "display_name": "Python 3 (ipykernel)",
   "language": "python",
   "name": "python3"
  },
  "language_info": {
   "codemirror_mode": {
    "name": "ipython",
    "version": 3
   },
   "file_extension": ".py",
   "mimetype": "text/x-python",
   "name": "python",
   "nbconvert_exporter": "python",
   "pygments_lexer": "ipython3",
   "version": "3.8.11"
  }
 },
 "nbformat": 4,
 "nbformat_minor": 5
}
