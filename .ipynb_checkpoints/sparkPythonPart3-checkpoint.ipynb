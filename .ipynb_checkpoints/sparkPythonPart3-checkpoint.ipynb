{
 "cells": [
  {
   "cell_type": "code",
   "execution_count": 1,
   "id": "3ea655bf-b432-43e9-8617-6d72bcc61277",
   "metadata": {},
   "outputs": [],
   "source": [
    "import os\n",
    "import sys\n",
    "from pyspark.sql import SparkSession\n",
    "\n",
    "os.environ[\"HADOOP_HOME\"] = \"C:\\\\Users\\\\SkJain\\\\Downloads\\\\Compressed\\\\winutils-master\\\\hadoop-3.2.2\"\n",
    "os.environ[\"PYSPARK_PYTHON\"] = \"python\"\n",
    "sys.path.append('C:\\\\Users\\\\SkJain\\\\Downloads\\\\Compressed\\\\winutils-master\\\\hadoop-3.2.2\\\\bin')"
   ]
  },
  {
   "cell_type": "code",
   "execution_count": 2,
   "id": "a7bf4e6f-71b3-4d94-9399-130220f19d24",
   "metadata": {},
   "outputs": [],
   "source": [
    "spark = SparkSession. \\\n",
    "    builder. \\\n",
    "    config(\"spark.ui.port\", \"0\"). \\\n",
    "    enableHiveSupport(). \\\n",
    "    appName('Pyspark - Part 3'). \\\n",
    "    master('local'). \\\n",
    "    getOrCreate()"
   ]
  },
  {
   "cell_type": "code",
   "execution_count": 3,
   "id": "463dd781-d9eb-4835-aca0-e30652b25c1a",
   "metadata": {},
   "outputs": [],
   "source": [
    "from pyspark.sql.functions import *"
   ]
  },
  {
   "cell_type": "code",
   "execution_count": 4,
   "id": "debd4901-8477-4789-9ea9-7ab2c3a10c25",
   "metadata": {},
   "outputs": [],
   "source": [
    "airtrafic_data_path = 'C:/Users/SkJain/Downloads/Compressed/data-master/airtraffic_all'"
   ]
  },
  {
   "cell_type": "code",
   "execution_count": 8,
   "id": "15f2387d-ada8-4068-9f20-fb009e18ce6c",
   "metadata": {},
   "outputs": [],
   "source": [
    "airtraffic_df = spark.read.parquet(airtrafic_data_path, headers=True, inferSchema=True)"
   ]
  },
  {
   "cell_type": "code",
   "execution_count": 9,
   "id": "a223b564-8ea2-4622-948b-f1c8a9b7c65e",
   "metadata": {},
   "outputs": [
    {
     "name": "stdout",
     "output_type": "stream",
     "text": [
      "root\n",
      " |-- Year: integer (nullable = true)\n",
      " |-- Month: integer (nullable = true)\n",
      " |-- DayofMonth: integer (nullable = true)\n",
      " |-- DayOfWeek: integer (nullable = true)\n",
      " |-- DepTime: string (nullable = true)\n",
      " |-- CRSDepTime: integer (nullable = true)\n",
      " |-- ArrTime: string (nullable = true)\n",
      " |-- CRSArrTime: integer (nullable = true)\n",
      " |-- UniqueCarrier: string (nullable = true)\n",
      " |-- FlightNum: integer (nullable = true)\n",
      " |-- TailNum: string (nullable = true)\n",
      " |-- ActualElapsedTime: string (nullable = true)\n",
      " |-- CRSElapsedTime: integer (nullable = true)\n",
      " |-- AirTime: string (nullable = true)\n",
      " |-- ArrDelay: string (nullable = true)\n",
      " |-- DepDelay: string (nullable = true)\n",
      " |-- Origin: string (nullable = true)\n",
      " |-- Dest: string (nullable = true)\n",
      " |-- Distance: string (nullable = true)\n",
      " |-- TaxiIn: string (nullable = true)\n",
      " |-- TaxiOut: string (nullable = true)\n",
      " |-- Cancelled: integer (nullable = true)\n",
      " |-- CancellationCode: string (nullable = true)\n",
      " |-- Diverted: integer (nullable = true)\n",
      " |-- CarrierDelay: string (nullable = true)\n",
      " |-- WeatherDelay: string (nullable = true)\n",
      " |-- NASDelay: string (nullable = true)\n",
      " |-- SecurityDelay: string (nullable = true)\n",
      " |-- LateAircraftDelay: string (nullable = true)\n",
      " |-- IsArrDelayed: string (nullable = true)\n",
      " |-- IsDepDelayed: string (nullable = true)\n",
      " |-- flightmonth: integer (nullable = true)\n",
      "\n"
     ]
    }
   ],
   "source": [
    "airtraffic_df.printSchema()"
   ]
  },
  {
   "cell_type": "code",
   "execution_count": 14,
   "id": "460901c5-0e11-4c9d-808a-8c4dccca7a1a",
   "metadata": {},
   "outputs": [
    {
     "name": "stdout",
     "output_type": "stream",
     "text": [
      "+----+-----+----------+\n",
      "|year|month|dayOfMonth|\n",
      "+----+-----+----------+\n",
      "|2008|    1|         1|\n",
      "|2008|    1|         2|\n",
      "|2008|    1|         3|\n",
      "|2008|    1|         4|\n",
      "|2008|    1|         5|\n",
      "|2008|    1|         6|\n",
      "|2008|    1|         7|\n",
      "|2008|    1|         8|\n",
      "|2008|    1|         9|\n",
      "|2008|    1|        10|\n",
      "|2008|    1|        11|\n",
      "|2008|    1|        12|\n",
      "|2008|    1|        13|\n",
      "|2008|    1|        14|\n",
      "|2008|    1|        15|\n",
      "|2008|    1|        16|\n",
      "|2008|    1|        17|\n",
      "|2008|    1|        18|\n",
      "|2008|    1|        19|\n",
      "|2008|    1|        20|\n",
      "|2008|    1|        21|\n",
      "|2008|    1|        22|\n",
      "|2008|    1|        23|\n",
      "|2008|    1|        24|\n",
      "|2008|    1|        25|\n",
      "|2008|    1|        26|\n",
      "|2008|    1|        27|\n",
      "|2008|    1|        28|\n",
      "|2008|    1|        29|\n",
      "|2008|    1|        30|\n",
      "|2008|    1|        31|\n",
      "+----+-----+----------+\n",
      "\n"
     ]
    }
   ],
   "source": [
    "airtraffic_df.select('year', 'month', 'dayOfMonth').distinct().orderBy('dayOfMonth').show(40)"
   ]
  },
  {
   "cell_type": "code",
   "execution_count": 13,
   "id": "48bc66c4-26fa-4281-98a7-e1e93fde9c56",
   "metadata": {},
   "outputs": [
    {
     "data": {
      "text/plain": [
       "605659"
      ]
     },
     "execution_count": 13,
     "metadata": {},
     "output_type": "execute_result"
    }
   ],
   "source": [
    "airtraffic_df.count()"
   ]
  },
  {
   "cell_type": "markdown",
   "id": "5dffa8e6-bfe9-495f-ad25-582b9adc0e67",
   "metadata": {},
   "source": [
    "## Basic Filtering of data\n",
    "- we can use either filter or where. Both are synonymous and have no difference\n",
    "- we can pass condition sql style or dataframe style"
   ]
  },
  {
   "cell_type": "markdown",
   "id": "c0157511-7524-495e-a366-3138c3090c2e",
   "metadata": {},
   "source": [
    "### Get count of cancelled flights"
   ]
  },
  {
   "cell_type": "code",
   "execution_count": 18,
   "id": "698fa8cc-dfa4-42d5-9cb5-c7d6269e34f8",
   "metadata": {},
   "outputs": [
    {
     "name": "stdout",
     "output_type": "stream",
     "text": [
      "+---------+\n",
      "|Cancelled|\n",
      "+---------+\n",
      "|        1|\n",
      "|        0|\n",
      "+---------+\n",
      "\n"
     ]
    }
   ],
   "source": [
    "airtraffic_df.select('Cancelled').distinct().show(5)"
   ]
  },
  {
   "cell_type": "code",
   "execution_count": 20,
   "id": "65976c07-7619-41ce-a38b-06164ee9b136",
   "metadata": {},
   "outputs": [
    {
     "data": {
      "text/plain": [
       "17293"
      ]
     },
     "execution_count": 20,
     "metadata": {},
     "output_type": "execute_result"
    }
   ],
   "source": [
    "# df style 1\n",
    "airtraffic_df.filter(airtraffic_df['Cancelled'] == 1).count()"
   ]
  },
  {
   "cell_type": "code",
   "execution_count": 21,
   "id": "6c16a82c-57cc-4cea-b6a0-f7f629ff53a9",
   "metadata": {},
   "outputs": [
    {
     "data": {
      "text/plain": [
       "17293"
      ]
     },
     "execution_count": 21,
     "metadata": {},
     "output_type": "execute_result"
    }
   ],
   "source": [
    "# df style 2\n",
    "airtraffic_df.filter(airtraffic_df.Cancelled == 1).count()"
   ]
  },
  {
   "cell_type": "code",
   "execution_count": 22,
   "id": "c1102ffe-f549-4175-ada0-bc7ac5c4922c",
   "metadata": {},
   "outputs": [
    {
     "data": {
      "text/plain": [
       "17293"
      ]
     },
     "execution_count": 22,
     "metadata": {},
     "output_type": "execute_result"
    }
   ],
   "source": [
    "# sql style\n",
    "airtraffic_df.filter('Cancelled == 1').count()"
   ]
  },
  {
   "cell_type": "markdown",
   "id": "540a538b-2646-4f10-817e-79587b08942b",
   "metadata": {},
   "source": [
    "### Number of flghts scheduled for departure from SFO airport"
   ]
  },
  {
   "cell_type": "code",
   "execution_count": 30,
   "id": "839e5be1-5002-4d13-9878-dec1dee2dbec",
   "metadata": {},
   "outputs": [
    {
     "data": {
      "text/plain": [
       "11573"
      ]
     },
     "execution_count": 30,
     "metadata": {},
     "output_type": "execute_result"
    }
   ],
   "source": [
    "airtraffic_df.filter(airtraffic_df['Origin'] == 'SFO').count()"
   ]
  },
  {
   "cell_type": "markdown",
   "id": "a927cb33-ae82-4665-b99b-7c4253e99721",
   "metadata": {},
   "source": [
    "### number of flights that are departed from airport without any delay"
   ]
  },
  {
   "cell_type": "code",
   "execution_count": 32,
   "id": "43d5df57-0db6-4df2-aee4-bf5b372a9cb4",
   "metadata": {},
   "outputs": [
    {
     "name": "stdout",
     "output_type": "stream",
     "text": [
      "root\n",
      " |-- Year: integer (nullable = true)\n",
      " |-- Month: integer (nullable = true)\n",
      " |-- DayofMonth: integer (nullable = true)\n",
      " |-- DayOfWeek: integer (nullable = true)\n",
      " |-- DepTime: string (nullable = true)\n",
      " |-- CRSDepTime: integer (nullable = true)\n",
      " |-- ArrTime: string (nullable = true)\n",
      " |-- CRSArrTime: integer (nullable = true)\n",
      " |-- UniqueCarrier: string (nullable = true)\n",
      " |-- FlightNum: integer (nullable = true)\n",
      " |-- TailNum: string (nullable = true)\n",
      " |-- ActualElapsedTime: string (nullable = true)\n",
      " |-- CRSElapsedTime: integer (nullable = true)\n",
      " |-- AirTime: string (nullable = true)\n",
      " |-- ArrDelay: string (nullable = true)\n",
      " |-- DepDelay: string (nullable = true)\n",
      " |-- Origin: string (nullable = true)\n",
      " |-- Dest: string (nullable = true)\n",
      " |-- Distance: string (nullable = true)\n",
      " |-- TaxiIn: string (nullable = true)\n",
      " |-- TaxiOut: string (nullable = true)\n",
      " |-- Cancelled: integer (nullable = true)\n",
      " |-- CancellationCode: string (nullable = true)\n",
      " |-- Diverted: integer (nullable = true)\n",
      " |-- CarrierDelay: string (nullable = true)\n",
      " |-- WeatherDelay: string (nullable = true)\n",
      " |-- NASDelay: string (nullable = true)\n",
      " |-- SecurityDelay: string (nullable = true)\n",
      " |-- LateAircraftDelay: string (nullable = true)\n",
      " |-- IsArrDelayed: string (nullable = true)\n",
      " |-- IsDepDelayed: string (nullable = true)\n",
      " |-- flightmonth: integer (nullable = true)\n",
      "\n"
     ]
    }
   ],
   "source": [
    "airtraffic_df.printSchema()"
   ]
  },
  {
   "cell_type": "code",
   "execution_count": 45,
   "id": "f68e0044-774c-4d7d-81de-0ff5581cbc30",
   "metadata": {},
   "outputs": [
    {
     "data": {
      "text/plain": [
       "340461"
      ]
     },
     "execution_count": 45,
     "metadata": {},
     "output_type": "execute_result"
    }
   ],
   "source": [
    "airtraffic_df.filter(\"IsDepDelayed = 'NO'\").count()"
   ]
  },
  {
   "cell_type": "markdown",
   "id": "bc3c118e-1535-47cd-9bb6-ae63a6962379",
   "metadata": {},
   "source": [
    "## filtering using dates"
   ]
  },
  {
   "cell_type": "markdown",
   "id": "59e2f06f-79a8-4c7d-8ce3-8939f73ee6c3",
   "metadata": {},
   "source": [
    "### get number of flights departed late on sundays"
   ]
  },
  {
   "cell_type": "code",
   "execution_count": 59,
   "id": "8e571abc-567b-4ef4-a9d2-4802d195b348",
   "metadata": {},
   "outputs": [
    {
     "data": {
      "text/plain": [
       "34708"
      ]
     },
     "execution_count": 59,
     "metadata": {},
     "output_type": "execute_result"
    }
   ],
   "source": [
    "airtraffic_df. \\\n",
    "select('year', 'month', 'dayOfMonth', 'isDepDelayed'). \\\n",
    "withColumn('fullDate', to_date(concat_ws('-', 'year', 'month', 'dayOfMonth'))). \\\n",
    "filter((date_format('fullDate', 'EEEE') == 'Sunday') & (col('isDepDelayed') == 'YES')). \\\n",
    "count()"
   ]
  },
  {
   "cell_type": "markdown",
   "id": "494e035b-28fd-472d-97e3-73013a6276df",
   "metadata": {},
   "source": [
    "## Boolean operators\n",
    "- each condition should be enclosed in circular brackets"
   ]
  },
  {
   "cell_type": "markdown",
   "id": "af1b0510-8d22-4466-aedb-92c12072f216",
   "metadata": {},
   "source": [
    "### get count of flights which departed late at origin but reached early at destination"
   ]
  },
  {
   "cell_type": "code",
   "execution_count": 60,
   "id": "6980363b-8da8-42f4-86fa-fb741df295cc",
   "metadata": {},
   "outputs": [
    {
     "name": "stdout",
     "output_type": "stream",
     "text": [
      "+------------+------------+---------+\n",
      "|IsDepDelayed|IsArrDelayed|Cancelled|\n",
      "+------------+------------+---------+\n",
      "|          NO|          NO|        0|\n",
      "|         YES|         YES|        1|\n",
      "|          NO|         YES|        0|\n",
      "|         YES|          NO|        0|\n",
      "|         YES|         YES|        0|\n",
      "+------------+------------+---------+\n",
      "\n"
     ]
    }
   ],
   "source": [
    "airtraffic_df. \\\n",
    "select('IsDepDelayed', 'IsArrDelayed', 'Cancelled'). \\\n",
    "distinct(). \\\n",
    "show()"
   ]
  },
  {
   "cell_type": "code",
   "execution_count": 62,
   "id": "ee7b0cc5-574a-412c-a31c-7d55b698f432",
   "metadata": {},
   "outputs": [
    {
     "data": {
      "text/plain": [
       "54233"
      ]
     },
     "execution_count": 62,
     "metadata": {},
     "output_type": "execute_result"
    }
   ],
   "source": [
    "airtraffic_df. \\\n",
    "filter((airtraffic_df['IsDepDelayed'] == 'YES') & \n",
    "       (airtraffic_df['IsArrDelayed']=='NO') & \n",
    "       (airtraffic_df['Cancelled']==0)). \\\n",
    "count()"
   ]
  },
  {
   "cell_type": "markdown",
   "id": "3f8e2bf4-621f-415d-99e4-f581f9baf519",
   "metadata": {},
   "source": [
    "### get count of flights which departed early or on time but arrived atleast 15 mins late"
   ]
  },
  {
   "cell_type": "code",
   "execution_count": 64,
   "id": "e8a1c6cc-e084-4582-a563-5a7882159d10",
   "metadata": {},
   "outputs": [
    {
     "data": {
      "text/plain": [
       "20705"
      ]
     },
     "execution_count": 64,
     "metadata": {},
     "output_type": "execute_result"
    }
   ],
   "source": [
    "airtraffic_df.filter(\"IsDepDelayed = 'NO' AND ArrDelay>=15\").count()"
   ]
  },
  {
   "cell_type": "markdown",
   "id": "bf39cf4f-f651-4772-ada4-bdecfc2fb8b1",
   "metadata": {},
   "source": [
    "### get number of flights which departed late on sundays as well as saturdays"
   ]
  },
  {
   "cell_type": "code",
   "execution_count": 68,
   "id": "fe7b78b7-decc-41c0-9ad7-4a0cc4900461",
   "metadata": {},
   "outputs": [
    {
     "data": {
      "text/plain": [
       "57873"
      ]
     },
     "execution_count": 68,
     "metadata": {},
     "output_type": "execute_result"
    }
   ],
   "source": [
    "airtraffic_df. \\\n",
    "select('year', 'month', 'dayOfMonth', 'isDepDelayed'). \\\n",
    "withColumn('fullDate', to_date(concat_ws('-', 'year', 'month', 'dayOfMonth'))). \\\n",
    "filter(\n",
    "    ((date_format('fullDate', 'EEEE') == 'Sunday') |  \n",
    "    (date_format('fullDate', 'EEEE') == 'Saturday'))\n",
    "    & \n",
    "    (col('isDepDelayed') == 'YES')\n",
    "    &\n",
    "    (col('Cancelled') == 0)\n",
    "). \\\n",
    "count()"
   ]
  },
  {
   "cell_type": "markdown",
   "id": "347002a3-ce47-4d5c-b7e1-689efb538e31",
   "metadata": {},
   "source": [
    "## IN operator"
   ]
  },
  {
   "cell_type": "code",
   "execution_count": 69,
   "id": "dba10659-a0fa-4f55-8db0-e3d9f94a98f6",
   "metadata": {},
   "outputs": [
    {
     "data": {
      "text/plain": [
       "57873"
      ]
     },
     "execution_count": 69,
     "metadata": {},
     "output_type": "execute_result"
    }
   ],
   "source": [
    "airtraffic_df. \\\n",
    "select('year', 'month', 'dayOfMonth', 'isDepDelayed'). \\\n",
    "withColumn('fullDate', to_date(concat_ws('-', 'year', 'month', 'dayOfMonth'))). \\\n",
    "filter(\n",
    "    (date_format('fullDate', 'EEEE').isin('Sunday', 'Saturday'))\n",
    "    & \n",
    "    (col('isDepDelayed') == 'YES')\n",
    "    &\n",
    "    (col('Cancelled') == 0)\n",
    "). \\\n",
    "count()"
   ]
  },
  {
   "cell_type": "markdown",
   "id": "01304520-ef90-47e3-8d6a-8850ee61d1c0",
   "metadata": {},
   "source": [
    "## LIKE operator"
   ]
  },
  {
   "cell_type": "code",
   "execution_count": 70,
   "id": "10466bc7-098c-4872-96f1-06433175d0ac",
   "metadata": {},
   "outputs": [],
   "source": [
    "employees_with_bonus = [(1, \"Scott\", \"Tiger\", 1000.0, 10,\n",
    "                      \"united states\", \"+1 123 456 7890\", \"123 45 6789\"\n",
    "                     ),\n",
    "                     (2, \"Henry\", \"Ford\", 1250.0, None,\n",
    "                      \"India\", \"+91 234 567 8901\", \"456 78 9123\"\n",
    "                     ),\n",
    "                     (3, \"Nick\", \"Junior\", 750.0, '',\n",
    "                      \"united KINGDOM\", \"+44 111 111 1111\", \"222 33 4444\"\n",
    "                     ),\n",
    "                     (4, \"Bill\", \"Gomes\", 1500.0, 10,\n",
    "                      \"AUSTRALIA\", \"+61 987 654 3210\", \"789 12 6118\"\n",
    "                     )\n",
    "            ]\n",
    "\n",
    "emp_bonus_df = spark.createDataFrame(employees_with_bonus, schema = \"\"\" \n",
    "    emp_id INT,f_name STRING,l_name STRING,sal FLOAT,\n",
    "    bonus STRING, country STRING,ph_num STRING,ssn STRING\n",
    "    \"\"\")"
   ]
  },
  {
   "cell_type": "code",
   "execution_count": 71,
   "id": "2c94c2f4-575f-4480-b379-c79fa5036e01",
   "metadata": {},
   "outputs": [
    {
     "name": "stdout",
     "output_type": "stream",
     "text": [
      "+------+------+------+------+-----+--------------+----------------+-----------+\n",
      "|emp_id|f_name|l_name|   sal|bonus|       country|          ph_num|        ssn|\n",
      "+------+------+------+------+-----+--------------+----------------+-----------+\n",
      "|     1| Scott| Tiger|1000.0|   10| united states| +1 123 456 7890|123 45 6789|\n",
      "|     2| Henry|  Ford|1250.0| null|         India|+91 234 567 8901|456 78 9123|\n",
      "|     3|  Nick|Junior| 750.0|     |united KINGDOM|+44 111 111 1111|222 33 4444|\n",
      "|     4|  Bill| Gomes|1500.0|   10|     AUSTRALIA|+61 987 654 3210|789 12 6118|\n",
      "+------+------+------+------+-----+--------------+----------------+-----------+\n",
      "\n"
     ]
    }
   ],
   "source": [
    "emp_bonus_df.show()"
   ]
  },
  {
   "cell_type": "code",
   "execution_count": 72,
   "id": "832a9c7b-df9c-4f56-81e0-68f4bd42a772",
   "metadata": {},
   "outputs": [
    {
     "name": "stdout",
     "output_type": "stream",
     "text": [
      "+------+------+------+------+-----+-------------+---------------+-----------+\n",
      "|emp_id|f_name|l_name|   sal|bonus|      country|         ph_num|        ssn|\n",
      "+------+------+------+------+-----+-------------+---------------+-----------+\n",
      "|     1| Scott| Tiger|1000.0|   10|united states|+1 123 456 7890|123 45 6789|\n",
      "+------+------+------+------+-----+-------------+---------------+-----------+\n",
      "\n"
     ]
    }
   ],
   "source": [
    "emp_bonus_df.filter(col('f_name').like('Sco%')).show()"
   ]
  },
  {
   "cell_type": "code",
   "execution_count": 73,
   "id": "daee7a5e-ffa9-4373-b72d-e6963f62adae",
   "metadata": {},
   "outputs": [
    {
     "name": "stdout",
     "output_type": "stream",
     "text": [
      "+------+------+------+------+-----+-------------+---------------+-----------+\n",
      "|emp_id|f_name|l_name|   sal|bonus|      country|         ph_num|        ssn|\n",
      "+------+------+------+------+-----+-------------+---------------+-----------+\n",
      "|     1| Scott| Tiger|1000.0|   10|united states|+1 123 456 7890|123 45 6789|\n",
      "+------+------+------+------+-----+-------------+---------------+-----------+\n",
      "\n"
     ]
    }
   ],
   "source": [
    "# case insensitive\n",
    "emp_bonus_df.filter(upper(col('f_name')).like('SCO%')).show()"
   ]
  },
  {
   "cell_type": "code",
   "execution_count": 74,
   "id": "a2214a87-faaa-4916-a08e-6661282fee20",
   "metadata": {},
   "outputs": [
    {
     "name": "stdout",
     "output_type": "stream",
     "text": [
      "+------+------+------+------+-----+-------------+---------------+-----------+\n",
      "|emp_id|f_name|l_name|   sal|bonus|      country|         ph_num|        ssn|\n",
      "+------+------+------+------+-----+-------------+---------------+-----------+\n",
      "|     1| Scott| Tiger|1000.0|   10|united states|+1 123 456 7890|123 45 6789|\n",
      "+------+------+------+------+-----+-------------+---------------+-----------+\n",
      "\n"
     ]
    }
   ],
   "source": [
    "# name contains ott\n",
    "emp_bonus_df.filter(lower(col('f_name')).like('%ott%')).show()"
   ]
  },
  {
   "cell_type": "code",
   "execution_count": 76,
   "id": "036fc02f-a190-42b8-b91d-8cedf26b6627",
   "metadata": {},
   "outputs": [
    {
     "name": "stdout",
     "output_type": "stream",
     "text": [
      "+------+------+------+------+-----+--------------+----------------+-----------+\n",
      "|emp_id|f_name|l_name|   sal|bonus|       country|          ph_num|        ssn|\n",
      "+------+------+------+------+-----+--------------+----------------+-----------+\n",
      "|     1| Scott| Tiger|1000.0|   10| united states| +1 123 456 7890|123 45 6789|\n",
      "|     2| Henry|  Ford|1250.0| null|         India|+91 234 567 8901|456 78 9123|\n",
      "|     3|  Nick|Junior| 750.0|     |united KINGDOM|+44 111 111 1111|222 33 4444|\n",
      "|     4|  Bill| Gomes|1500.0|   10|     AUSTRALIA|+61 987 654 3210|789 12 6118|\n",
      "+------+------+------+------+-----+--------------+----------------+-----------+\n",
      "\n"
     ]
    }
   ],
   "source": [
    "# phone number not starting with +44\n",
    "# ~ is the not operator\n",
    "emp_bonus_df.filter(~col('f_name').like('+44%')).show()"
   ]
  },
  {
   "cell_type": "markdown",
   "id": "ad222b93-c8b3-4078-984a-24dd88870c21",
   "metadata": {},
   "source": [
    "## BETWEEN operator"
   ]
  },
  {
   "cell_type": "markdown",
   "id": "b429b4f3-8c3b-4fb6-9ad8-8511959372b8",
   "metadata": {},
   "source": [
    "### count of flights that departed late b/w 1st and 9th Jan 2008"
   ]
  },
  {
   "cell_type": "code",
   "execution_count": 82,
   "id": "17c50670-6b23-4ea8-a964-69da3fe2c802",
   "metadata": {},
   "outputs": [
    {
     "data": {
      "text/plain": [
       "86180"
      ]
     },
     "execution_count": 82,
     "metadata": {},
     "output_type": "execute_result"
    }
   ],
   "source": [
    "airtraffic_df. \\\n",
    "select('year', 'month', 'dayOfMonth', 'isDepDelayed'). \\\n",
    "withColumn('fullDate', to_date(concat_ws('-', 'year', 'month', 'dayOfMonth'))). \\\n",
    "filter(\n",
    "    (date_format('fullDate', 'd').between(1, 9)) &\n",
    "    (col('isDepDelayed') == 'YES') &\n",
    "    (col('Cancelled') == 0)\n",
    "). \\\n",
    "count()"
   ]
  },
  {
   "cell_type": "code",
   "execution_count": 85,
   "id": "e8ad5ebb-4411-486c-8af9-c384a378b116",
   "metadata": {},
   "outputs": [
    {
     "name": "stdout",
     "output_type": "stream",
     "text": [
      "+------+------+------+------+-----+--------------+----------------+-----------+\n",
      "|emp_id|f_name|l_name|   sal|bonus|       country|          ph_num|        ssn|\n",
      "+------+------+------+------+-----+--------------+----------------+-----------+\n",
      "|     1| Scott| Tiger|1000.0|   10| united states| +1 123 456 7890|123 45 6789|\n",
      "|     3|  Nick|Junior| 750.0|     |united KINGDOM|+44 111 111 1111|222 33 4444|\n",
      "|     4|  Bill| Gomes|1500.0|   10|     AUSTRALIA|+61 987 654 3210|789 12 6118|\n",
      "+------+------+------+------+-----+--------------+----------------+-----------+\n",
      "\n"
     ]
    }
   ],
   "source": [
    "emp_bonus_df.filter(~col('bonus').isNull()).show()"
   ]
  },
  {
   "cell_type": "code",
   "execution_count": 87,
   "id": "db920f16-a63f-4d52-acc2-790717946ac9",
   "metadata": {},
   "outputs": [
    {
     "name": "stdout",
     "output_type": "stream",
     "text": [
      "+------+------+------+------+-----+--------------+----------------+-----------+\n",
      "|emp_id|f_name|l_name|   sal|bonus|       country|          ph_num|        ssn|\n",
      "+------+------+------+------+-----+--------------+----------------+-----------+\n",
      "|     1| Scott| Tiger|1000.0|   10| united states| +1 123 456 7890|123 45 6789|\n",
      "|     3|  Nick|Junior| 750.0|     |united KINGDOM|+44 111 111 1111|222 33 4444|\n",
      "|     4|  Bill| Gomes|1500.0|   10|     AUSTRALIA|+61 987 654 3210|789 12 6118|\n",
      "+------+------+------+------+-----+--------------+----------------+-----------+\n",
      "\n"
     ]
    }
   ],
   "source": [
    "emp_bonus_df.filter(col('bonus').isNotNull()).show()"
   ]
  },
  {
   "cell_type": "markdown",
   "id": "79beb3be-54b1-4653-baa8-1b53b541c30a",
   "metadata": {},
   "source": [
    "## Aggregations"
   ]
  },
  {
   "cell_type": "code",
   "execution_count": 88,
   "id": "19040e13-5dd7-49df-9d16-382269ab5724",
   "metadata": {},
   "outputs": [
    {
     "name": "stdout",
     "output_type": "stream",
     "text": [
      "+--------+\n",
      "|count(1)|\n",
      "+--------+\n",
      "|  605659|\n",
      "+--------+\n",
      "\n"
     ]
    }
   ],
   "source": [
    "#count\n",
    "airtraffic_df.select(count('*')).show()"
   ]
  },
  {
   "cell_type": "code",
   "execution_count": 89,
   "id": "973ded78-a3af-452d-8320-6e72aa64d6ba",
   "metadata": {},
   "outputs": [
    {
     "name": "stdout",
     "output_type": "stream",
     "text": [
      "+-------+------+------+------------------+------------+\n",
      "|summary|  year| month|        dayOfMonth|isDepDelayed|\n",
      "+-------+------+------+------------------+------------+\n",
      "|  count|605659|605659|            605659|      605659|\n",
      "|   mean|2008.0|   1.0|15.908469947610785|        null|\n",
      "| stddev|   0.0|   0.0| 8.994294747375292|        null|\n",
      "|    min|  2008|     1|                 1|          NO|\n",
      "|    max|  2008|     1|                31|         YES|\n",
      "+-------+------+------+------------------+------------+\n",
      "\n"
     ]
    }
   ],
   "source": [
    "#describe\n",
    "airtraffic_df. \\\n",
    "select('year', 'month', 'dayOfMonth', 'isDepDelayed'). \\\n",
    "describe(). \\\n",
    "show()"
   ]
  },
  {
   "cell_type": "code",
   "execution_count": 90,
   "id": "bef43710-7ad2-45cc-801a-e3ecea650257",
   "metadata": {},
   "outputs": [
    {
     "name": "stdout",
     "output_type": "stream",
     "text": [
      "+-------+------+------+------------------+------------+\n",
      "|summary|  year| month|        dayOfMonth|isDepDelayed|\n",
      "+-------+------+------+------------------+------------+\n",
      "|  count|605659|605659|            605659|      605659|\n",
      "|   mean|2008.0|   1.0|15.908469947610785|        null|\n",
      "| stddev|   0.0|   0.0| 8.994294747375292|        null|\n",
      "|    min|  2008|     1|                 1|          NO|\n",
      "|    25%|  2008|     1|                 8|        null|\n",
      "|    50%|  2008|     1|                16|        null|\n",
      "|    75%|  2008|     1|                24|        null|\n",
      "|    max|  2008|     1|                31|         YES|\n",
      "+-------+------+------+------------------+------------+\n",
      "\n"
     ]
    }
   ],
   "source": [
    "#summary\n",
    "airtraffic_df. \\\n",
    "select('year', 'month', 'dayOfMonth', 'isDepDelayed'). \\\n",
    "summary(). \\\n",
    "show()"
   ]
  },
  {
   "cell_type": "code",
   "execution_count": 91,
   "id": "9d752980-3a2e-45da-9fbe-3fc00b72cec7",
   "metadata": {},
   "outputs": [
    {
     "name": "stdout",
     "output_type": "stream",
     "text": [
      "+-----+\n",
      "|dates|\n",
      "+-----+\n",
      "|   31|\n",
      "+-----+\n",
      "\n"
     ]
    }
   ],
   "source": [
    "#count distinct\n",
    "airtraffic_df. \\\n",
    "select(countDistinct('year', 'month', 'dayOfMonth').alias('dates')). \\\n",
    "show()"
   ]
  },
  {
   "cell_type": "code",
   "execution_count": 97,
   "id": "2f8ff821-4bb6-4e62-9ca0-70ca7be410d8",
   "metadata": {},
   "outputs": [
    {
     "name": "stdout",
     "output_type": "stream",
     "text": [
      "+------------------------------------+\n",
      "|sum(coalesce(CAST(bonus AS INT), 0))|\n",
      "+------------------------------------+\n",
      "|                                  20|\n",
      "+------------------------------------+\n",
      "\n"
     ]
    }
   ],
   "source": [
    "# sum of all bonuses\n",
    "\n",
    "emp_bonus_df. \\\n",
    "select(sum(coalesce(col('bonus').cast('int'), lit(0)))). \\\n",
    "show()"
   ]
  },
  {
   "cell_type": "markdown",
   "id": "bf39b888-77a5-4d61-b189-9c79b9748b9b",
   "metadata": {},
   "source": [
    "## Aggregations\n",
    "- groupby\n",
    "- rollup\n",
    "- cube"
   ]
  },
  {
   "cell_type": "markdown",
   "id": "d6527109-1025-4b9d-9559-0b661d71e5c1",
   "metadata": {
    "tags": []
   },
   "source": [
    "## Group by"
   ]
  },
  {
   "cell_type": "markdown",
   "id": "5f94bfb0-cde8-4d54-8471-86903df77af1",
   "metadata": {
    "tags": []
   },
   "source": [
    "### number of flights scheduled each day"
   ]
  },
  {
   "cell_type": "code",
   "execution_count": 104,
   "id": "c4941169-9c69-4736-81e7-f6c1fa44e215",
   "metadata": {},
   "outputs": [
    {
     "name": "stdout",
     "output_type": "stream",
     "text": [
      "+----------+------------+\n",
      "|recordDate|numOfFlights|\n",
      "+----------+------------+\n",
      "|2008-01-02|20953       |\n",
      "|2008-01-03|20937       |\n",
      "|2008-01-04|20929       |\n",
      "|2008-01-11|20349       |\n",
      "|2008-01-18|20347       |\n",
      "|2008-01-07|20341       |\n",
      "|2008-01-25|20313       |\n",
      "|2008-01-10|20297       |\n",
      "|2008-01-17|20273       |\n",
      "|2008-01-31|20260       |\n",
      "|2008-01-24|20257       |\n",
      "|2008-01-14|20176       |\n",
      "|2008-01-28|20147       |\n",
      "|2008-01-21|20133       |\n",
      "|2008-01-06|19893       |\n",
      "|2008-01-09|19820       |\n",
      "|2008-01-23|19769       |\n",
      "|2008-01-30|19766       |\n",
      "|2008-01-16|19764       |\n",
      "|2008-01-08|19603       |\n",
      "|2008-01-22|19504       |\n",
      "|2008-01-15|19503       |\n",
      "|2008-01-29|19485       |\n",
      "|2008-01-01|19175       |\n",
      "|2008-01-13|18946       |\n",
      "|2008-01-27|18903       |\n",
      "|2008-01-20|18653       |\n",
      "|2008-01-05|18066       |\n",
      "|2008-01-12|16572       |\n",
      "|2008-01-26|16276       |\n",
      "|2008-01-19|16249       |\n",
      "+----------+------------+\n",
      "\n"
     ]
    }
   ],
   "source": [
    "airtraffic_df. \\\n",
    "withColumn('FlightDate', to_date(concat_ws('-', 'year', lpad('month', 2, '0'), lpad('dayOfMonth', 2, '0')))). \\\n",
    "groupBy('FlightDate'). \\\n",
    "agg(count('*').alias('numOfFlights')). \\\n",
    "orderBy(col('numOfFlights').desc()).\\\n",
    "show(32, False)"
   ]
  },
  {
   "cell_type": "markdown",
   "id": "f38457ac-391b-4621-8664-f8c76eb726af",
   "metadata": {},
   "source": [
    "### count of flights departed, total departure delay and average departure delay for each day"
   ]
  },
  {
   "cell_type": "code",
   "execution_count": 109,
   "id": "752bafdc-b7f3-47b1-a4bb-5cfb753484d9",
   "metadata": {},
   "outputs": [
    {
     "name": "stdout",
     "output_type": "stream",
     "text": [
      "+----------+---------------+-------------------+-----------------+\n",
      "|FlightDate|flightsDeparted|totalDepartureDelay|avgDepartureDelay|\n",
      "+----------+---------------+-------------------+-----------------+\n",
      "|2008-01-20|          18406|           117460.0|             6.38|\n",
      "|2008-01-25|          19787|           229850.0|            11.62|\n",
      "|2008-01-26|          15860|            92129.0|             5.81|\n",
      "|2008-01-17|          19401|           341271.0|            17.59|\n",
      "|2008-01-01|          18623|           354108.0|            19.01|\n",
      "|2008-01-09|          19443|            89595.0|             4.61|\n",
      "|2008-01-02|          20442|           452979.0|            22.16|\n",
      "|2008-01-14|          19267|            98261.0|              5.1|\n",
      "|2008-01-30|          19072|           129345.0|             6.78|\n",
      "|2008-01-24|          19935|           158134.0|             7.93|\n",
      "|2008-01-06|          19210|           323214.0|            16.83|\n",
      "|2008-01-12|          16346|            24876.0|             1.52|\n",
      "|2008-01-08|          19140|           200670.0|            10.48|\n",
      "|2008-01-19|          15373|           155488.0|            10.11|\n",
      "|2008-01-29|          18596|           184855.0|             9.94|\n",
      "|2008-01-22|          18716|           303796.0|            16.23|\n",
      "|2008-01-03|          20462|           329690.0|            16.11|\n",
      "|2008-01-21|          19658|           370196.0|            18.83|\n",
      "|2008-01-04|          20160|           277373.0|            13.76|\n",
      "|2008-01-18|          20117|           223738.0|            11.12|\n",
      "|2008-01-11|          19825|           190918.0|             9.63|\n",
      "|2008-01-07|          19762|           238431.0|            12.07|\n",
      "|2008-01-27|          18265|           365491.0|            20.01|\n",
      "|2008-01-05|          17610|           306068.0|            17.38|\n",
      "|2008-01-10|          19956|           148603.0|             7.45|\n",
      "|2008-01-23|          19239|           190807.0|             9.92|\n",
      "|2008-01-13|          18587|           101753.0|             5.47|\n",
      "|2008-01-16|          19232|            61021.0|             3.17|\n",
      "|2008-01-31|          19179|           396280.0|            20.66|\n",
      "|2008-01-15|          19204|            75096.0|             3.91|\n",
      "|2008-01-28|          19493|           220046.0|            11.29|\n",
      "+----------+---------------+-------------------+-----------------+\n",
      "\n"
     ]
    }
   ],
   "source": [
    "airtraffic_df. \\\n",
    "filter(col('Cancelled') == 0). \\\n",
    "withColumn('FlightDate', to_date(concat_ws('-', 'year', lpad('month', 2, '0'), lpad('dayOfMonth', 2, '0')))). \\\n",
    "groupBy('FlightDate'). \\\n",
    "agg(\n",
    "    count('*').alias(\"flightsDeparted\"),\n",
    "    sum('DepDelay').alias(\"totalDepartureDelay\"),\n",
    "    round(avg('DepDelay'),2).alias(\"avgDepartureDelay\")\n",
    ").\\\n",
    "show(32)"
   ]
  },
  {
   "cell_type": "markdown",
   "id": "d745f4d6-ef6b-4b0d-a22b-48ed9469ad06",
   "metadata": {
    "tags": []
   },
   "source": [
    "## Rollup"
   ]
  },
  {
   "cell_type": "code",
   "execution_count": 110,
   "id": "ed777485-660f-418f-a5ce-57394bd7195b",
   "metadata": {},
   "outputs": [],
   "source": [
    "orders_df = spark.read.json('C:/Users/SkJain/Downloads/Compressed/data-master/retail_db_json/orders')"
   ]
  },
  {
   "cell_type": "code",
   "execution_count": 113,
   "id": "22993eb3-6d81-44cb-9ef2-4b6e5aca781e",
   "metadata": {},
   "outputs": [
    {
     "name": "stdout",
     "output_type": "stream",
     "text": [
      "+-----------------+---------------------+--------+---------------+\n",
      "|order_customer_id|order_date           |order_id|order_status   |\n",
      "+-----------------+---------------------+--------+---------------+\n",
      "|11599            |2013-07-25 00:00:00.0|1       |CLOSED         |\n",
      "|256              |2013-07-25 00:00:00.0|2       |PENDING_PAYMENT|\n",
      "|12111            |2013-07-25 00:00:00.0|3       |COMPLETE       |\n",
      "+-----------------+---------------------+--------+---------------+\n",
      "only showing top 3 rows\n",
      "\n"
     ]
    }
   ],
   "source": [
    "orders_df.show(3, False)"
   ]
  },
  {
   "cell_type": "code",
   "execution_count": 121,
   "id": "c2bf9830-608d-4455-a408-ac42ad7ff251",
   "metadata": {},
   "outputs": [
    {
     "name": "stdout",
     "output_type": "stream",
     "text": [
      "+--------------------+-----------+\n",
      "|          order_date|order_count|\n",
      "+--------------------+-----------+\n",
      "|2013-11-03 00:00:...|        347|\n",
      "|2013-11-24 00:00:...|        292|\n",
      "|2013-11-14 00:00:...|        287|\n",
      "|2013-10-04 00:00:...|        287|\n",
      "|2013-12-26 00:00:...|        286|\n",
      "|2014-07-20 00:00:...|        285|\n",
      "|2014-01-11 00:00:...|        281|\n",
      "|2013-11-05 00:00:...|        278|\n",
      "|2014-02-01 00:00:...|        278|\n",
      "|2013-09-25 00:00:...|        277|\n",
      "|2013-10-13 00:00:...|        277|\n",
      "|2013-09-14 00:00:...|        276|\n",
      "|2013-09-06 00:00:...|        276|\n",
      "|2014-06-19 00:00:...|        276|\n",
      "|2014-07-15 00:00:...|        274|\n",
      "|2013-08-10 00:00:...|        270|\n",
      "|2014-06-09 00:00:...|        269|\n",
      "|2013-07-26 00:00:...|        269|\n",
      "|2014-02-19 00:00:...|        268|\n",
      "|2014-01-05 00:00:...|        266|\n",
      "+--------------------+-----------+\n",
      "only showing top 20 rows\n",
      "\n"
     ]
    }
   ],
   "source": [
    "orders_df .\\\n",
    "groupby('order_date'). \\\n",
    "agg(count('*').alias('order_count')). \\\n",
    "orderBy(col('order_count').desc()). \\\n",
    "show()"
   ]
  },
  {
   "cell_type": "code",
   "execution_count": 120,
   "id": "a8258a07-a8c9-47eb-951e-1b49f57d1486",
   "metadata": {},
   "outputs": [
    {
     "name": "stdout",
     "output_type": "stream",
     "text": [
      "+--------------------+-----------+\n",
      "|          order_date|order_count|\n",
      "+--------------------+-----------+\n",
      "|                null|      68883|\n",
      "|2013-11-03 00:00:...|        347|\n",
      "|2013-11-24 00:00:...|        292|\n",
      "|2013-10-04 00:00:...|        287|\n",
      "|2013-11-14 00:00:...|        287|\n",
      "|2013-12-26 00:00:...|        286|\n",
      "|2014-07-20 00:00:...|        285|\n",
      "|2014-01-11 00:00:...|        281|\n",
      "|2014-02-01 00:00:...|        278|\n",
      "|2013-11-05 00:00:...|        278|\n",
      "|2013-09-25 00:00:...|        277|\n",
      "|2013-10-13 00:00:...|        277|\n",
      "|2013-09-06 00:00:...|        276|\n",
      "|2014-06-19 00:00:...|        276|\n",
      "|2013-09-14 00:00:...|        276|\n",
      "|2014-07-15 00:00:...|        274|\n",
      "|2013-08-10 00:00:...|        270|\n",
      "|2013-07-26 00:00:...|        269|\n",
      "|2014-06-09 00:00:...|        269|\n",
      "|2014-02-19 00:00:...|        268|\n",
      "+--------------------+-----------+\n",
      "only showing top 20 rows\n",
      "\n"
     ]
    }
   ],
   "source": [
    "orders_df .\\\n",
    "rollup('order_date'). \\\n",
    "agg(count('*').alias('order_count')). \\\n",
    "orderBy(col('order_count').desc()). \\\n",
    "show()"
   ]
  },
  {
   "cell_type": "markdown",
   "id": "71076d19-6e8a-4814-8b93-100e63230d85",
   "metadata": {},
   "source": [
    "- roll up give 1 additional record where all the days are also added together\n",
    "- will be more clear with eg of multiple columns"
   ]
  },
  {
   "cell_type": "code",
   "execution_count": 122,
   "id": "2c5924ba-db8b-44ed-8d55-79998b12cfc9",
   "metadata": {},
   "outputs": [
    {
     "name": "stdout",
     "output_type": "stream",
     "text": [
      "+-------------------------------+--------------------+-----------+\n",
      "|date_format(order_date, yyyyMM)|          order_date|order_count|\n",
      "+-------------------------------+--------------------+-----------+\n",
      "|                         201311|2013-11-03 00:00:...|        347|\n",
      "|                         201311|2013-11-24 00:00:...|        292|\n",
      "|                         201311|2013-11-14 00:00:...|        287|\n",
      "|                         201310|2013-10-04 00:00:...|        287|\n",
      "|                         201312|2013-12-26 00:00:...|        286|\n",
      "|                         201407|2014-07-20 00:00:...|        285|\n",
      "|                         201401|2014-01-11 00:00:...|        281|\n",
      "|                         201402|2014-02-01 00:00:...|        278|\n",
      "|                         201311|2013-11-05 00:00:...|        278|\n",
      "|                         201309|2013-09-25 00:00:...|        277|\n",
      "|                         201310|2013-10-13 00:00:...|        277|\n",
      "|                         201309|2013-09-14 00:00:...|        276|\n",
      "|                         201309|2013-09-06 00:00:...|        276|\n",
      "|                         201406|2014-06-19 00:00:...|        276|\n",
      "|                         201407|2014-07-15 00:00:...|        274|\n",
      "|                         201308|2013-08-10 00:00:...|        270|\n",
      "|                         201307|2013-07-26 00:00:...|        269|\n",
      "|                         201406|2014-06-09 00:00:...|        269|\n",
      "|                         201402|2014-02-19 00:00:...|        268|\n",
      "|                         201401|2014-01-05 00:00:...|        266|\n",
      "+-------------------------------+--------------------+-----------+\n",
      "only showing top 20 rows\n",
      "\n"
     ]
    }
   ],
   "source": [
    "orders_df .\\\n",
    "groupby(date_format('order_date', 'yyyyMM'), 'order_date'). \\\n",
    "agg(count('*').alias('order_count')). \\\n",
    "orderBy(col('order_count').desc()). \\\n",
    "show()"
   ]
  },
  {
   "cell_type": "code",
   "execution_count": 123,
   "id": "d8951db7-1d1f-43fa-8b3c-bd58a09d43e6",
   "metadata": {},
   "outputs": [
    {
     "name": "stdout",
     "output_type": "stream",
     "text": [
      "+-------------------------------+--------------------+-----------+\n",
      "|date_format(order_date, yyyyMM)|          order_date|order_count|\n",
      "+-------------------------------+--------------------+-----------+\n",
      "|                           null|                null|      68883|\n",
      "|                         201311|                null|       6381|\n",
      "|                         201401|                null|       5908|\n",
      "|                         201312|                null|       5892|\n",
      "|                         201309|                null|       5841|\n",
      "|                         201403|                null|       5778|\n",
      "|                         201308|                null|       5680|\n",
      "|                         201404|                null|       5657|\n",
      "|                         201402|                null|       5635|\n",
      "|                         201405|                null|       5467|\n",
      "|                         201310|                null|       5335|\n",
      "|                         201406|                null|       5308|\n",
      "|                         201407|                null|       4468|\n",
      "|                         201307|                null|       1533|\n",
      "|                         201311|2013-11-03 00:00:...|        347|\n",
      "|                         201311|2013-11-24 00:00:...|        292|\n",
      "|                         201310|2013-10-04 00:00:...|        287|\n",
      "|                         201311|2013-11-14 00:00:...|        287|\n",
      "|                         201312|2013-12-26 00:00:...|        286|\n",
      "|                         201407|2014-07-20 00:00:...|        285|\n",
      "+-------------------------------+--------------------+-----------+\n",
      "only showing top 20 rows\n",
      "\n"
     ]
    }
   ],
   "source": [
    "orders_df .\\\n",
    "rollup(date_format('order_date', 'yyyyMM'), 'order_date'). \\\n",
    "agg(count('*').alias('order_count')). \\\n",
    "orderBy(col('order_count').desc()). \\\n",
    "show()"
   ]
  },
  {
   "cell_type": "markdown",
   "id": "d72935f0-43aa-4622-a7d9-f351f0531af4",
   "metadata": {},
   "source": [
    "- in above example\n",
    "    - there's a grouping till day level, then month level, then entire dataset level"
   ]
  },
  {
   "cell_type": "code",
   "execution_count": 124,
   "id": "f3d341a0-99c3-48eb-8079-fc56ea13a5c0",
   "metadata": {},
   "outputs": [
    {
     "name": "stdout",
     "output_type": "stream",
     "text": [
      "+----------------+-------------------------------+--------------------+-----------+\n",
      "|year(order_date)|date_format(order_date, yyyyMM)|          order_date|order_count|\n",
      "+----------------+-------------------------------+--------------------+-----------+\n",
      "|            null|                           null|                null|      68883|\n",
      "|            2014|                           null|                null|      38221|\n",
      "|            2013|                           null|                null|      30662|\n",
      "|            2013|                         201311|                null|       6381|\n",
      "|            2014|                         201401|                null|       5908|\n",
      "|            2013|                         201312|                null|       5892|\n",
      "|            2013|                         201309|                null|       5841|\n",
      "|            2014|                         201403|                null|       5778|\n",
      "|            2013|                         201308|                null|       5680|\n",
      "|            2014|                         201404|                null|       5657|\n",
      "|            2014|                         201402|                null|       5635|\n",
      "|            2014|                         201405|                null|       5467|\n",
      "|            2013|                         201310|                null|       5335|\n",
      "|            2014|                         201406|                null|       5308|\n",
      "|            2014|                         201407|                null|       4468|\n",
      "|            2013|                         201307|                null|       1533|\n",
      "|            2013|                         201311|2013-11-03 00:00:...|        347|\n",
      "|            2013|                         201311|2013-11-24 00:00:...|        292|\n",
      "|            2013|                         201311|2013-11-14 00:00:...|        287|\n",
      "|            2013|                         201310|2013-10-04 00:00:...|        287|\n",
      "+----------------+-------------------------------+--------------------+-----------+\n",
      "only showing top 20 rows\n",
      "\n"
     ]
    }
   ],
   "source": [
    "orders_df .\\\n",
    "rollup(year('order_date'), date_format('order_date', 'yyyyMM'), 'order_date'). \\\n",
    "agg(count('*').alias('order_count')). \\\n",
    "orderBy(col('order_count').desc()). \\\n",
    "show()"
   ]
  },
  {
   "cell_type": "markdown",
   "id": "0edc7d39-ffff-4698-9104-6e93253b31cc",
   "metadata": {},
   "source": [
    "## Cube\n",
    "- used mostly with BI tools\n",
    "- if we give three columns then it will give sum for all combinations\n",
    "    - A null, B and C not null\n",
    "    - A and B not null, C null (in rollup also)\n",
    "    - A and C not null, B null\n",
    "    - A and B null, C not null,\n",
    "    - A and C null, B not null,\n",
    "    - B and C null, A not null (in rollup also)\n",
    "    - A, B and C null (in rollup also)\n",
    "    - A, B, C not null (in rollup also)\n",
    " \n",
    "- generates double the number of records of rollup for 2 columns\n",
    "- in rollup it will find for column A also, considering column B (mentioned second in rollup statement) as null\n",
    "- in cube it will do the above, but also give for column b considering column A as null\n",
    "- that means if say B is present in A with value C and D then it will add all those records and give the count"
   ]
  },
  {
   "cell_type": "markdown",
   "id": "e08ce928-d0ea-41d2-84a6-021e7bd8fb2e",
   "metadata": {},
   "source": [
    "## Sorting the data\n",
    "- we can use orderBy or sort (both are same)"
   ]
  },
  {
   "cell_type": "code",
   "execution_count": 126,
   "id": "f792a3b5-bda0-4888-a824-cd545b846407",
   "metadata": {},
   "outputs": [
    {
     "name": "stdout",
     "output_type": "stream",
     "text": [
      "+----------+-----------+\n",
      "|FlightDate|flightCount|\n",
      "+----------+-----------+\n",
      "|2008-01-03|      20462|\n",
      "|2008-01-02|      20442|\n",
      "|2008-01-04|      20160|\n",
      "|2008-01-18|      20117|\n",
      "|2008-01-10|      19956|\n",
      "|2008-01-24|      19935|\n",
      "|2008-01-11|      19825|\n",
      "|2008-01-25|      19787|\n",
      "|2008-01-07|      19762|\n",
      "|2008-01-21|      19658|\n",
      "|2008-01-28|      19493|\n",
      "|2008-01-09|      19443|\n",
      "|2008-01-17|      19401|\n",
      "|2008-01-14|      19267|\n",
      "|2008-01-23|      19239|\n",
      "|2008-01-16|      19232|\n",
      "|2008-01-06|      19210|\n",
      "|2008-01-15|      19204|\n",
      "|2008-01-31|      19179|\n",
      "|2008-01-08|      19140|\n",
      "+----------+-----------+\n",
      "only showing top 20 rows\n",
      "\n"
     ]
    }
   ],
   "source": [
    "airtraffic_df. \\\n",
    "filter(col('Cancelled') == 0). \\\n",
    "withColumn('FlightDate', to_date(concat_ws('-', 'year', lpad('month', 2, '0'), lpad('dayOfMonth', 2, '0')))). \\\n",
    "groupBy('FlightDate'). \\\n",
    "agg(count('*').alias('flightCount')). \\\n",
    "orderBy(col('flightCount').desc(), col('FlightDate')). \\\n",
    "show()"
   ]
  },
  {
   "cell_type": "code",
   "execution_count": 127,
   "id": "3a77215c-bfbd-4313-aa65-809a98fbd707",
   "metadata": {},
   "outputs": [
    {
     "name": "stdout",
     "output_type": "stream",
     "text": [
      "+------+------+------+------+-----+--------------+----------------+-----------+\n",
      "|emp_id|f_name|l_name|   sal|bonus|       country|          ph_num|        ssn|\n",
      "+------+------+------+------+-----+--------------+----------------+-----------+\n",
      "|     1| Scott| Tiger|1000.0|   10| united states| +1 123 456 7890|123 45 6789|\n",
      "|     2| Henry|  Ford|1250.0| null|         India|+91 234 567 8901|456 78 9123|\n",
      "|     3|  Nick|Junior| 750.0|     |united KINGDOM|+44 111 111 1111|222 33 4444|\n",
      "|     4|  Bill| Gomes|1500.0|   10|     AUSTRALIA|+61 987 654 3210|789 12 6118|\n",
      "+------+------+------+------+-----+--------------+----------------+-----------+\n",
      "\n"
     ]
    }
   ],
   "source": [
    "emp_bonus_df.show()"
   ]
  },
  {
   "cell_type": "markdown",
   "id": "3cf9882a-14c6-4fb3-a6ce-8f9c47384702",
   "metadata": {},
   "source": [
    "sort the above data by country but **US should always be on top**"
   ]
  },
  {
   "cell_type": "code",
   "execution_count": 129,
   "id": "9a51005f-2240-48bd-b01a-b38fa5b6c885",
   "metadata": {},
   "outputs": [
    {
     "name": "stdout",
     "output_type": "stream",
     "text": [
      "+------+------+------+------+-----+--------------+----------------+-----------+----------+\n",
      "|emp_id|f_name|l_name|   sal|bonus|       country|          ph_num|        ssn|sortColumn|\n",
      "+------+------+------+------+-----+--------------+----------------+-----------+----------+\n",
      "|     1| Scott| Tiger|1000.0|   10| united states| +1 123 456 7890|123 45 6789|         0|\n",
      "|     4|  Bill| Gomes|1500.0|   10|     AUSTRALIA|+61 987 654 3210|789 12 6118|         1|\n",
      "|     2| Henry|  Ford|1250.0| null|         India|+91 234 567 8901|456 78 9123|         1|\n",
      "|     3|  Nick|Junior| 750.0|     |united KINGDOM|+44 111 111 1111|222 33 4444|         1|\n",
      "+------+------+------+------+-----+--------------+----------------+-----------+----------+\n",
      "\n"
     ]
    }
   ],
   "source": [
    "emp_bonus_df. \\\n",
    "withColumn('sortColumn', when((lower(col('country'))=='united states'), 0).otherwise(1)). \\\n",
    "sort('sortColumn', 'country') .\\\n",
    "show()"
   ]
  },
  {
   "cell_type": "code",
   "execution_count": 132,
   "id": "041c49ff-8576-426a-a5f6-b3020147040d",
   "metadata": {},
   "outputs": [],
   "source": [
    "employees_with_bonus = [(1, \"Scott\", \"Tiger\", 1000.0, 10,\n",
    "                      \"united states\", \"+1 123 456 7890\", \"123 45 6789\"\n",
    "                     ),\n",
    "                     (2, \"Henry\", \"Ford\", 1250.0, None,\n",
    "                      \"India\", \"+91 234 567 8901\", \"456 78 9123\"\n",
    "                     ),\n",
    "                     (3, \"Nick\", \"Junior\", 750.0, '',\n",
    "                      \"united KINGDOM\", \"+44 111 111 1111\", \"222 33 4444\"\n",
    "                     ),\n",
    "                     (4, \"Bill\", \"Gomes\", 1500.0, 2,\n",
    "                      \"AUSTRALIA\", \"+61 987 654 3210\", \"789 12 6118\"\n",
    "                     )\n",
    "            ]\n",
    "\n",
    "emp_bonus_df = spark.createDataFrame(employees_with_bonus, schema = \"\"\" \n",
    "    emp_id INT,f_name STRING,l_name STRING,sal FLOAT,\n",
    "    bonus STRING, country STRING,ph_num STRING,ssn STRING\n",
    "    \"\"\")"
   ]
  },
  {
   "cell_type": "code",
   "execution_count": 133,
   "id": "a23a5012-9a26-414a-a2f8-de3a474e177d",
   "metadata": {},
   "outputs": [
    {
     "name": "stdout",
     "output_type": "stream",
     "text": [
      "+------+------+------+------+-----+--------------+----------------+-----------+\n",
      "|emp_id|f_name|l_name|   sal|bonus|       country|          ph_num|        ssn|\n",
      "+------+------+------+------+-----+--------------+----------------+-----------+\n",
      "|     2| Henry|  Ford|1250.0| null|         India|+91 234 567 8901|456 78 9123|\n",
      "|     3|  Nick|Junior| 750.0|     |united KINGDOM|+44 111 111 1111|222 33 4444|\n",
      "|     1| Scott| Tiger|1000.0|   10| united states| +1 123 456 7890|123 45 6789|\n",
      "|     4|  Bill| Gomes|1500.0|    2|     AUSTRALIA|+61 987 654 3210|789 12 6118|\n",
      "+------+------+------+------+-----+--------------+----------------+-----------+\n",
      "\n"
     ]
    }
   ],
   "source": [
    "# sort by bonus\n",
    "# null and emptuy string always come at top\n",
    "# 10 came before 2 because it's sorting as string\n",
    "\n",
    "emp_bonus_df. \\\n",
    "sort(col('bonus')). \\\n",
    "show()"
   ]
  },
  {
   "cell_type": "code",
   "execution_count": 136,
   "id": "0a9be474-a81a-4b0f-857e-c765c8dbc571",
   "metadata": {},
   "outputs": [
    {
     "name": "stdout",
     "output_type": "stream",
     "text": [
      "+------+------+------+------+-----+--------------+----------------+-----------+\n",
      "|emp_id|f_name|l_name|   sal|bonus|       country|          ph_num|        ssn|\n",
      "+------+------+------+------+-----+--------------+----------------+-----------+\n",
      "|     4|  Bill| Gomes|1500.0|    2|     AUSTRALIA|+61 987 654 3210|789 12 6118|\n",
      "|     1| Scott| Tiger|1000.0|   10| united states| +1 123 456 7890|123 45 6789|\n",
      "|     2| Henry|  Ford|1250.0| null|         India|+91 234 567 8901|456 78 9123|\n",
      "|     3|  Nick|Junior| 750.0|     |united KINGDOM|+44 111 111 1111|222 33 4444|\n",
      "+------+------+------+------+-----+--------------+----------------+-----------+\n",
      "\n"
     ]
    }
   ],
   "source": [
    "# to get nulls at last\n",
    "\n",
    "emp_bonus_df. \\\n",
    "sort(col('bonus').cast('int').asc_nulls_last()). \\\n",
    "show()"
   ]
  },
  {
   "cell_type": "markdown",
   "id": "0852019f-8afb-41e5-ae61-4ce057a5ac2a",
   "metadata": {},
   "source": [
    "## Problem 1: Total number of flights which are delayed in departure and num of flights delayed in arrival\n",
    "- o/p column: FlightCount, DepDelayedCount, ArrDelayedCount"
   ]
  },
  {
   "cell_type": "code",
   "execution_count": 157,
   "id": "2bb15a4b-4d4e-48ca-9b02-faab0d9e4385",
   "metadata": {},
   "outputs": [
    {
     "name": "stdout",
     "output_type": "stream",
     "text": [
      "+-----------+---------------+---------------+\n",
      "|FlightCount|DepDelayedCount|ArrDelayedCount|\n",
      "+-----------+---------------+---------------+\n",
      "|     588366|         247905|         280663|\n",
      "+-----------+---------------+---------------+\n",
      "\n"
     ]
    }
   ],
   "source": [
    "airtraffic_df. \\\n",
    "filter((col('Cancelled') == 0)).\\\n",
    "withColumn(\n",
    "    \"depDelayedBoolean\",\n",
    "    when(((upper(col('IsDepDelayed')) == 'YES') & (col('Cancelled') == 0)), 1).otherwise(0)\n",
    "). \\\n",
    "withColumn(\n",
    "    \"arrDelayedBoolean\",\n",
    "    when(((upper(col('IsArrDelayed')) == 'YES') & (col('Cancelled') == 0)), 1).otherwise(0)\n",
    "). \\\n",
    "agg(\n",
    "    count('*').alias('FlightCount'), \n",
    "    sum('depDelayedBoolean').alias('DepDelayedCount'), \n",
    "    sum('arrDelayedBoolean').alias('ArrDelayedCount')\n",
    "). \\\n",
    "show()"
   ]
  },
  {
   "cell_type": "markdown",
   "id": "3a073830-f915-4a85-a2dd-49615d7ddff8",
   "metadata": {},
   "source": [
    "## Problem 2: Number of flights which are delayed in departure and number of flights delayed in arrival for each day along with number of flights departed for each day\n",
    "- output cols: FlightDate, FlightCount, DepDelayedCount, ArrDelayedCount\n",
    "- flight date format: YYYY-MM-dd\n",
    "- sorted in ascending order by flight date"
   ]
  },
  {
   "cell_type": "code",
   "execution_count": 165,
   "id": "92d27612-fd3e-457e-987b-84819700d552",
   "metadata": {},
   "outputs": [
    {
     "name": "stdout",
     "output_type": "stream",
     "text": [
      "+----------+-----------+---------------+---------------+\n",
      "|FlightDate|FlightCount|DepDelayedCount|ArrDelayedCount|\n",
      "+----------+-----------+---------------+---------------+\n",
      "|2008-01-01|      18623|          10501|          11173|\n",
      "|2008-01-02|      20442|          13294|          13749|\n",
      "|2008-01-03|      20462|          11819|          12013|\n",
      "|2008-01-04|      20160|           9406|           9824|\n",
      "|2008-01-05|      17610|           9051|           9345|\n",
      "|2008-01-06|      19210|          10542|          10705|\n",
      "|2008-01-07|      19762|           8122|           8683|\n",
      "|2008-01-08|      19140|           7483|           8938|\n",
      "|2008-01-09|      19443|           5962|           6857|\n",
      "|2008-01-10|      19956|           7033|           8565|\n",
      "|2008-01-11|      19825|           7255|           8164|\n",
      "|2008-01-12|      16346|           3902|           4078|\n",
      "|2008-01-13|      18587|           6634|           7473|\n",
      "|2008-01-14|      19267|           5921|           7104|\n",
      "|2008-01-15|      19204|           5304|           6389|\n",
      "|2008-01-16|      19232|           5102|           6228|\n",
      "|2008-01-17|      19401|           9635|          11229|\n",
      "|2008-01-18|      20117|          10038|          10860|\n",
      "|2008-01-19|      15373|           6399|           6810|\n",
      "|2008-01-20|      18406|           6700|           7005|\n",
      "+----------+-----------+---------------+---------------+\n",
      "only showing top 20 rows\n",
      "\n"
     ]
    }
   ],
   "source": [
    "airtraffic_df. \\\n",
    "filter(col('Cancelled') == 0). \\\n",
    "groupby(to_date(\n",
    "    concat_ws(\n",
    "        '-',\n",
    "        'year',\n",
    "        lpad('month', 2, '0'),\n",
    "        lpad('dayOfMonth', 2, '0')\n",
    "    )\n",
    ").alias('FlightDate')). \\\n",
    "agg(\n",
    "    count('*').alias('FlightCount'),\n",
    "    sum(\n",
    "        when(col('IsDepDelayed') == 'YES', 1). \\\n",
    "        otherwise(0)\n",
    "    ).alias('DepDelayedCount'),\n",
    "    sum(\n",
    "        when(col('IsArrDelayed') == 'YES', 1). \\\n",
    "        otherwise(0)\n",
    "    ).alias('ArrDelayedCount'),\n",
    "). \\\n",
    "sort('FlightDate'). \\\n",
    "show()"
   ]
  },
  {
   "cell_type": "code",
   "execution_count": null,
   "id": "13a24ac6-53f3-4c08-b3e5-268fe2a4938c",
   "metadata": {},
   "outputs": [],
   "source": []
  }
 ],
 "metadata": {
  "kernelspec": {
   "display_name": "Python 3 (ipykernel)",
   "language": "python",
   "name": "python3"
  },
  "language_info": {
   "codemirror_mode": {
    "name": "ipython",
    "version": 3
   },
   "file_extension": ".py",
   "mimetype": "text/x-python",
   "name": "python",
   "nbconvert_exporter": "python",
   "pygments_lexer": "ipython3",
   "version": "3.8.11"
  }
 },
 "nbformat": 4,
 "nbformat_minor": 5
}
