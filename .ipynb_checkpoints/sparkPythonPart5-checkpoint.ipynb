{
 "cells": [
  {
   "cell_type": "code",
   "execution_count": 2,
   "id": "3ef91c94-9ebd-498b-9e5a-eca81d04b8dd",
   "metadata": {},
   "outputs": [],
   "source": [
    "import os\n",
    "import sys\n",
    "from pyspark.sql import SparkSession\n",
    "\n",
    "os.environ[\"HADOOP_HOME\"] = \"C:\\\\Users\\\\SkJain\\\\Downloads\\\\Compressed\\\\winutils-master\\\\hadoop-3.2.2\"\n",
    "os.environ[\"PYSPARK_PYTHON\"] = \"python\"\n",
    "sys.path.append('C:\\\\Users\\\\SkJain\\\\Downloads\\\\Compressed\\\\winutils-master\\\\hadoop-3.2.2\\\\bin')"
   ]
  },
  {
   "cell_type": "code",
   "execution_count": 3,
   "id": "8759ba1e-4acd-4500-bf82-78601d96739b",
   "metadata": {},
   "outputs": [],
   "source": [
    "spark = SparkSession. \\\n",
    "    builder. \\\n",
    "    config(\"spark.ui.port\", \"0\"). \\\n",
    "    enableHiveSupport(). \\\n",
    "    appName('Pyspark - Part 4'). \\\n",
    "    master('local'). \\\n",
    "    getOrCreate()"
   ]
  },
  {
   "cell_type": "code",
   "execution_count": 4,
   "id": "b5f90a6f-6a4a-44ab-a735-57d3eadbcfa4",
   "metadata": {},
   "outputs": [
    {
     "data": {
      "text/plain": [
       "<pyspark.sql.catalog.Catalog at 0x23c4020c310>"
      ]
     },
     "execution_count": 4,
     "metadata": {},
     "output_type": "execute_result"
    }
   ],
   "source": [
    "spark.catalog"
   ]
  },
  {
   "cell_type": "code",
   "execution_count": 8,
   "id": "23fb0c76-0c52-456f-8a33-879a37861b27",
   "metadata": {},
   "outputs": [
    {
     "name": "stdout",
     "output_type": "stream",
     "text": [
      "default\n",
      "nysedb\n",
      "siddhantdb\n"
     ]
    }
   ],
   "source": [
    "for db in spark.catalog.listDatabases():\n",
    "    print(db.name)"
   ]
  },
  {
   "cell_type": "code",
   "execution_count": 9,
   "id": "aeff97c3-94e2-4ee0-af2f-9ec111b877a8",
   "metadata": {},
   "outputs": [
    {
     "data": {
      "text/plain": [
       "DataFrame[]"
      ]
     },
     "execution_count": 9,
     "metadata": {},
     "output_type": "execute_result"
    }
   ],
   "source": [
    "spark.sql(\"CREATE DATABASE IF NOT EXISTS catalogdemodb\")"
   ]
  },
  {
   "cell_type": "code",
   "execution_count": 10,
   "id": "b13cd1f0-bdff-4af5-b406-44f46a55c6e2",
   "metadata": {},
   "outputs": [
    {
     "name": "stdout",
     "output_type": "stream",
     "text": [
      "catalogdemodb\n",
      "default\n",
      "nysedb\n",
      "siddhantdb\n"
     ]
    }
   ],
   "source": [
    "for db in spark.catalog.listDatabases():\n",
    "    print(db.name)"
   ]
  },
  {
   "cell_type": "code",
   "execution_count": 11,
   "id": "03b2b52f-4968-4797-ba40-1f3a144a52e4",
   "metadata": {},
   "outputs": [],
   "source": [
    "spark.catalog.setCurrentDatabase('catalogdemodb')"
   ]
  },
  {
   "cell_type": "code",
   "execution_count": 12,
   "id": "77e14cc1-d25b-4e9a-ad6d-79fbd54be323",
   "metadata": {},
   "outputs": [
    {
     "data": {
      "text/plain": [
       "'catalogdemodb'"
      ]
     },
     "execution_count": 12,
     "metadata": {},
     "output_type": "execute_result"
    }
   ],
   "source": [
    "spark.catalog.currentDatabase()"
   ]
  },
  {
   "cell_type": "code",
   "execution_count": 13,
   "id": "56b98c56-9492-4e3a-99bb-8871dacb1bad",
   "metadata": {},
   "outputs": [],
   "source": [
    "l = [('X',)]\n",
    "df = spark.createDataFrame(l, schema=\"dummy STRING\")"
   ]
  },
  {
   "cell_type": "code",
   "execution_count": 14,
   "id": "ceb35813-244c-4ccc-9222-d58129ab162c",
   "metadata": {},
   "outputs": [],
   "source": [
    "df.write.saveAsTable(\"dummy\", mode='overwrite')"
   ]
  },
  {
   "cell_type": "code",
   "execution_count": 15,
   "id": "0e3600e9-4033-470f-845c-0a2196930824",
   "metadata": {},
   "outputs": [
    {
     "data": {
      "text/plain": [
       "[Table(name='dummy', database='catalogdemodb', description=None, tableType='MANAGED', isTemporary=False)]"
      ]
     },
     "execution_count": 15,
     "metadata": {},
     "output_type": "execute_result"
    }
   ],
   "source": [
    "spark.catalog.listTables()"
   ]
  },
  {
   "cell_type": "code",
   "execution_count": 17,
   "id": "b3ce65f9-f5c6-4bfe-bd48-d26764ba1fa9",
   "metadata": {},
   "outputs": [],
   "source": [
    "spark.catalog.setCurrentDatabase('nysedb')"
   ]
  },
  {
   "cell_type": "code",
   "execution_count": 18,
   "id": "c0c9e9ac-2b16-4eb5-936d-4d3acbbe98f5",
   "metadata": {},
   "outputs": [
    {
     "data": {
      "text/plain": [
       "[Table(name='lines', database='nysedb', description=None, tableType='MANAGED', isTemporary=False),\n",
       " Table(name='nyse_eod', database='nysedb', description=None, tableType='MANAGED', isTemporary=False),\n",
       " Table(name='nyse_eod_part', database='nysedb', description=None, tableType='MANAGED', isTemporary=False)]"
      ]
     },
     "execution_count": 18,
     "metadata": {},
     "output_type": "execute_result"
    }
   ],
   "source": [
    "spark.catalog.listTables()"
   ]
  },
  {
   "cell_type": "code",
   "execution_count": 20,
   "id": "f30014c7-feb4-4487-86a7-9484a16f0a66",
   "metadata": {},
   "outputs": [
    {
     "name": "stdout",
     "output_type": "stream",
     "text": [
      "+-----------+---------+---------+---------+--------+----------+------+\n",
      "|stockticker|tradeDate|openprice|highprice|lowprice|closeprice|volume|\n",
      "+-----------+---------+---------+---------+--------+----------+------+\n",
      "|         AA| 19970101|    47.82|    47.82|   47.82|     47.82|     0|\n",
      "|        ABC| 19970101|     6.03|     6.03|    6.03|      6.03|     0|\n",
      "|        ABM| 19970101|     9.25|     9.25|    9.25|      9.25|     0|\n",
      "|        ABT| 19970101|    25.37|    25.37|   25.37|     25.37|     0|\n",
      "|        ABX| 19970101|    28.75|    28.75|   28.75|     28.75|     0|\n",
      "|        ACP| 19970101|     9.12|     9.12|    9.12|      9.12|     0|\n",
      "|        ACV| 19970101|     16.0|     16.0|    16.0|      16.0|     0|\n",
      "|        ADC| 19970101|    21.37|    21.37|   21.37|     21.37|     0|\n",
      "|        ADM| 19970101|    17.24|    17.24|   17.24|     17.24|     0|\n",
      "|        ADX| 19970101|    13.16|    13.16|   13.16|     13.16|     0|\n",
      "|        AED| 19970101|     31.5|     31.5|    31.5|      31.5|     0|\n",
      "|        AEE| 19970101|     38.5|     38.5|    38.5|      38.5|     0|\n",
      "|        AEG| 19970101|     15.2|     15.2|    15.2|      15.2|     0|\n",
      "|        AEM| 19970101|     14.0|     14.0|    14.0|      14.0|     0|\n",
      "|        AEP| 19970101|    41.12|    41.12|   41.12|     41.12|     0|\n",
      "|        AES| 19970101|    11.62|    11.62|   11.62|     11.62|     0|\n",
      "|         AF| 19970101|    12.29|    12.29|   12.29|     12.29|     0|\n",
      "|        AFG| 19970101|   25.179|   25.179|  25.179|    25.179|     0|\n",
      "|        AFL| 19970101|    10.69|    10.69|   10.69|     10.69|     0|\n",
      "|         AG| 19970101|    28.62|    28.62|   28.62|     28.62|     0|\n",
      "+-----------+---------+---------+---------+--------+----------+------+\n",
      "only showing top 20 rows\n",
      "\n"
     ]
    }
   ],
   "source": [
    "spark.read.table('nyse_eod').show()"
   ]
  },
  {
   "cell_type": "code",
   "execution_count": 21,
   "id": "ebb4b96c-d44d-4eef-8645-76f10f531b06",
   "metadata": {},
   "outputs": [],
   "source": [
    "spark.catalog.setCurrentDatabase('catalogdemodb')"
   ]
  },
  {
   "cell_type": "code",
   "execution_count": 22,
   "id": "c8608bdd-3f0d-432f-b65a-0d1b137af003",
   "metadata": {},
   "outputs": [
    {
     "data": {
      "text/plain": [
       "[Table(name='dummy', database='catalogdemodb', description=None, tableType='MANAGED', isTemporary=False)]"
      ]
     },
     "execution_count": 22,
     "metadata": {},
     "output_type": "execute_result"
    }
   ],
   "source": [
    "spark.catalog.listTables()"
   ]
  },
  {
   "cell_type": "code",
   "execution_count": 23,
   "id": "83f8b726-e17d-4d97-b8b8-ffc3cba5ac03",
   "metadata": {},
   "outputs": [
    {
     "data": {
      "text/plain": [
       "DataFrame[]"
      ]
     },
     "execution_count": 23,
     "metadata": {},
     "output_type": "execute_result"
    }
   ],
   "source": [
    "spark.sql(\"DROP TABLE IF EXISTS dummy\")"
   ]
  },
  {
   "cell_type": "code",
   "execution_count": 24,
   "id": "d22e6515-bd40-4384-a38c-7445362c66bf",
   "metadata": {},
   "outputs": [
    {
     "data": {
      "text/plain": [
       "[]"
      ]
     },
     "execution_count": 24,
     "metadata": {},
     "output_type": "execute_result"
    }
   ],
   "source": [
    "spark.catalog.listTables()"
   ]
  },
  {
   "cell_type": "code",
   "execution_count": 25,
   "id": "7d8efa91-5773-4ec5-89c1-f719362cd995",
   "metadata": {},
   "outputs": [
    {
     "data": {
      "text/plain": [
       "DataFrame[dummy: string]"
      ]
     },
     "execution_count": 25,
     "metadata": {},
     "output_type": "execute_result"
    }
   ],
   "source": [
    "spark.catalog.createTable('dual', schema=df.schema)"
   ]
  },
  {
   "cell_type": "code",
   "execution_count": 26,
   "id": "9d62bb7f-cbc1-4508-977b-64b55722f35e",
   "metadata": {},
   "outputs": [
    {
     "data": {
      "text/plain": [
       "[Table(name='dual', database='catalogdemodb', description=None, tableType='MANAGED', isTemporary=False)]"
      ]
     },
     "execution_count": 26,
     "metadata": {},
     "output_type": "execute_result"
    }
   ],
   "source": [
    "spark.catalog.listTables()"
   ]
  },
  {
   "cell_type": "code",
   "execution_count": 27,
   "id": "67be75b6-210d-4d67-90b1-ce37fb3216c8",
   "metadata": {},
   "outputs": [],
   "source": [
    "df.write.insertInto(\"dual\")"
   ]
  },
  {
   "cell_type": "code",
   "execution_count": 30,
   "id": "f798abce-c34e-4e5e-b5fc-403217729428",
   "metadata": {},
   "outputs": [
    {
     "name": "stdout",
     "output_type": "stream",
     "text": [
      "+-----+\n",
      "|dummy|\n",
      "+-----+\n",
      "|    X|\n",
      "+-----+\n",
      "\n"
     ]
    }
   ],
   "source": [
    "spark.sql(\"SELECT * FROM dual\").show()"
   ]
  },
  {
   "cell_type": "code",
   "execution_count": 31,
   "id": "e722c193-d304-43af-89f4-dac1d43852e2",
   "metadata": {},
   "outputs": [
    {
     "data": {
      "text/plain": [
       "DataFrame[]"
      ]
     },
     "execution_count": 31,
     "metadata": {},
     "output_type": "execute_result"
    }
   ],
   "source": [
    "spark.sql(\"DROP DATABASE IF EXISTS catalogdemodb CASCADE\")"
   ]
  },
  {
   "cell_type": "code",
   "execution_count": 32,
   "id": "abf7004e-d25d-4874-b04b-fddaecbeede3",
   "metadata": {},
   "outputs": [
    {
     "data": {
      "text/plain": [
       "[Database(name='default', description='Default Hive database', locationUri='file:/C:/Users/SkJain/Documents/BigDataStackWorkspace/SparkLearn/ApacheSpark-Notes-and-Resources/spark-warehouse'),\n",
       " Database(name='nysedb', description='', locationUri='file:/C:/Users/SkJain/Documents/BigDataStackWorkspace/SparkLearn/ApacheSpark-Notes-and-Resources/spark-warehouse/nysedb.db'),\n",
       " Database(name='siddhantdb', description='', locationUri='file:/C:/Users/SkJain/Documents/BigDataStackWorkspace/SparkLearn/ApacheSpark-Notes-and-Resources/spark-warehouse/siddhantdb.db')]"
      ]
     },
     "execution_count": 32,
     "metadata": {},
     "output_type": "execute_result"
    }
   ],
   "source": [
    "spark.catalog.listDatabases()"
   ]
  },
  {
   "cell_type": "markdown",
   "id": "b910f7b2-8b6b-49c8-82ed-1a755c72f9af",
   "metadata": {},
   "source": [
    "## Manually creating Schema"
   ]
  },
  {
   "cell_type": "code",
   "execution_count": 33,
   "id": "3cf9e896-1def-4c74-ba68-c8b658fd1ca4",
   "metadata": {},
   "outputs": [],
   "source": [
    "from pyspark.sql.types import StructField, StructType, IntegerType, FloatType, StringType"
   ]
  },
  {
   "cell_type": "code",
   "execution_count": 34,
   "id": "1cc807bc-fc39-49fd-9f72-60915a6396fc",
   "metadata": {},
   "outputs": [],
   "source": [
    "empSchema = StructType([\n",
    "    StructField(\"emp_id\", IntegerType()),\n",
    "    StructField(\"f_name\", StringType()),\n",
    "    StructField(\"l_name\", StringType()),\n",
    "    StructField(\"sal\", FloatType()),\n",
    "    StructField(\"nation\", StringType())\n",
    "])"
   ]
  },
  {
   "cell_type": "code",
   "execution_count": 35,
   "id": "6b60d5e9-406d-4db5-b40b-03cbef50fa69",
   "metadata": {},
   "outputs": [
    {
     "data": {
      "text/plain": [
       "StructType(List(StructField(emp_id,IntegerType,true),StructField(f_name,StringType,true),StructField(l_name,StringType,true),StructField(sal,FloatType,true),StructField(nation,StringType,true)))"
      ]
     },
     "execution_count": 35,
     "metadata": {},
     "output_type": "execute_result"
    }
   ],
   "source": [
    "empSchema"
   ]
  },
  {
   "cell_type": "code",
   "execution_count": 36,
   "id": "2668b06d-00ad-4b51-b84c-7928fb5849f5",
   "metadata": {},
   "outputs": [
    {
     "data": {
      "text/plain": [
       "'struct<emp_id:int,f_name:string,l_name:string,sal:float,nation:string>'"
      ]
     },
     "execution_count": 36,
     "metadata": {},
     "output_type": "execute_result"
    }
   ],
   "source": [
    "empSchema.simpleString()"
   ]
  },
  {
   "cell_type": "markdown",
   "id": "c1e11fa0-6916-455f-b132-6cd63bf75132",
   "metadata": {},
   "source": [
    "### save data with partition\n",
    "\n",
    "df.write.partitionBy('colName').csv('')"
   ]
  },
  {
   "cell_type": "code",
   "execution_count": 37,
   "id": "c198020c-d673-4f1b-8afe-ecb17d832c2e",
   "metadata": {},
   "outputs": [],
   "source": [
    "#lot of topic from spark metastore not tried here. Might have to study again"
   ]
  },
  {
   "cell_type": "code",
   "execution_count": null,
   "id": "24178cf2-6498-405e-acbd-be7f8d35409f",
   "metadata": {},
   "outputs": [],
   "source": []
  }
 ],
 "metadata": {
  "kernelspec": {
   "display_name": "Python 3 (ipykernel)",
   "language": "python",
   "name": "python3"
  },
  "language_info": {
   "codemirror_mode": {
    "name": "ipython",
    "version": 3
   },
   "file_extension": ".py",
   "mimetype": "text/x-python",
   "name": "python",
   "nbconvert_exporter": "python",
   "pygments_lexer": "ipython3",
   "version": "3.8.11"
  }
 },
 "nbformat": 4,
 "nbformat_minor": 5
}
