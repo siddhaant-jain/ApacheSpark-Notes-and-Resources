{
 "cells": [
  {
   "cell_type": "code",
   "execution_count": 1,
   "id": "5a0a399b-1374-4130-ad7b-359c4bd72c00",
   "metadata": {},
   "outputs": [],
   "source": [
    "import os\n",
    "import sys\n",
    "from pyspark.sql import SparkSession\n",
    "\n",
    "os.environ[\"HADOOP_HOME\"] = \"C:\\\\Users\\\\SkJain\\\\Downloads\\\\Compressed\\\\winutils-master\\\\hadoop-3.2.2\"\n",
    "os.environ[\"PYSPARK_PYTHON\"] = \"python\"\n",
    "sys.path.append('C:\\\\Users\\\\SkJain\\\\Downloads\\\\Compressed\\\\winutils-master\\\\hadoop-3.2.2\\\\bin')"
   ]
  },
  {
   "cell_type": "code",
   "execution_count": 2,
   "id": "193ec4fe-6423-4352-824c-2cf1bd37baef",
   "metadata": {},
   "outputs": [],
   "source": [
    "spark = SparkSession. \\\n",
    "    builder. \\\n",
    "    config(\"spark.ui.port\", \"0\"). \\\n",
    "    enableHiveSupport(). \\\n",
    "    appName('Pyspark - Part 2'). \\\n",
    "    master('local'). \\\n",
    "    getOrCreate()"
   ]
  },
  {
   "cell_type": "code",
   "execution_count": 3,
   "id": "7937669c-a804-4ac8-b593-b27ab22bbb0f",
   "metadata": {},
   "outputs": [],
   "source": [
    "from pyspark.sql.functions import *"
   ]
  },
  {
   "cell_type": "markdown",
   "id": "3da21f32-09d7-413a-a4e7-4febd5fb0272",
   "metadata": {},
   "source": [
    "### Create dummy data"
   ]
  },
  {
   "cell_type": "code",
   "execution_count": 4,
   "id": "5ca0e6eb-5dad-4672-9eec-3decb22b93be",
   "metadata": {},
   "outputs": [],
   "source": [
    "#same as oracle style (discussed in spark sql)\n",
    "l = [('X',)] # a list with one tuple with column with value X \n",
    "# the comma after 'X' is important to make it a tuple"
   ]
  },
  {
   "cell_type": "code",
   "execution_count": 7,
   "id": "781219b6-7e8b-4140-aca0-e30a966931b8",
   "metadata": {},
   "outputs": [],
   "source": [
    "df = spark.createDataFrame(l, \"dummy STRING\")"
   ]
  },
  {
   "cell_type": "code",
   "execution_count": 8,
   "id": "177d06b0-afe6-4896-9f31-03daec62f15e",
   "metadata": {},
   "outputs": [
    {
     "name": "stdout",
     "output_type": "stream",
     "text": [
      "+-----+\n",
      "|dummy|\n",
      "+-----+\n",
      "|    X|\n",
      "+-----+\n",
      "\n"
     ]
    }
   ],
   "source": [
    "df.show()"
   ]
  },
  {
   "cell_type": "code",
   "execution_count": 10,
   "id": "4ed502cb-d42a-4b8f-824d-b13dcb8bd8ea",
   "metadata": {},
   "outputs": [
    {
     "name": "stdout",
     "output_type": "stream",
     "text": [
      "root\n",
      " |-- dummy: string (nullable = true)\n",
      "\n"
     ]
    }
   ],
   "source": [
    "df.printSchema()"
   ]
  },
  {
   "cell_type": "code",
   "execution_count": 12,
   "id": "b2a86772-a475-4389-a002-62c754bff705",
   "metadata": {},
   "outputs": [],
   "source": [
    "employees = [(1, \"Scott\", \"Tiger\", 1000.0, \n",
    "                      \"united states\", \"+1 123 456 7890\", \"123 45 6789\"\n",
    "                     ),\n",
    "                     (2, \"Henry\", \"Ford\", 1250.0, \n",
    "                      \"India\", \"+91 234 567 8901\", \"456 78 9123\"\n",
    "                     ),\n",
    "                     (3, \"Nick\", \"Junior\", 750.0, \n",
    "                      \"united KINGDOM\", \"+44 111 111 1111\", \"222 33 4444\"\n",
    "                     ),\n",
    "                     (4, \"Bill\", \"Gomes\", 1500.0, \n",
    "                      \"AUSTRALIA\", \"+61 987 654 3210\", \"789 12 6118\"\n",
    "                     )\n",
    "            ]"
   ]
  },
  {
   "cell_type": "code",
   "execution_count": 13,
   "id": "56ae90c8-377e-4c5a-a554-794202b54714",
   "metadata": {},
   "outputs": [
    {
     "data": {
      "text/plain": [
       "4"
      ]
     },
     "execution_count": 13,
     "metadata": {},
     "output_type": "execute_result"
    }
   ],
   "source": [
    " len(employees)"
   ]
  },
  {
   "cell_type": "code",
   "execution_count": 14,
   "id": "429ca211-b64a-4bdf-a9c0-2bf2693e9639",
   "metadata": {},
   "outputs": [],
   "source": [
    "emp_dummy_df = spark.createDataFrame(\n",
    "    employees,\n",
    "    schema = \"\"\" \n",
    "    emp_id INT,f_name STRING,l_name STRING,sal FLOAT,\n",
    "    country STRING,ph_num STRING,ssn STRING\n",
    "    \"\"\"\n",
    ")"
   ]
  },
  {
   "cell_type": "code",
   "execution_count": 15,
   "id": "37cd32b0-eac2-4297-9483-18dc32e55637",
   "metadata": {},
   "outputs": [
    {
     "name": "stdout",
     "output_type": "stream",
     "text": [
      "root\n",
      " |-- emp_id: integer (nullable = true)\n",
      " |-- f_name: string (nullable = true)\n",
      " |-- l_name: string (nullable = true)\n",
      " |-- sal: float (nullable = true)\n",
      " |-- country: string (nullable = true)\n",
      " |-- ph_num: string (nullable = true)\n",
      " |-- ssn: string (nullable = true)\n",
      "\n"
     ]
    }
   ],
   "source": [
    "emp_dummy_df.printSchema()"
   ]
  },
  {
   "cell_type": "code",
   "execution_count": 16,
   "id": "fbf17ae0-d015-4dbb-8ed1-bfff99435d14",
   "metadata": {},
   "outputs": [
    {
     "name": "stdout",
     "output_type": "stream",
     "text": [
      "+------+------+------+------+--------------+----------------+-----------+\n",
      "|emp_id|f_name|l_name|   sal|       country|          ph_num|        ssn|\n",
      "+------+------+------+------+--------------+----------------+-----------+\n",
      "|     1| Scott| Tiger|1000.0| united states| +1 123 456 7890|123 45 6789|\n",
      "|     2| Henry|  Ford|1250.0|         India|+91 234 567 8901|456 78 9123|\n",
      "|     3|  Nick|Junior| 750.0|united KINGDOM|+44 111 111 1111|222 33 4444|\n",
      "|     4|  Bill| Gomes|1500.0|     AUSTRALIA|+61 987 654 3210|789 12 6118|\n",
      "+------+------+------+------+--------------+----------------+-----------+\n",
      "\n"
     ]
    }
   ],
   "source": [
    "emp_dummy_df.show()"
   ]
  },
  {
   "cell_type": "markdown",
   "id": "a2cb3b32-038a-427c-afba-bfef7803cfce",
   "metadata": {},
   "source": [
    "## Categories of Functions\n",
    "These are 4 broad categories. Total there are ove 300 in-built functions\n",
    "- String Manipulation\n",
    "- Date Manipulation\n",
    "- Aggregate\n",
    "- Other Functions"
   ]
  },
  {
   "cell_type": "markdown",
   "id": "ebedd540-46c2-4492-8af2-d17a80c142da",
   "metadata": {},
   "source": [
    "### Special Functions: col and lit"
   ]
  },
  {
   "cell_type": "code",
   "execution_count": 17,
   "id": "38c400d9-7686-4e6f-9477-5958ae1e0871",
   "metadata": {},
   "outputs": [
    {
     "name": "stdout",
     "output_type": "stream",
     "text": [
      "+------+--------------+\n",
      "|f_name|       country|\n",
      "+------+--------------+\n",
      "| Scott| united states|\n",
      "| Henry|         India|\n",
      "|  Nick|united KINGDOM|\n",
      "|  Bill|     AUSTRALIA|\n",
      "+------+--------------+\n",
      "\n"
     ]
    }
   ],
   "source": [
    "# we can use column names as strings when passing to select, groupby, order by etc.\n",
    "emp_dummy_df. \\\n",
    "select(\"f_name\", \"country\"). \\\n",
    "show(5)"
   ]
  },
  {
   "cell_type": "code",
   "execution_count": 18,
   "id": "bf7217f2-5f5d-48a3-9d51-c86ddf2ab29c",
   "metadata": {},
   "outputs": [
    {
     "name": "stdout",
     "output_type": "stream",
     "text": [
      "+------+--------------+\n",
      "|f_name|       country|\n",
      "+------+--------------+\n",
      "| Scott| united states|\n",
      "| Henry|         India|\n",
      "|  Nick|united KINGDOM|\n",
      "|  Bill|     AUSTRALIA|\n",
      "+------+--------------+\n",
      "\n"
     ]
    }
   ],
   "source": [
    "#if there are no transformations, then we can pass all column as strings \n",
    "# otherwise we need to pass all columns as type column using col function\n",
    "from pyspark.sql.functions import col\n",
    "emp_dummy_df. \\\n",
    "select(col(\"f_name\"), col(\"country\")). \\\n",
    "show(5)"
   ]
  },
  {
   "cell_type": "code",
   "execution_count": 19,
   "id": "75523ae9-3649-4dae-b17d-0d075f7b854a",
   "metadata": {},
   "outputs": [
    {
     "name": "stdout",
     "output_type": "stream",
     "text": [
      "+-------------+--------------+\n",
      "|upper(f_name)|upper(country)|\n",
      "+-------------+--------------+\n",
      "|        SCOTT| UNITED STATES|\n",
      "|        HENRY|         INDIA|\n",
      "|         NICK|UNITED KINGDOM|\n",
      "|         BILL|     AUSTRALIA|\n",
      "+-------------+--------------+\n",
      "\n"
     ]
    }
   ],
   "source": [
    "#above eg works without col also, but if we apply any function then it won't.\n",
    "# example given below:\n",
    "from pyspark.sql.functions import upper\n",
    "emp_dummy_df. \\\n",
    "select(upper(\"f_name\"), upper(\"country\")). \\\n",
    "show(5)"
   ]
  },
  {
   "cell_type": "code",
   "execution_count": 20,
   "id": "e2b3dcd8-a746-45c0-bf00-272898950da6",
   "metadata": {},
   "outputs": [
    {
     "name": "stdout",
     "output_type": "stream",
     "text": [
      "+-------------+--------------+\n",
      "|upper(f_name)|upper(country)|\n",
      "+-------------+--------------+\n",
      "|        SCOTT| UNITED STATES|\n",
      "|        HENRY|         INDIA|\n",
      "|         NICK|UNITED KINGDOM|\n",
      "|         BILL|     AUSTRALIA|\n",
      "+-------------+--------------+\n",
      "\n"
     ]
    }
   ],
   "source": [
    "emp_dummy_df. \\\n",
    "select(upper(col(\"f_name\")), upper(col(\"country\"))). \\\n",
    "show(5)"
   ]
  },
  {
   "cell_type": "code",
   "execution_count": 21,
   "id": "85aa666f-ce97-4306-bdd6-42cd271146d3",
   "metadata": {},
   "outputs": [
    {
     "name": "stdout",
     "output_type": "stream",
     "text": [
      "+------+--------------+\n",
      "|f_name|       country|\n",
      "+------+--------------+\n",
      "| Scott| united states|\n",
      "| Henry|         India|\n",
      "|  Nick|united KINGDOM|\n",
      "|  Bill|     AUSTRALIA|\n",
      "+------+--------------+\n",
      "\n"
     ]
    }
   ],
   "source": [
    "# another way of usnig\n",
    "#df_name[col_name] also return a col type\n",
    "\n",
    "emp_dummy_df. \\\n",
    "select(emp_dummy_df[\"f_name\"], col(\"country\")). \\\n",
    "show(5)"
   ]
  },
  {
   "cell_type": "code",
   "execution_count": 24,
   "id": "a87247e9-48dc-4235-a66d-4bd9837925a0",
   "metadata": {},
   "outputs": [
    {
     "name": "stdout",
     "output_type": "stream",
     "text": [
      "+--------------------------+\n",
      "|concat(f_name, -, country)|\n",
      "+--------------------------+\n",
      "|       Scott-united states|\n",
      "|               Henry-India|\n",
      "|       Nick-united KINGDOM|\n",
      "|            Bill-AUSTRALIA|\n",
      "+--------------------------+\n",
      "\n"
     ]
    }
   ],
   "source": [
    "# lit is used to add a literal \n",
    "# since strings are treated as column names in select, group by etc\n",
    "# if we pass a literal, it will try to seach it in column names, for that we can use lit()\n",
    "from pyspark.sql.functions import concat, lit\n",
    "emp_dummy_df. \\\n",
    "select(concat(emp_dummy_df[\"f_name\"], lit('-'), col(\"country\"))). \\\n",
    "show(5)"
   ]
  },
  {
   "cell_type": "markdown",
   "id": "79442046-4b17-4c0d-9fc2-d5b3190a9e1b",
   "metadata": {},
   "source": [
    "### Common string manipulation functions\n",
    "- concat\n",
    "- upper, lower, initcap, length\n",
    "- substring\n",
    "- split\n",
    "- padding\n",
    "- trimming"
   ]
  },
  {
   "cell_type": "code",
   "execution_count": 38,
   "id": "843f3fa9-4919-42f8-bced-e708b7d8648b",
   "metadata": {},
   "outputs": [
    {
     "name": "stdout",
     "output_type": "stream",
     "text": [
      "+----------+--------------+\n",
      "|  fullName|       country|\n",
      "+----------+--------------+\n",
      "|ScottTiger| united states|\n",
      "| HenryFord|         India|\n",
      "|NickJunior|united KINGDOM|\n",
      "| BillGomes|     AUSTRALIA|\n",
      "+----------+--------------+\n",
      "\n"
     ]
    }
   ],
   "source": [
    "emp_dummy_df. \\\n",
    "select(concat(\"f_name\", \"l_name\").alias(\"fullName\"), \"country\"). \\\n",
    "show(5)"
   ]
  },
  {
   "cell_type": "code",
   "execution_count": 29,
   "id": "619f4bc7-00b6-4eb0-9378-e381e79b330a",
   "metadata": {},
   "outputs": [
    {
     "name": "stdout",
     "output_type": "stream",
     "text": [
      "+------+------+------+------+--------------+----------------+-----------+-----------+\n",
      "|emp_id|f_name|l_name|   sal|       country|          ph_num|        ssn|   fullName|\n",
      "+------+------+------+------+--------------+----------------+-----------+-----------+\n",
      "|     1| Scott| Tiger|1000.0| united states| +1 123 456 7890|123 45 6789|Scott Tiger|\n",
      "|     2| Henry|  Ford|1250.0|         India|+91 234 567 8901|456 78 9123| Henry Ford|\n",
      "|     3|  Nick|Junior| 750.0|united KINGDOM|+44 111 111 1111|222 33 4444|Nick Junior|\n",
      "|     4|  Bill| Gomes|1500.0|     AUSTRALIA|+61 987 654 3210|789 12 6118| Bill Gomes|\n",
      "+------+------+------+------+--------------+----------------+-----------+-----------+\n",
      "\n"
     ]
    }
   ],
   "source": [
    "emp_dummy_df. \\\n",
    "withColumn(\"fullName\", concat(\"f_name\", lit(' '), \"l_name\")). \\\n",
    "show(5)"
   ]
  },
  {
   "cell_type": "code",
   "execution_count": 34,
   "id": "8fd631ab-0546-4729-9144-36ae75a6bed4",
   "metadata": {},
   "outputs": [
    {
     "name": "stdout",
     "output_type": "stream",
     "text": [
      "+------+-----------+--------------+--------------+--------------+--------------+---------------+\n",
      "|emp_id|   fullName|       country|  upperCountry|  lowerCountry|  camelCountry|lengthOfCountry|\n",
      "+------+-----------+--------------+--------------+--------------+--------------+---------------+\n",
      "|     1|Scott Tiger| united states| UNITED STATES| united states| United States|             13|\n",
      "|     2| Henry Ford|         India|         INDIA|         india|         India|              5|\n",
      "|     3|Nick Junior|united KINGDOM|UNITED KINGDOM|united kingdom|United Kingdom|             14|\n",
      "|     4| Bill Gomes|     AUSTRALIA|     AUSTRALIA|     australia|     Australia|              9|\n",
      "+------+-----------+--------------+--------------+--------------+--------------+---------------+\n",
      "\n"
     ]
    }
   ],
   "source": [
    "emp_dummy_df. \\\n",
    "    withColumn(\"fullName\", concat(\"f_name\", lit(' '), \"l_name\")). \\\n",
    "    select(\"emp_id\", \"fullName\", \"country\"). \\\n",
    "    withColumn(\"upperCountry\", upper(col(\"country\"))). \\\n",
    "    withColumn(\"lowerCountry\", lower(col(\"country\"))). \\\n",
    "    withColumn(\"camelCountry\", initcap(col(\"country\"))).  \\\n",
    "    withColumn(\"lengthOfCountry\", length(col(\"country\"))). \\\n",
    "    show()"
   ]
  },
  {
   "cell_type": "code",
   "execution_count": 36,
   "id": "e7452572-c73e-4a1f-b30d-bf8d15ac64ec",
   "metadata": {},
   "outputs": [
    {
     "name": "stdout",
     "output_type": "stream",
     "text": [
      "+------+-----------+--------------+----------------+-----------+---------+----------+\n",
      "|emp_id|   fullName|       country|          ph_num|        ssn|ssn_last4|phone_lat4|\n",
      "+------+-----------+--------------+----------------+-----------+---------+----------+\n",
      "|     1|Scott Tiger| united states| +1 123 456 7890|123 45 6789|     6789|      7890|\n",
      "|     2| Henry Ford|         India|+91 234 567 8901|456 78 9123|     9123|      8901|\n",
      "|     3|Nick Junior|united KINGDOM|+44 111 111 1111|222 33 4444|     4444|      1111|\n",
      "|     4| Bill Gomes|     AUSTRALIA|+61 987 654 3210|789 12 6118|     6118|      3210|\n",
      "+------+-----------+--------------+----------------+-----------+---------+----------+\n",
      "\n"
     ]
    }
   ],
   "source": [
    "# substring takes 3 args: column, position, length\n",
    "# position can be provided from last also by giving negative index\n",
    "# we'll work on ssn which is of fixed length of 3 digits followed by 2 digits followed by 4 digits\n",
    "\n",
    "emp_dummy_df. \\\n",
    "    withColumn(\"fullName\", concat(\"f_name\", lit(' '), \"l_name\")). \\\n",
    "    select(\"emp_id\", \"fullName\", \"country\", \"ph_num\", \"ssn\"). \\\n",
    "    withColumn(\"ssn_last4\", substring(col(\"ssn\"), -4, 4).cast(\"int\")). \\\n",
    "    withColumn(\"phone_lat4\", substring(col(\"ph_num\"), -4, 4).cast(\"int\")). \\\n",
    "    show()"
   ]
  },
  {
   "cell_type": "code",
   "execution_count": 39,
   "id": "d26e7c27-2227-4d1b-8406-a1628dff8d8d",
   "metadata": {},
   "outputs": [],
   "source": [
    "#split can be used to separate based on a delimiter\n",
    "employees_with_multiple_num = [(1, \"Scott\", \"Tiger\", 1000.0, \n",
    "                      \"united states\", \"+1 123 456 7890, +91 234 567 8901\", \"123 45 6789\"\n",
    "                     ),\n",
    "                     (2, \"Henry\", \"Ford\", 1250.0, \n",
    "                      \"India\", \"+91 234 567 8901, +44 111 111 1111\", \"456 78 9123\"\n",
    "                     ),\n",
    "                     (3, \"Nick\", \"Junior\", 750.0, \n",
    "                      \"united KINGDOM\", \"+44 111 111 1111, +61 987 654 3210\", \"222 33 4444\"\n",
    "                     ),\n",
    "                     (4, \"Bill\", \"Gomes\", 1500.0, \n",
    "                      \"AUSTRALIA\", \"+61 987 654 3210, +1 123 456 7890\", \"789 12 6118\"\n",
    "                     )\n",
    "            ]\n",
    "\n",
    "emp_dummy_phone_df = spark.createDataFrame(\n",
    "    employees_with_multiple_num,\n",
    "    schema = \"\"\" \n",
    "    emp_id INT,f_name STRING,l_name STRING,sal FLOAT,\n",
    "    country STRING,ph_num STRING,ssn STRING\n",
    "    \"\"\"\n",
    ")"
   ]
  },
  {
   "cell_type": "code",
   "execution_count": 41,
   "id": "59ad6416-2bb1-4d81-8bc7-d4be58b07dec",
   "metadata": {},
   "outputs": [
    {
     "name": "stdout",
     "output_type": "stream",
     "text": [
      "+------+------+------+------+--------------+----------------------------------+-----------+\n",
      "|emp_id|f_name|l_name|sal   |country       |ph_num                            |ssn        |\n",
      "+------+------+------+------+--------------+----------------------------------+-----------+\n",
      "|1     |Scott |Tiger |1000.0|united states |+1 123 456 7890, +91 234 567 8901 |123 45 6789|\n",
      "|2     |Henry |Ford  |1250.0|India         |+91 234 567 8901, +44 111 111 1111|456 78 9123|\n",
      "|3     |Nick  |Junior|750.0 |united KINGDOM|+44 111 111 1111, +61 987 654 3210|222 33 4444|\n",
      "|4     |Bill  |Gomes |1500.0|AUSTRALIA     |+61 987 654 3210, +1 123 456 7890 |789 12 6118|\n",
      "+------+------+------+------+--------------+----------------------------------+-----------+\n",
      "\n"
     ]
    }
   ],
   "source": [
    "emp_dummy_phone_df.show(truncate=False)"
   ]
  },
  {
   "cell_type": "code",
   "execution_count": 42,
   "id": "e50e1b06-fa53-450b-aca2-8459460ba89e",
   "metadata": {},
   "outputs": [
    {
     "name": "stdout",
     "output_type": "stream",
     "text": [
      "+------+-----------+--------------------+-----------+\n",
      "|emp_id|   FullName|              ph_num|        ssn|\n",
      "+------+-----------+--------------------+-----------+\n",
      "|     1|Scott_Tiger|+1 123 456 7890, ...|123 45 6789|\n",
      "|     2| Henry_Ford|+91 234 567 8901,...|456 78 9123|\n",
      "|     3|Nick_Junior|+44 111 111 1111,...|222 33 4444|\n",
      "|     4| Bill_Gomes|+61 987 654 3210,...|789 12 6118|\n",
      "+------+-----------+--------------------+-----------+\n",
      "\n"
     ]
    }
   ],
   "source": [
    "emp_dummy_phone_df. \\\n",
    "select(\"emp_id\", concat(\"f_name\", lit(\"_\"), \"l_name\").alias(\"FullName\"), \"ph_num\", \"ssn\"). \\\n",
    "show()"
   ]
  },
  {
   "cell_type": "code",
   "execution_count": 47,
   "id": "39e98c8b-97a1-4aac-8873-219b143d8481",
   "metadata": {},
   "outputs": [
    {
     "name": "stdout",
     "output_type": "stream",
     "text": [
      "+------+-----------+----------------------------------+-----------+-----------------+\n",
      "|emp_id|FullName   |ph_num                            |ssn        |individual_phnum |\n",
      "+------+-----------+----------------------------------+-----------+-----------------+\n",
      "|1     |Scott_Tiger|+1 123 456 7890, +91 234 567 8901 |123 45 6789|+1 123 456 7890  |\n",
      "|1     |Scott_Tiger|+1 123 456 7890, +91 234 567 8901 |123 45 6789| +91 234 567 8901|\n",
      "|2     |Henry_Ford |+91 234 567 8901, +44 111 111 1111|456 78 9123|+91 234 567 8901 |\n",
      "|2     |Henry_Ford |+91 234 567 8901, +44 111 111 1111|456 78 9123| +44 111 111 1111|\n",
      "|3     |Nick_Junior|+44 111 111 1111, +61 987 654 3210|222 33 4444|+44 111 111 1111 |\n",
      "|3     |Nick_Junior|+44 111 111 1111, +61 987 654 3210|222 33 4444| +61 987 654 3210|\n",
      "|4     |Bill_Gomes |+61 987 654 3210, +1 123 456 7890 |789 12 6118|+61 987 654 3210 |\n",
      "|4     |Bill_Gomes |+61 987 654 3210, +1 123 456 7890 |789 12 6118| +1 123 456 7890 |\n",
      "+------+-----------+----------------------------------+-----------+-----------------+\n",
      "\n"
     ]
    }
   ],
   "source": [
    "# get individual phone numbers\n",
    "emp_dummy_phone_df. \\\n",
    "select(\"emp_id\", concat(\"f_name\", lit(\"_\"), \"l_name\").alias(\"FullName\"), \"ph_num\", \"ssn\"). \\\n",
    "select(\"*\", explode(split(\"ph_num\", ',')).alias(\"individual_phnum\")). \\\n",
    "show(truncate=False)"
   ]
  },
  {
   "cell_type": "code",
   "execution_count": 50,
   "id": "d1b067a6-5065-4fd4-9e8b-33c94283c692",
   "metadata": {},
   "outputs": [
    {
     "name": "stdout",
     "output_type": "stream",
     "text": [
      "+------+-----------+----------------------------------+-----------+-----------------+--------+\n",
      "|emp_id|FullName   |ph_num                            |ssn        |individual_phnum |AreaCode|\n",
      "+------+-----------+----------------------------------+-----------+-----------------+--------+\n",
      "|1     |Scott_Tiger|+1 123 456 7890, +91 234 567 8901 |123 45 6789|+1 123 456 7890  |123     |\n",
      "|1     |Scott_Tiger|+1 123 456 7890, +91 234 567 8901 |123 45 6789| +91 234 567 8901|234     |\n",
      "|2     |Henry_Ford |+91 234 567 8901, +44 111 111 1111|456 78 9123|+91 234 567 8901 |234     |\n",
      "|2     |Henry_Ford |+91 234 567 8901, +44 111 111 1111|456 78 9123| +44 111 111 1111|111     |\n",
      "|3     |Nick_Junior|+44 111 111 1111, +61 987 654 3210|222 33 4444|+44 111 111 1111 |111     |\n",
      "|3     |Nick_Junior|+44 111 111 1111, +61 987 654 3210|222 33 4444| +61 987 654 3210|987     |\n",
      "|4     |Bill_Gomes |+61 987 654 3210, +1 123 456 7890 |789 12 6118|+61 987 654 3210 |987     |\n",
      "|4     |Bill_Gomes |+61 987 654 3210, +1 123 456 7890 |789 12 6118| +1 123 456 7890 |123     |\n",
      "+------+-----------+----------------------------------+-----------+-----------------+--------+\n",
      "\n"
     ]
    }
   ],
   "source": [
    "#get area code from each phone num\n",
    "emp_dummy_phone_df. \\\n",
    "select(\"emp_id\", concat(\"f_name\", lit(\"_\"), \"l_name\").alias(\"FullName\"), \"ph_num\", \"ssn\"). \\\n",
    "select(\"*\", explode(split(\"ph_num\", ',')).alias(\"individual_phnum\")). \\\n",
    "withColumn(\"AreaCode\", split(trim(\"individual_phnum\"), ' ')[1]). \\\n",
    "show(truncate=False)"
   ]
  },
  {
   "cell_type": "code",
   "execution_count": 55,
   "id": "91c855f5-6441-4c6d-a379-ed7399a89fd6",
   "metadata": {},
   "outputs": [
    {
     "name": "stdout",
     "output_type": "stream",
     "text": [
      "+------+-----+\n",
      "|emp_id|count|\n",
      "+------+-----+\n",
      "|1     |2    |\n",
      "|3     |2    |\n",
      "|4     |2    |\n",
      "|2     |2    |\n",
      "+------+-----+\n",
      "\n"
     ]
    }
   ],
   "source": [
    "# get number of phone num each employee has\n",
    "emp_dummy_phone_df. \\\n",
    "select(\"emp_id\", concat(\"f_name\", lit(\" \"), \"l_name\").alias(\"FullName\"), \"ph_num\", \"ssn\"). \\\n",
    "select(\"*\", explode(split(\"ph_num\", ',')).alias(\"individual_phnum\")). \\\n",
    "groupBy(\"emp_id\"). \\\n",
    "count(). \\\n",
    "show(truncate=False)"
   ]
  },
  {
   "cell_type": "code",
   "execution_count": 67,
   "id": "6c3b1a00-51b8-4463-a705-280062ee1965",
   "metadata": {},
   "outputs": [
    {
     "name": "stdout",
     "output_type": "stream",
     "text": [
      "+------+------+------+------+--------------+----------------------------------+-----------+-----------+-------------+\n",
      "|emp_id|f_name|l_name|sal   |country       |ph_num                            |ssn        |FullName   |f_name_padded|\n",
      "+------+------+------+------+--------------+----------------------------------+-----------+-----------+-------------+\n",
      "|1     |Scott |Tiger |1000.0|united states |+1 123 456 7890, +91 234 567 8901 |123 45 6789|Scott Tiger|Scott#       |\n",
      "|2     |Henry |Ford  |1250.0|India         |+91 234 567 8901, +44 111 111 1111|456 78 9123|Henry Ford |Henry#       |\n",
      "|3     |Nick  |Junior|750.0 |united KINGDOM|+44 111 111 1111, +61 987 654 3210|222 33 4444|Nick Junior|Nick##       |\n",
      "|4     |Bill  |Gomes |1500.0|AUSTRALIA     |+61 987 654 3210, +1 123 456 7890 |789 12 6118|Bill Gomes |Bill##       |\n",
      "+------+------+------+------+--------------+----------------------------------+-----------+-----------+-------------+\n",
      "\n"
     ]
    }
   ],
   "source": [
    "# padding\n",
    "#all first name should be 5 characters\n",
    "#if length mentioned in rpad is less than length of current string, \n",
    "#then string will be truncated from right in rpad and lpad both\n",
    "emp_dummy_phone_df. \\\n",
    "select(\"*\", concat(\"f_name\", lit(\" \"), \"l_name\").alias(\"FullName\")). \\\n",
    "select(\"*\", rpad(\"f_name\", 6, '#').alias(\"f_name_padded\")). \\\n",
    "show(truncate=False)"
   ]
  },
  {
   "cell_type": "code",
   "execution_count": 69,
   "id": "0cd22d32-fa1f-4851-a4a2-6f7595bb743c",
   "metadata": {},
   "outputs": [
    {
     "name": "stdout",
     "output_type": "stream",
     "text": [
      "+-----------------------------------------------------------------------------+\n",
      "|function_desc                                                                |\n",
      "+-----------------------------------------------------------------------------+\n",
      "|Function: rtrim                                                              |\n",
      "|Class: org.apache.spark.sql.catalyst.expressions.StringTrimRight             |\n",
      "|Usage: \n",
      "    rtrim(str) - Removes the trailing space characters from `str`.\n",
      "  |\n",
      "+-----------------------------------------------------------------------------+\n",
      "\n"
     ]
    }
   ],
   "source": [
    "#trimming - ltrim, rtrim, trim\n",
    "# we can use spark sql based approach also which is more powerful bcz with that we can trim characters other than\n",
    "#spaces also\n",
    "#the character that we want to trim should be first parameter\n",
    "spark.sql(\"DESCRIBE function rtrim\").show(200, truncate = False)"
   ]
  },
  {
   "cell_type": "code",
   "execution_count": 73,
   "id": "2b622e26-7b7b-4a8c-9419-9485baf5381e",
   "metadata": {},
   "outputs": [
    {
     "name": "stdout",
     "output_type": "stream",
     "text": [
      "+-------------+--------------+\n",
      "|f_name_padded|f_name_trimmed|\n",
      "+-------------+--------------+\n",
      "|Scott#       |Scott         |\n",
      "|Henry#       |Henry         |\n",
      "|Nick##       |Nick          |\n",
      "|Bill##       |Bill          |\n",
      "+-------------+--------------+\n",
      "\n"
     ]
    }
   ],
   "source": [
    "emp_dummy_phone_df. \\\n",
    "select(\"*\", concat(\"f_name\", lit(\" \"), \"l_name\").alias(\"FullName\")). \\\n",
    "select(\"*\", rpad(\"f_name\", 6, '#').alias(\"f_name_padded\")). \\\n",
    "select(\"f_name_padded\", expr(\"rtrim('#', f_name_padded)\").alias(\"f_name_trimmed\")). \\\n",
    "show(truncate=False)"
   ]
  },
  {
   "cell_type": "markdown",
   "id": "5c0e8a34-e4b3-4eb6-aa89-2ec5b7557ca2",
   "metadata": {},
   "source": [
    "### Date Manipulation functions"
   ]
  },
  {
   "cell_type": "code",
   "execution_count": 76,
   "id": "1a04504c-5f66-4580-9112-d3fc32631e82",
   "metadata": {},
   "outputs": [
    {
     "name": "stdout",
     "output_type": "stream",
     "text": [
      "+------+------+------+------+--------------+----------------+-----------+----------+-----------------------+\n",
      "|emp_id|f_name|l_name|sal   |country       |ph_num          |ssn        |todaysDate|exact_time_right_now   |\n",
      "+------+------+------+------+--------------+----------------+-----------+----------+-----------------------+\n",
      "|1     |Scott |Tiger |1000.0|united states |+1 123 456 7890 |123 45 6789|2022-04-18|2022-04-18 16:23:33.203|\n",
      "|2     |Henry |Ford  |1250.0|India         |+91 234 567 8901|456 78 9123|2022-04-18|2022-04-18 16:23:33.203|\n",
      "|3     |Nick  |Junior|750.0 |united KINGDOM|+44 111 111 1111|222 33 4444|2022-04-18|2022-04-18 16:23:33.203|\n",
      "|4     |Bill  |Gomes |1500.0|AUSTRALIA     |+61 987 654 3210|789 12 6118|2022-04-18|2022-04-18 16:23:33.203|\n",
      "+------+------+------+------+--------------+----------------+-----------+----------+-----------------------+\n",
      "\n"
     ]
    }
   ],
   "source": [
    "#get current date and current timestamp\n",
    "\n",
    "emp_dummy_df.\\\n",
    "withColumn(\"todaysDate\", current_date()). \\\n",
    "withColumn(\"exact_time_right_now\", current_timestamp()). \\\n",
    "show(5, False)"
   ]
  },
  {
   "cell_type": "code",
   "execution_count": 80,
   "id": "0ed0f993-0fa3-442e-9947-8d48b3ecc84e",
   "metadata": {},
   "outputs": [
    {
     "name": "stdout",
     "output_type": "stream",
     "text": [
      "+----------+-------------------+\n",
      "|strToDate |strToDate          |\n",
      "+----------+-------------------+\n",
      "|2022-04-18|2022-04-18 16:26:00|\n",
      "|2022-04-18|2022-04-18 16:26:00|\n",
      "|2022-04-18|2022-04-18 16:26:00|\n",
      "|2022-04-18|2022-04-18 16:26:00|\n",
      "+----------+-------------------+\n",
      "\n"
     ]
    }
   ],
   "source": [
    "#format string to a date or timestamp\n",
    "#to_date and to_timestamp only take strings as input \n",
    "#if our date format is like 20220418 and stored as bigint we first need to cast it to string\n",
    "\n",
    "emp_dummy_df.\\\n",
    "select(to_date(lit('18/04-2022'), 'dd/MM-yyyy').alias('strToDate')). \\\n",
    "select(\"*\",to_timestamp(lit('18/04-2022 1626'), 'dd/MM-yyyy HHmm').alias('strToDate')). \\\n",
    "show(5, False)"
   ]
  },
  {
   "cell_type": "code",
   "execution_count": 81,
   "id": "132e219b-d8ec-4c90-a35a-cee81dd93839",
   "metadata": {},
   "outputs": [],
   "source": [
    "# date time arithmetic\n",
    "# all the arithmetics return date only even if we give a timestamp as input\n",
    "\n",
    "datetimes = [(\"2014-02-28\", \"2014-02-28 10:00:00.123\"),\n",
    "             (\"2016-02-29\", \"2016-02-29 08:08:08.999\"),\n",
    "             (\"2017-10-31\", \"2017-12-31 11:59:59.123\"),\n",
    "             (\"2019-11-30\", \"2019-08-31 00:00:00.000\")]"
   ]
  },
  {
   "cell_type": "code",
   "execution_count": 83,
   "id": "b380ad38-2f21-4c10-949d-9b7016dda938",
   "metadata": {},
   "outputs": [],
   "source": [
    "datetime_df = spark.createDataFrame(datetimes, schema=\"date STRING, time STRING\")"
   ]
  },
  {
   "cell_type": "code",
   "execution_count": 84,
   "id": "25078650-8b2f-457c-b94e-8e93deda1af4",
   "metadata": {},
   "outputs": [
    {
     "name": "stdout",
     "output_type": "stream",
     "text": [
      "+----------+--------------------+\n",
      "|      date|                time|\n",
      "+----------+--------------------+\n",
      "|2014-02-28|2014-02-28 10:00:...|\n",
      "|2016-02-29|2016-02-29 08:08:...|\n",
      "|2017-10-31|2017-12-31 11:59:...|\n",
      "|2019-11-30|2019-08-31 00:00:...|\n",
      "+----------+--------------------+\n",
      "\n"
     ]
    }
   ],
   "source": [
    "datetime_df.show()"
   ]
  },
  {
   "cell_type": "code",
   "execution_count": 93,
   "id": "0c9da104-ae09-4cd3-934f-4ba7ab67c818",
   "metadata": {},
   "outputs": [
    {
     "name": "stdout",
     "output_type": "stream",
     "text": [
      "+----------+------------+--------------+-----------------------+------------+--------------+--------+--------+\n",
      "|date      |10DatesLater|10DatesEarlier|time                   |10TimesLater|10TimesEarlier|DaysDate|DaysTime|\n",
      "+----------+------------+--------------+-----------------------+------------+--------------+--------+--------+\n",
      "|2014-02-28|2014-03-10  |2014-02-18    |2014-02-28 10:00:00.123|2014-03-10  |2014-02-18    |2971    |2971    |\n",
      "|2016-02-29|2016-03-10  |2016-02-19    |2016-02-29 08:08:08.999|2016-03-10  |2016-02-19    |2240    |2240    |\n",
      "|2017-10-31|2017-11-10  |2017-10-21    |2017-12-31 11:59:59.123|2018-01-10  |2017-12-21    |1630    |1569    |\n",
      "|2019-11-30|2019-12-10  |2019-11-20    |2019-08-31 00:00:00.000|2019-09-10  |2019-08-21    |870     |961     |\n",
      "+----------+------------+--------------+-----------------------+------------+--------------+--------+--------+\n",
      "\n"
     ]
    }
   ],
   "source": [
    "#add 10 days and substract 10 days from both columns and number of day between 2 dates\n",
    "#both positive and negative values can be used\n",
    "\n",
    "datetime_df. \\\n",
    "select(\"date\",date_add('date', 10).alias('10DatesLater'), \"time\", date_add('time', 10).alias('10TimesLater')). \\\n",
    "select(\"date\", \"10DatesLater\", date_add('date', -10).alias('10DatesEarlier'), \"time\", \"10TimesLater\", date_sub('time', 10).alias('10TimesEarlier')). \\\n",
    "withColumn(\"DaysDate\", datediff(current_date(), 'date')). \\\n",
    "withColumn(\"DaysTime\", datediff(current_timestamp(), 'time')). \\\n",
    "show(10, False)"
   ]
  },
  {
   "cell_type": "code",
   "execution_count": 97,
   "id": "f6e87c98-0a53-4b63-b1f2-281c4e7ac7aa",
   "metadata": {},
   "outputs": [
    {
     "name": "stdout",
     "output_type": "stream",
     "text": [
      "+----------+-----------------------+---------------+---------------+---------------+---------------+\n",
      "|date      |time                   |months_bw_dates|months_bw_times|add_months_date|add_months_time|\n",
      "+----------+-----------------------+---------------+---------------+---------------+---------------+\n",
      "|2014-02-28|2014-02-28 10:00:00.123|97.68          |97.69          |2014-05-28     |2014-05-28     |\n",
      "|2016-02-29|2016-02-29 08:08:08.999|73.65          |73.66          |2016-05-29     |2016-05-29     |\n",
      "|2017-10-31|2017-12-31 11:59:59.123|53.58          |51.59          |2018-01-31     |2018-03-31     |\n",
      "|2019-11-30|2019-08-31 00:00:00.000|28.61          |31.6           |2020-02-29     |2019-11-30     |\n",
      "+----------+-----------------------+---------------+---------------+---------------+---------------+\n",
      "\n"
     ]
    }
   ],
   "source": [
    "# get months between 2 dates and add months 2 a date\n",
    "# - motnhs between gives a float\n",
    "# add motnhs to last date of a month will give last date of the corresponding motnh\n",
    "\n",
    "datetime_df. \\\n",
    "withColumn(\"months_bw_dates\", round(months_between(current_date(), 'date'), 2)). \\\n",
    "withColumn(\"months_bw_times\", round(months_between(current_timestamp(), 'time'), 2)). \\\n",
    "withColumn(\"add_months_date\", add_months('date', 3)). \\\n",
    "withColumn(\"add_months_time\", add_months('time', 3)). \\\n",
    "show(10, False)"
   ]
  },
  {
   "cell_type": "code",
   "execution_count": 100,
   "id": "efc3b690-64cb-4e7c-9c00-4b126c3d35ef",
   "metadata": {},
   "outputs": [
    {
     "name": "stdout",
     "output_type": "stream",
     "text": [
      "+----------+-----------------------+----------+----------+\n",
      "|date      |time                   |date_trunc|time_trunc|\n",
      "+----------+-----------------------+----------+----------+\n",
      "|2014-02-28|2014-02-28 10:00:00.123|2014-02-01|2014-01-01|\n",
      "|2016-02-29|2016-02-29 08:08:08.999|2016-02-01|2016-01-01|\n",
      "|2017-10-31|2017-12-31 11:59:59.123|2017-10-01|2017-01-01|\n",
      "|2019-11-30|2019-08-31 00:00:00.000|2019-11-01|2019-01-01|\n",
      "+----------+-----------------------+----------+----------+\n",
      "\n"
     ]
    }
   ],
   "source": [
    "# trunc and date_trunc function\n",
    "# it can be used to get begining date of week, month, year etc\n",
    "# trunc -> we can get begining of only month or year (it always returns date)\n",
    "# date_trunc -> begining of month or year and also begining of day or (it always returns timestamp)\n",
    "# if we pass wrong format, it'll return null values\n",
    "\n",
    "datetime_df. \\\n",
    "withColumn(\"date_trunc\", trunc(\"date\", 'MM')).\\\n",
    "withColumn(\"time_trunc\", trunc(\"time\", 'yy')).\\\n",
    "show(200, False)"
   ]
  },
  {
   "cell_type": "code",
   "execution_count": 101,
   "id": "62a6413d-3aa5-4d5f-bfd8-40c578ade053",
   "metadata": {},
   "outputs": [
    {
     "name": "stdout",
     "output_type": "stream",
     "text": [
      "+----------+-----------------------+-------------------+-------------------+\n",
      "|date      |time                   |date_trunc         |time_trunc         |\n",
      "+----------+-----------------------+-------------------+-------------------+\n",
      "|2014-02-28|2014-02-28 10:00:00.123|2014-02-01 00:00:00|2014-01-01 00:00:00|\n",
      "|2016-02-29|2016-02-29 08:08:08.999|2016-02-01 00:00:00|2016-01-01 00:00:00|\n",
      "|2017-10-31|2017-12-31 11:59:59.123|2017-10-01 00:00:00|2017-01-01 00:00:00|\n",
      "|2019-11-30|2019-08-31 00:00:00.000|2019-11-01 00:00:00|2019-01-01 00:00:00|\n",
      "+----------+-----------------------+-------------------+-------------------+\n",
      "\n"
     ]
    }
   ],
   "source": [
    "datetime_df. \\\n",
    "withColumn(\"date_trunc\", date_trunc('MM',\"date\")).\\\n",
    "withColumn(\"time_trunc\", date_trunc('yy',\"time\")).\\\n",
    "show(200, False)"
   ]
  },
  {
   "cell_type": "code",
   "execution_count": 103,
   "id": "14ad80d9-b134-4548-b2c4-d9666eb615d6",
   "metadata": {},
   "outputs": [
    {
     "name": "stdout",
     "output_type": "stream",
     "text": [
      "+----------+-----------------------+-------------------+-------------------+-------------------+\n",
      "|date      |time                   |date_trunc         |time_trunc         |time_trunc_day     |\n",
      "+----------+-----------------------+-------------------+-------------------+-------------------+\n",
      "|2014-02-28|2014-02-28 10:00:00.123|2014-02-28 00:00:00|2014-02-28 10:00:00|2014-02-28 00:00:00|\n",
      "|2016-02-29|2016-02-29 08:08:08.999|2016-02-29 00:00:00|2016-02-29 08:00:00|2016-02-29 00:00:00|\n",
      "|2017-10-31|2017-12-31 11:59:59.123|2017-10-31 00:00:00|2017-12-31 11:00:00|2017-12-31 00:00:00|\n",
      "|2019-11-30|2019-08-31 00:00:00.000|2019-11-30 00:00:00|2019-08-31 00:00:00|2019-08-31 00:00:00|\n",
      "+----------+-----------------------+-------------------+-------------------+-------------------+\n",
      "\n"
     ]
    }
   ],
   "source": [
    "datetime_df. \\\n",
    "withColumn(\"date_trunc\", date_trunc('HOUR',\"date\")).\\\n",
    "withColumn(\"time_trunc\", date_trunc('HOUR',\"time\")).\\\n",
    "withColumn(\"time_trunc_day\", date_trunc('dd',\"time\")).\\\n",
    "show(200, False)"
   ]
  },
  {
   "cell_type": "code",
   "execution_count": 104,
   "id": "1ae2a51f-40c1-4bfc-ae69-7c6ca709633b",
   "metadata": {},
   "outputs": [
    {
     "name": "stdout",
     "output_type": "stream",
     "text": [
      "+--------------+----+-----+---+---+---+---+\n",
      "|current_date()|year|month|woy|doy|dom|dow|\n",
      "+--------------+----+-----+---+---+---+---+\n",
      "|2022-04-18    |2022|4    |16 |108|18 |2  |\n",
      "|2022-04-18    |2022|4    |16 |108|18 |2  |\n",
      "|2022-04-18    |2022|4    |16 |108|18 |2  |\n",
      "|2022-04-18    |2022|4    |16 |108|18 |2  |\n",
      "+--------------+----+-----+---+---+---+---+\n",
      "\n"
     ]
    }
   ],
   "source": [
    "# date and time extract functions\n",
    "# get year, month, week of year etc from a date or timestamp\n",
    "\n",
    "datetime_df. \\\n",
    "select(current_date(), \n",
    "       year(current_date()).alias(\"year\"),\n",
    "       month(current_date()).alias(\"month\"),\n",
    "       weekofyear(current_date()).alias(\"woy\"),\n",
    "       dayofyear(current_date()).alias(\"doy\"),\n",
    "       dayofmonth(current_date()).alias(\"dom\"),\n",
    "       dayofweek(current_date()).alias(\"dow\")\n",
    "      ). \\\n",
    "show(200, False)"
   ]
  },
  {
   "cell_type": "code",
   "execution_count": 107,
   "id": "ac8d0d51-ba69-4ce5-b0d6-726bcebdbaf5",
   "metadata": {},
   "outputs": [
    {
     "name": "stdout",
     "output_type": "stream",
     "text": [
      "+----------------------+----+-----+---+---+---+---+---+---+---+\n",
      "|current_timestamp()   |year|month|woy|doy|dom|dow|hr |min|sec|\n",
      "+----------------------+----+-----+---+---+---+---+---+---+---+\n",
      "|2022-04-19 10:48:24.45|2022|4    |16 |109|19 |3  |10 |48 |24 |\n",
      "|2022-04-19 10:48:24.45|2022|4    |16 |109|19 |3  |10 |48 |24 |\n",
      "|2022-04-19 10:48:24.45|2022|4    |16 |109|19 |3  |10 |48 |24 |\n",
      "|2022-04-19 10:48:24.45|2022|4    |16 |109|19 |3  |10 |48 |24 |\n",
      "+----------------------+----+-----+---+---+---+---+---+---+---+\n",
      "\n"
     ]
    }
   ],
   "source": [
    "datetime_df. \\\n",
    "select(current_timestamp(), \n",
    "       year(current_timestamp()).alias(\"year\"),\n",
    "       month(current_timestamp()).alias(\"month\"),\n",
    "       weekofyear(current_timestamp()).alias(\"woy\"),\n",
    "       dayofyear(current_timestamp()).alias(\"doy\"),\n",
    "       dayofmonth(current_timestamp()).alias(\"dom\"),\n",
    "       dayofweek(current_timestamp()).alias(\"dow\"),\n",
    "       hour(current_timestamp()).alias(\"hr\"),\n",
    "       minute(current_timestamp()).alias(\"min\"),\n",
    "       second(current_timestamp()).alias(\"sec\")\n",
    "      ). \\\n",
    "show(200, False)"
   ]
  },
  {
   "cell_type": "code",
   "execution_count": 116,
   "id": "7bfa78c0-d872-4794-ac87-a1bc133e379b",
   "metadata": {},
   "outputs": [
    {
     "name": "stdout",
     "output_type": "stream",
     "text": [
      "+----------+-----------------------+--------------+-------------+\n",
      "|date      |time                   |year and month|year and day |\n",
      "+----------+-----------------------+--------------+-------------+\n",
      "|2014-02-28|2014-02-28 10:00:00.123|2014/02       |2014 Friday  |\n",
      "|2016-02-29|2016-02-29 08:08:08.999|2016/02       |2016 Monday  |\n",
      "|2017-10-31|2017-12-31 11:59:59.123|2017/10       |2017 Sunday  |\n",
      "|2019-11-30|2019-08-31 00:00:00.000|2019/11       |2019 Saturday|\n",
      "+----------+-----------------------+--------------+-------------+\n",
      "\n"
     ]
    }
   ],
   "source": [
    "# date format\n",
    "# to get information from standard date or timestamp\n",
    "#above we saw functions like year, dayofweek etc. which give info about the date\n",
    "# date format is used when we want multiple information like year month and day of week\n",
    "# takes input as string only\n",
    "\n",
    "datetime_df. \\\n",
    "withColumn(\"year and month\", date_format('date', 'yyyy/MM')). \\\n",
    "withColumn(\"year and day\", date_format('time', 'yyyy EEEE')). \\\n",
    "show(100, False)"
   ]
  },
  {
   "cell_type": "code",
   "execution_count": 118,
   "id": "bf304075-3f9f-4692-8e79-e7f6aa0697af",
   "metadata": {},
   "outputs": [
    {
     "name": "stdout",
     "output_type": "stream",
     "text": [
      "+----------+-----------------------+----------------------------+\n",
      "|date      |time                   |date description            |\n",
      "+----------+-----------------------+----------------------------+\n",
      "|2014-02-28|2014-02-28 10:00:00.123|February 28, 2014 (Friday)  |\n",
      "|2016-02-29|2016-02-29 08:08:08.999|February 29, 2016 (Monday)  |\n",
      "|2017-10-31|2017-12-31 11:59:59.123|October 31, 2017 (Tuesday)  |\n",
      "|2019-11-30|2019-08-31 00:00:00.000|November 30, 2019 (Saturday)|\n",
      "+----------+-----------------------+----------------------------+\n",
      "\n"
     ]
    }
   ],
   "source": [
    "datetime_df. \\\n",
    "withColumn(\"date description\", date_format('date', 'MMMM d, yyyy (EEEE)')). \\\n",
    "show(100, False)"
   ]
  },
  {
   "cell_type": "code",
   "execution_count": 131,
   "id": "1348f070-906b-4f8d-b22d-fb4db12b044d",
   "metadata": {},
   "outputs": [
    {
     "name": "stdout",
     "output_type": "stream",
     "text": [
      "+----------+-----------------------+--------------+-------------------+--------------------------+\n",
      "|date      |time                   |unix_timestamp|fromUnixTimestamp  |fromUnixTimestampFormateed|\n",
      "+----------+-----------------------+--------------+-------------------+--------------------------+\n",
      "|2014-02-28|2014-02-28 10:00:00.123|1393561800    |2014-02-28 10:00:00|28/02/2014                |\n",
      "|2016-02-29|2016-02-29 08:08:08.999|1456713488    |2016-02-29 08:08:08|29/02/2016                |\n",
      "|2017-10-31|2017-12-31 11:59:59.123|1514701799    |2017-12-31 11:59:59|31/12/2017                |\n",
      "|2019-11-30|2019-08-31 00:00:00.000|1567189800    |2019-08-31 00:00:00|31/08/2019                |\n",
      "+----------+-----------------------+--------------+-------------------+--------------------------+\n",
      "\n"
     ]
    }
   ],
   "source": [
    "# dealing with unix timestamp\n",
    "# it is an integer started from midnight of Jan 1 1970 and increments by 1 every second\n",
    "# a unix timestamp can be converted to a regular date or timestamp and vice versa\n",
    "\n",
    "datetime_df. \\\n",
    "withColumn('unix_timestamp', unix_timestamp('time', 'yyyy-MM-dd HH:mm:ss.SSS')). \\\n",
    "withColumn('fromUnixTimestamp', from_unixtime('unix_timestamp')). \\\n",
    "withColumn('fromUnixTimestampFormateed', from_unixtime('unix_timestamp', 'dd/MM/yyyy')). \\\n",
    "show(200, False)"
   ]
  },
  {
   "cell_type": "code",
   "execution_count": 132,
   "id": "684a36d6-0401-48dd-811f-c3447d560d9b",
   "metadata": {},
   "outputs": [
    {
     "name": "stdout",
     "output_type": "stream",
     "text": [
      "+------+------+------+------+--------------+----------------+-----------+\n",
      "|emp_id|f_name|l_name|sal   |country       |ph_num          |ssn        |\n",
      "+------+------+------+------+--------------+----------------+-----------+\n",
      "|1     |Scott |Tiger |1000.0|united states |+1 123 456 7890 |123 45 6789|\n",
      "|2     |Henry |Ford  |1250.0|India         |+91 234 567 8901|456 78 9123|\n",
      "|3     |Nick  |Junior|750.0 |united KINGDOM|+44 111 111 1111|222 33 4444|\n",
      "|4     |Bill  |Gomes |1500.0|AUSTRALIA     |+61 987 654 3210|789 12 6118|\n",
      "+------+------+------+------+--------------+----------------+-----------+\n",
      "\n"
     ]
    }
   ],
   "source": [
    "# dealing with nulls\n",
    "# we can use coalesce to return first non null value\n",
    "# we can use traditional sql functions like nvl using expr or selectExpr\n",
    "\n",
    "emp_dummy_df.show(20, False)"
   ]
  },
  {
   "cell_type": "code",
   "execution_count": 135,
   "id": "2a48420c-6b3a-4999-91da-111dbbaede5b",
   "metadata": {},
   "outputs": [],
   "source": [
    "employees_with_bonus = [(1, \"Scott\", \"Tiger\", 1000.0, 10,\n",
    "                      \"united states\", \"+1 123 456 7890\", \"123 45 6789\"\n",
    "                     ),\n",
    "                     (2, \"Henry\", \"Ford\", 1250.0, None,\n",
    "                      \"India\", \"+91 234 567 8901\", \"456 78 9123\"\n",
    "                     ),\n",
    "                     (3, \"Nick\", \"Junior\", 750.0, '',\n",
    "                      \"united KINGDOM\", \"+44 111 111 1111\", \"222 33 4444\"\n",
    "                     ),\n",
    "                     (4, \"Bill\", \"Gomes\", 1500.0, 10,\n",
    "                      \"AUSTRALIA\", \"+61 987 654 3210\", \"789 12 6118\"\n",
    "                     )\n",
    "            ]"
   ]
  },
  {
   "cell_type": "code",
   "execution_count": 136,
   "id": "dd897e13-c7eb-4c0a-8feb-46fd7a455897",
   "metadata": {},
   "outputs": [],
   "source": [
    "emp_bonus_df = spark.createDataFrame(employees_with_bonus, schema = \"\"\" \n",
    "    emp_id INT,f_name STRING,l_name STRING,sal FLOAT,\n",
    "    bonus STRING, country STRING,ph_num STRING,ssn STRING\n",
    "    \"\"\")"
   ]
  },
  {
   "cell_type": "code",
   "execution_count": 137,
   "id": "c2dbb11c-d45a-464d-a61e-ebfb2916cfc8",
   "metadata": {},
   "outputs": [
    {
     "name": "stdout",
     "output_type": "stream",
     "text": [
      "+------+------+------+------+-----+--------------+----------------+-----------+\n",
      "|emp_id|f_name|l_name|   sal|bonus|       country|          ph_num|        ssn|\n",
      "+------+------+------+------+-----+--------------+----------------+-----------+\n",
      "|     1| Scott| Tiger|1000.0|   10| united states| +1 123 456 7890|123 45 6789|\n",
      "|     2| Henry|  Ford|1250.0| null|         India|+91 234 567 8901|456 78 9123|\n",
      "|     3|  Nick|Junior| 750.0|     |united KINGDOM|+44 111 111 1111|222 33 4444|\n",
      "|     4|  Bill| Gomes|1500.0|   10|     AUSTRALIA|+61 987 654 3210|789 12 6118|\n",
      "+------+------+------+------+-----+--------------+----------------+-----------+\n",
      "\n"
     ]
    }
   ],
   "source": [
    "emp_bonus_df.show()"
   ]
  },
  {
   "cell_type": "code",
   "execution_count": 139,
   "id": "29376a7f-7c89-4c88-8d25-912fb78f5189",
   "metadata": {},
   "outputs": [
    {
     "name": "stdout",
     "output_type": "stream",
     "text": [
      "+------+------+------+------+-----+--------------+----------------+-----------+--------+\n",
      "|emp_id|f_name|l_name|sal   |bonus|country       |ph_num          |ssn        |allBonus|\n",
      "+------+------+------+------+-----+--------------+----------------+-----------+--------+\n",
      "|1     |Scott |Tiger |1000.0|10   |united states |+1 123 456 7890 |123 45 6789|10      |\n",
      "|2     |Henry |Ford  |1250.0|null |India         |+91 234 567 8901|456 78 9123|0       |\n",
      "|3     |Nick  |Junior|750.0 |     |united KINGDOM|+44 111 111 1111|222 33 4444|        |\n",
      "|4     |Bill  |Gomes |1500.0|10   |AUSTRALIA     |+61 987 654 3210|789 12 6118|10      |\n",
      "+------+------+------+------+-----+--------------+----------------+-----------+--------+\n",
      "\n"
     ]
    }
   ],
   "source": [
    "# empty string and null are not same\n",
    "# different ways to deal with both\n",
    "\n",
    "emp_bonus_df. \\\n",
    "withColumn('allBonus', coalesce('bonus', lit(0))). \\\n",
    "show(10, False)"
   ]
  },
  {
   "cell_type": "code",
   "execution_count": 140,
   "id": "d97aaad8-f757-482e-afd0-12bff551a879",
   "metadata": {},
   "outputs": [
    {
     "name": "stdout",
     "output_type": "stream",
     "text": [
      "+------+------+------+------+-----+--------------+----------------+-----------+--------+\n",
      "|emp_id|f_name|l_name|sal   |bonus|country       |ph_num          |ssn        |allBonus|\n",
      "+------+------+------+------+-----+--------------+----------------+-----------+--------+\n",
      "|1     |Scott |Tiger |1000.0|10   |united states |+1 123 456 7890 |123 45 6789|10      |\n",
      "|2     |Henry |Ford  |1250.0|null |India         |+91 234 567 8901|456 78 9123|0       |\n",
      "|3     |Nick  |Junior|750.0 |     |united KINGDOM|+44 111 111 1111|222 33 4444|0       |\n",
      "|4     |Bill  |Gomes |1500.0|10   |AUSTRALIA     |+61 987 654 3210|789 12 6118|10      |\n",
      "+------+------+------+------+-----+--------------+----------------+-----------+--------+\n",
      "\n"
     ]
    }
   ],
   "source": [
    "# only null value got replaced\n",
    "# to deal with empty string we can convert bonus column to int, if it can't be converted to int it will return null\n",
    "\n",
    "emp_bonus_df. \\\n",
    "withColumn('allBonus', coalesce(col('bonus').cast('int'), lit(0))). \\\n",
    "show(10, False)"
   ]
  },
  {
   "cell_type": "code",
   "execution_count": 141,
   "id": "1eae5b85-e318-48c9-862c-67fb65724fdd",
   "metadata": {},
   "outputs": [
    {
     "name": "stdout",
     "output_type": "stream",
     "text": [
      "+------+------+------+------+-----+--------------+----------------+-----------+---------+\n",
      "|emp_id|f_name|l_name|sal   |bonus|country       |ph_num          |ssn        |bonus_nvl|\n",
      "+------+------+------+------+-----+--------------+----------------+-----------+---------+\n",
      "|1     |Scott |Tiger |1000.0|10   |united states |+1 123 456 7890 |123 45 6789|10       |\n",
      "|2     |Henry |Ford  |1250.0|null |India         |+91 234 567 8901|456 78 9123|0        |\n",
      "|3     |Nick  |Junior|750.0 |     |united KINGDOM|+44 111 111 1111|222 33 4444|         |\n",
      "|4     |Bill  |Gomes |1500.0|10   |AUSTRALIA     |+61 987 654 3210|789 12 6118|10       |\n",
      "+------+------+------+------+-----+--------------+----------------+-----------+---------+\n",
      "\n"
     ]
    }
   ],
   "source": [
    "# using nvl\n",
    "\n",
    "emp_bonus_df. \\\n",
    "withColumn('bonus_nvl', expr(\"nvl(bonus, 0)\")). \\\n",
    "show(5, False)"
   ]
  },
  {
   "cell_type": "code",
   "execution_count": 142,
   "id": "06c90220-c560-4b75-a20d-fc8afd5b6b33",
   "metadata": {},
   "outputs": [
    {
     "name": "stdout",
     "output_type": "stream",
     "text": [
      "+------+------+------+------+-----+--------------+----------------+-----------+---------+\n",
      "|emp_id|f_name|l_name|sal   |bonus|country       |ph_num          |ssn        |bonus_nvl|\n",
      "+------+------+------+------+-----+--------------+----------------+-----------+---------+\n",
      "|1     |Scott |Tiger |1000.0|10   |united states |+1 123 456 7890 |123 45 6789|10       |\n",
      "|2     |Henry |Ford  |1250.0|null |India         |+91 234 567 8901|456 78 9123|0        |\n",
      "|3     |Nick  |Junior|750.0 |     |united KINGDOM|+44 111 111 1111|222 33 4444|0        |\n",
      "|4     |Bill  |Gomes |1500.0|10   |AUSTRALIA     |+61 987 654 3210|789 12 6118|10       |\n",
      "+------+------+------+------+-----+--------------+----------------+-----------+---------+\n",
      "\n"
     ]
    }
   ],
   "source": [
    "emp_bonus_df. \\\n",
    "withColumn('bonus_nvl', expr(\"nvl(nullif(bonus, ''), 0)\")). \\\n",
    "show(5, False)"
   ]
  },
  {
   "cell_type": "code",
   "execution_count": 145,
   "id": "491147de-7af1-4cd2-ac70-2d35e06ebd01",
   "metadata": {},
   "outputs": [
    {
     "name": "stdout",
     "output_type": "stream",
     "text": [
      "+------+------+------+------+-----+--------------+----------------+-----------+------------+\n",
      "|emp_id|f_name|l_name|sal   |bonus|country       |ph_num          |ssn        |final_salary|\n",
      "+------+------+------+------+-----+--------------+----------------+-----------+------------+\n",
      "|1     |Scott |Tiger |1000.0|10   |united states |+1 123 456 7890 |123 45 6789|1100.0      |\n",
      "|2     |Henry |Ford  |1250.0|null |India         |+91 234 567 8901|456 78 9123|1250.0      |\n",
      "|3     |Nick  |Junior|750.0 |     |united KINGDOM|+44 111 111 1111|222 33 4444|750.0       |\n",
      "|4     |Bill  |Gomes |1500.0|10   |AUSTRALIA     |+61 987 654 3210|789 12 6118|1650.0      |\n",
      "+------+------+------+------+-----+--------------+----------------+-----------+------------+\n",
      "\n"
     ]
    }
   ],
   "source": [
    "# calculate salary bonus\n",
    "emp_bonus_df. \\\n",
    "withColumn('final_salary', round(col('sal') * \n",
    "           (1+ \n",
    "            (coalesce(col('bonus').cast('int'), lit(0))/100)\n",
    "           ),2)). \\\n",
    "show(5, False)"
   ]
  },
  {
   "cell_type": "code",
   "execution_count": 146,
   "id": "2f296d08-b6b6-47cb-b9c0-819b5fe4437d",
   "metadata": {},
   "outputs": [
    {
     "name": "stdout",
     "output_type": "stream",
     "text": [
      "+------+------+------+------+-----+--------------+----------------+-----------+-----------+\n",
      "|emp_id|f_name|l_name|sal   |bonus|country       |ph_num          |ssn        |bonusWOnull|\n",
      "+------+------+------+------+-----+--------------+----------------+-----------+-----------+\n",
      "|1     |Scott |Tiger |1000.0|10   |united states |+1 123 456 7890 |123 45 6789|10         |\n",
      "|2     |Henry |Ford  |1250.0|null |India         |+91 234 567 8901|456 78 9123|0          |\n",
      "|3     |Nick  |Junior|750.0 |     |united KINGDOM|+44 111 111 1111|222 33 4444|0          |\n",
      "|4     |Bill  |Gomes |1500.0|10   |AUSTRALIA     |+61 987 654 3210|789 12 6118|10         |\n",
      "+------+------+------+------+-----+--------------+----------------+-----------+-----------+\n",
      "\n"
     ]
    }
   ],
   "source": [
    "# case when in spark\n",
    "# we can do it using selectExpr or expr\n",
    "# spark fucntion also provide api for WHEN and OTHERWISE\n",
    "\n",
    "emp_bonus_df. \\\n",
    "withColumn('bonusWOnull', expr(\"\"\" \n",
    "CASE WHEN bonus IS NULL OR bonus = '' THEN 0\n",
    "ELSE bonus\n",
    "END\n",
    "\"\"\")). \\\n",
    "show(10, False)"
   ]
  },
  {
   "cell_type": "code",
   "execution_count": 149,
   "id": "2bd7a715-e05b-451c-9209-07081a23c2e0",
   "metadata": {},
   "outputs": [
    {
     "name": "stdout",
     "output_type": "stream",
     "text": [
      "+------+------+------+------+-----+--------------+----------------+-----------+-----------+\n",
      "|emp_id|f_name|l_name|sal   |bonus|country       |ph_num          |ssn        |bonusWOnull|\n",
      "+------+------+------+------+-----+--------------+----------------+-----------+-----------+\n",
      "|1     |Scott |Tiger |1000.0|10   |united states |+1 123 456 7890 |123 45 6789|10         |\n",
      "|2     |Henry |Ford  |1250.0|null |India         |+91 234 567 8901|456 78 9123|0          |\n",
      "|3     |Nick  |Junior|750.0 |     |united KINGDOM|+44 111 111 1111|222 33 4444|0          |\n",
      "|4     |Bill  |Gomes |1500.0|10   |AUSTRALIA     |+61 987 654 3210|789 12 6118|10         |\n",
      "+------+------+------+------+-----+--------------+----------------+-----------+-----------+\n",
      "\n"
     ]
    }
   ],
   "source": [
    "# when can be followed by another when or otherwise (when().when().otherwise())\n",
    "emp_bonus_df. \\\n",
    "withColumn('bonusWOnull', when(\n",
    "    ((col('bonus').isNull()) | (col('bonus')==lit(''))),0).otherwise(col('bonus'))\n",
    ").\\\n",
    "show(10, False)"
   ]
  },
  {
   "cell_type": "code",
   "execution_count": null,
   "id": "93a72ee8-66f9-41c7-9c12-dc310c5dd601",
   "metadata": {},
   "outputs": [],
   "source": []
  }
 ],
 "metadata": {
  "kernelspec": {
   "display_name": "Python 3 (ipykernel)",
   "language": "python",
   "name": "python3"
  },
  "language_info": {
   "codemirror_mode": {
    "name": "ipython",
    "version": 3
   },
   "file_extension": ".py",
   "mimetype": "text/x-python",
   "name": "python",
   "nbconvert_exporter": "python",
   "pygments_lexer": "ipython3",
   "version": "3.8.11"
  }
 },
 "nbformat": 4,
 "nbformat_minor": 5
}
