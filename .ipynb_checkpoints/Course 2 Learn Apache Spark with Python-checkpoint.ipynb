{
 "cells": [
  {
   "cell_type": "code",
   "execution_count": 1,
   "id": "c09b2f50",
   "metadata": {},
   "outputs": [],
   "source": [
    "import os\n",
    "import sys\n",
    "from pyspark.sql import SparkSession\n",
    "\n",
    "os.environ[\"HADOOP_HOME\"] = \"C:\\\\Users\\\\SkJain\\\\Downloads\\\\Compressed\\\\winutils-master\\\\hadoop-3.2.2\"\n",
    "os.environ[\"PYSPARK_PYTHON\"] = \"python\"\n",
    "sys.path.append('C:\\\\Users\\\\SkJain\\\\Downloads\\\\Compressed\\\\winutils-master\\\\hadoop-3.2.2\\\\bin')"
   ]
  },
  {
   "cell_type": "code",
   "execution_count": 2,
   "id": "a6e80fc8",
   "metadata": {},
   "outputs": [],
   "source": [
    "spark = SparkSession. \\\n",
    "    builder. \\\n",
    "    config(\"spark.ui.port\", \"0\"). \\\n",
    "    enableHiveSupport(). \\\n",
    "    appName('course2'). \\\n",
    "    master('local'). \\\n",
    "    getOrCreate()"
   ]
  },
  {
   "cell_type": "code",
   "execution_count": 3,
   "id": "02a47804",
   "metadata": {},
   "outputs": [],
   "source": [
    "# from pyspark.sql.functions import *"
   ]
  },
  {
   "cell_type": "code",
   "execution_count": 4,
   "id": "9eec1199",
   "metadata": {},
   "outputs": [],
   "source": [
    "movie_ratings_by_users_path = './datasets/ml-100k/u.data'\n",
    "movie_details_path  = './datasets/ml-100k/u.item'\n",
    "users_details_path = './datasets/ml-100k/u.user'\n",
    "\n",
    "# details of columns and all present here: https://files.grouplens.org/datasets/movielens/ml-100k-README.txt"
   ]
  },
  {
   "cell_type": "code",
   "execution_count": 5,
   "id": "94b64fa6",
   "metadata": {},
   "outputs": [],
   "source": [
    "# spark.read.csv?"
   ]
  },
  {
   "cell_type": "markdown",
   "id": "a394d86c",
   "metadata": {},
   "source": [
    "## Reading first dataset\n",
    "    - file is separated by tab instead of ','\n",
    "    - providing headers (since they're not already in the file)\n",
    "    - inferring schema"
   ]
  },
  {
   "cell_type": "code",
   "execution_count": 6,
   "id": "3e44ac7e",
   "metadata": {},
   "outputs": [],
   "source": [
    "movie_ratings_header = ['userid', 'itemid', 'rating', 'unix_timestamp']\n",
    "movie_ratings_data_schema = spark.\\\n",
    "                    read.\\\n",
    "                    option('sep', '\\t'). \\\n",
    "                    csv(movie_ratings_by_users_path, header=False, inferSchema=True).schema"
   ]
  },
  {
   "cell_type": "code",
   "execution_count": 7,
   "id": "474b5f34",
   "metadata": {},
   "outputs": [],
   "source": [
    "for col_index,curr_col in zip(range(0, len(movie_ratings_data_schema)),movie_ratings_data_schema):\n",
    "    curr_col.name = movie_ratings_header[col_index]"
   ]
  },
  {
   "cell_type": "code",
   "execution_count": 8,
   "id": "6b9cea5a",
   "metadata": {},
   "outputs": [
    {
     "data": {
      "text/plain": [
       "StructType(List(StructField(userid,IntegerType,true),StructField(itemid,IntegerType,true),StructField(rating,IntegerType,true),StructField(unix_timestamp,IntegerType,true)))"
      ]
     },
     "execution_count": 8,
     "metadata": {},
     "output_type": "execute_result"
    }
   ],
   "source": [
    "movie_ratings_data_schema"
   ]
  },
  {
   "cell_type": "code",
   "execution_count": 9,
   "id": "e8f73196",
   "metadata": {},
   "outputs": [],
   "source": [
    "movie_ratings_data = spark.\\\n",
    "                    read.\\\n",
    "                    option('sep', '\\t'). \\\n",
    "                    csv(movie_ratings_by_users_path, header=False, schema = movie_ratings_data_schema)"
   ]
  },
  {
   "cell_type": "code",
   "execution_count": 10,
   "id": "d862ad09",
   "metadata": {},
   "outputs": [
    {
     "name": "stdout",
     "output_type": "stream",
     "text": [
      "+------+------+------+--------------+\n",
      "|userid|itemid|rating|unix_timestamp|\n",
      "+------+------+------+--------------+\n",
      "|   196|   242|     3|     881250949|\n",
      "|   186|   302|     3|     891717742|\n",
      "|    22|   377|     1|     878887116|\n",
      "|   244|    51|     2|     880606923|\n",
      "|   166|   346|     1|     886397596|\n",
      "+------+------+------+--------------+\n",
      "only showing top 5 rows\n",
      "\n"
     ]
    }
   ],
   "source": [
    "movie_ratings_data.show(5)"
   ]
  },
  {
   "cell_type": "markdown",
   "id": "fb1674b3",
   "metadata": {},
   "source": [
    "## Reading the second datatset\n",
    "    - separated by '|'\n",
    "    - headers not present in file (copied from documentation, link in above tab)"
   ]
  },
  {
   "cell_type": "code",
   "execution_count": 11,
   "id": "8a957672",
   "metadata": {},
   "outputs": [],
   "source": [
    "movie_details_headers = '''movie id | movie title | release date | video release date |\n",
    "              IMDb URL | unknown | Action | Adventure | Animation |\n",
    "              Children's | Comedy | Crime | Documentary | Drama | Fantasy |\n",
    "              Film-Noir | Horror | Musical | Mystery | Romance | Sci-Fi |\n",
    "              Thriller | War | Western |'''.replace('\\n', '').replace(' ', '').split('|')"
   ]
  },
  {
   "cell_type": "code",
   "execution_count": 12,
   "id": "e88b49b8",
   "metadata": {},
   "outputs": [
    {
     "name": "stdout",
     "output_type": "stream",
     "text": [
      "['movieid', 'movietitle', 'releasedate', 'videoreleasedate', 'IMDbURL', 'unknown', 'Action', 'Adventure', 'Animation', \"Children's\", 'Comedy', 'Crime', 'Documentary', 'Drama', 'Fantasy', 'Film-Noir', 'Horror', 'Musical', 'Mystery', 'Romance', 'Sci-Fi', 'Thriller', 'War', 'Western', '']\n"
     ]
    }
   ],
   "source": [
    "print(movie_details_headers)"
   ]
  },
  {
   "cell_type": "code",
   "execution_count": 13,
   "id": "b2e75a1c",
   "metadata": {},
   "outputs": [],
   "source": [
    "movie_details_data_schema = spark.\\\n",
    "                    read.\\\n",
    "                    option('sep', '|'). \\\n",
    "                    csv(movie_details_path, inferSchema=True).schema"
   ]
  },
  {
   "cell_type": "code",
   "execution_count": 14,
   "id": "1bd3928a",
   "metadata": {},
   "outputs": [],
   "source": [
    "for col_index,curr_col in zip(range(0, len(movie_details_data_schema)),movie_details_data_schema):\n",
    "    curr_col.name = movie_details_headers[col_index]"
   ]
  },
  {
   "cell_type": "code",
   "execution_count": 15,
   "id": "f7dc4f2a",
   "metadata": {},
   "outputs": [
    {
     "data": {
      "text/plain": [
       "StructType(List(StructField(movieid,IntegerType,true),StructField(movietitle,StringType,true),StructField(releasedate,StringType,true),StructField(videoreleasedate,StringType,true),StructField(IMDbURL,StringType,true),StructField(unknown,IntegerType,true),StructField(Action,IntegerType,true),StructField(Adventure,IntegerType,true),StructField(Animation,IntegerType,true),StructField(Children's,IntegerType,true),StructField(Comedy,IntegerType,true),StructField(Crime,IntegerType,true),StructField(Documentary,IntegerType,true),StructField(Drama,IntegerType,true),StructField(Fantasy,IntegerType,true),StructField(Film-Noir,IntegerType,true),StructField(Horror,IntegerType,true),StructField(Musical,IntegerType,true),StructField(Mystery,IntegerType,true),StructField(Romance,IntegerType,true),StructField(Sci-Fi,IntegerType,true),StructField(Thriller,IntegerType,true),StructField(War,IntegerType,true),StructField(Western,IntegerType,true)))"
      ]
     },
     "execution_count": 15,
     "metadata": {},
     "output_type": "execute_result"
    }
   ],
   "source": [
    "movie_details_data_schema"
   ]
  },
  {
   "cell_type": "code",
   "execution_count": 16,
   "id": "5d195dbf",
   "metadata": {},
   "outputs": [],
   "source": [
    "movie_details_data = spark.\\\n",
    "                    read.\\\n",
    "                    option('sep', '|'). \\\n",
    "                    csv(movie_details_path, schema=movie_details_data_schema)"
   ]
  },
  {
   "cell_type": "code",
   "execution_count": 17,
   "id": "0d86d508",
   "metadata": {},
   "outputs": [
    {
     "name": "stdout",
     "output_type": "stream",
     "text": [
      "+-------+----------------+-----------+----------------+--------------------+-------+------+---------+---------+----------+------+-----+-----------+-----+-------+---------+------+-------+-------+-------+------+--------+---+-------+\n",
      "|movieid|      movietitle|releasedate|videoreleasedate|             IMDbURL|unknown|Action|Adventure|Animation|Children's|Comedy|Crime|Documentary|Drama|Fantasy|Film-Noir|Horror|Musical|Mystery|Romance|Sci-Fi|Thriller|War|Western|\n",
      "+-------+----------------+-----------+----------------+--------------------+-------+------+---------+---------+----------+------+-----+-----------+-----+-------+---------+------+-------+-------+-------+------+--------+---+-------+\n",
      "|      1|Toy Story (1995)|01-Jan-1995|            null|http://us.imdb.co...|      0|     0|        0|        1|         1|     1|    0|          0|    0|      0|        0|     0|      0|      0|      0|     0|       0|  0|      0|\n",
      "+-------+----------------+-----------+----------------+--------------------+-------+------+---------+---------+----------+------+-----+-----------+-----+-------+---------+------+-------+-------+-------+------+--------+---+-------+\n",
      "only showing top 1 row\n",
      "\n"
     ]
    }
   ],
   "source": [
    "movie_details_data.show(1)"
   ]
  },
  {
   "cell_type": "markdown",
   "id": "3a7bc310",
   "metadata": {},
   "source": [
    "## Reading the third dataset"
   ]
  },
  {
   "cell_type": "code",
   "execution_count": 18,
   "id": "e37ea931",
   "metadata": {},
   "outputs": [],
   "source": [
    "user_details_headers = ['userid', 'age', 'gender', 'occupation', 'zip code']\n",
    "user_details_data_schema = spark.\\\n",
    "                    read.\\\n",
    "                    option('sep', '|'). \\\n",
    "                    csv(users_details_path, inferSchema=True).schema"
   ]
  },
  {
   "cell_type": "code",
   "execution_count": 19,
   "id": "2a75d39c",
   "metadata": {},
   "outputs": [],
   "source": [
    "for col_index,curr_col in zip(range(0, len(user_details_data_schema)),user_details_data_schema):\n",
    "    curr_col.name = user_details_headers[col_index]"
   ]
  },
  {
   "cell_type": "code",
   "execution_count": 20,
   "id": "109d40a9",
   "metadata": {},
   "outputs": [],
   "source": [
    "user_details_data = spark.\\\n",
    "                    read.\\\n",
    "                    option('sep', '|'). \\\n",
    "                    csv(users_details_path, schema=user_details_data_schema)"
   ]
  },
  {
   "cell_type": "code",
   "execution_count": 21,
   "id": "88bb6eab",
   "metadata": {},
   "outputs": [
    {
     "name": "stdout",
     "output_type": "stream",
     "text": [
      "+------+---+------+----------+--------+\n",
      "|userid|age|gender|occupation|zip code|\n",
      "+------+---+------+----------+--------+\n",
      "|     1| 24|     M|technician|   85711|\n",
      "|     2| 53|     F|     other|   94043|\n",
      "+------+---+------+----------+--------+\n",
      "only showing top 2 rows\n",
      "\n"
     ]
    }
   ],
   "source": [
    "user_details_data.show(2)"
   ]
  },
  {
   "cell_type": "markdown",
   "id": "58b51083",
   "metadata": {},
   "source": [
    "## EDA and cleaning of rating data\n",
    "- created new column with unix timestamp converted to actual timestamp\n",
    "- actual timestamp type casted fro string to timestamp data type"
   ]
  },
  {
   "cell_type": "code",
   "execution_count": 22,
   "id": "2e3232d1",
   "metadata": {},
   "outputs": [
    {
     "name": "stdout",
     "output_type": "stream",
     "text": [
      "+------+------+------+--------------+\n",
      "|userid|itemid|rating|unix_timestamp|\n",
      "+------+------+------+--------------+\n",
      "|   196|   242|     3|     881250949|\n",
      "|   186|   302|     3|     891717742|\n",
      "+------+------+------+--------------+\n",
      "only showing top 2 rows\n",
      "\n"
     ]
    }
   ],
   "source": [
    "movie_ratings_data.show(2)"
   ]
  },
  {
   "cell_type": "code",
   "execution_count": 23,
   "id": "18a4fe0a",
   "metadata": {},
   "outputs": [],
   "source": [
    "# conerting unix timestamp to actual time\n",
    "from pyspark.sql.functions import from_unixtime\n",
    "# from_unixtime?"
   ]
  },
  {
   "cell_type": "code",
   "execution_count": 24,
   "id": "06345549",
   "metadata": {},
   "outputs": [],
   "source": [
    "from pyspark.sql.functions import col\n",
    "movie_ratings_data = movie_ratings_data. \\\n",
    "                    withColumn('actualTime', from_unixtime(col('unix_timestamp')))"
   ]
  },
  {
   "cell_type": "code",
   "execution_count": 25,
   "id": "e52eed67",
   "metadata": {},
   "outputs": [
    {
     "data": {
      "text/plain": [
       "DataFrame[userid: int, itemid: int, rating: int, unix_timestamp: int, actualTime: string]"
      ]
     },
     "execution_count": 25,
     "metadata": {},
     "output_type": "execute_result"
    }
   ],
   "source": [
    "movie_ratings_data"
   ]
  },
  {
   "cell_type": "code",
   "execution_count": 26,
   "id": "7c1616d2",
   "metadata": {},
   "outputs": [],
   "source": [
    "#converting actual time from String to timestamp\n",
    "from pyspark.sql.functions import to_timestamp\n",
    "\n",
    "#to see how to use, also give spark doc link to see how to give date format\n",
    "# to_timestamp?"
   ]
  },
  {
   "cell_type": "code",
   "execution_count": 27,
   "id": "b849c4a4",
   "metadata": {},
   "outputs": [],
   "source": [
    "movie_ratings_data = movie_ratings_data. \\\n",
    "                    withColumn('actualTime', to_timestamp(col('actualTime'), 'yyyy-MM-dd HH:mm:ss'))"
   ]
  },
  {
   "cell_type": "code",
   "execution_count": 28,
   "id": "5bfc6523",
   "metadata": {},
   "outputs": [
    {
     "data": {
      "text/plain": [
       "DataFrame[userid: int, itemid: int, rating: int, unix_timestamp: int, actualTime: timestamp]"
      ]
     },
     "execution_count": 28,
     "metadata": {},
     "output_type": "execute_result"
    }
   ],
   "source": [
    "movie_ratings_data"
   ]
  },
  {
   "cell_type": "code",
   "execution_count": 29,
   "id": "cd3eb6fe",
   "metadata": {},
   "outputs": [
    {
     "name": "stdout",
     "output_type": "stream",
     "text": [
      "+------+------+------+--------------+-------------------+\n",
      "|userid|itemid|rating|unix_timestamp|         actualTime|\n",
      "+------+------+------+--------------+-------------------+\n",
      "|   196|   242|     3|     881250949|1997-12-04 21:25:49|\n",
      "|   186|   302|     3|     891717742|1998-04-05 00:52:22|\n",
      "+------+------+------+--------------+-------------------+\n",
      "only showing top 2 rows\n",
      "\n"
     ]
    }
   ],
   "source": [
    "movie_ratings_data.show(2)"
   ]
  },
  {
   "cell_type": "code",
   "execution_count": 30,
   "id": "ab692ea2",
   "metadata": {},
   "outputs": [
    {
     "name": "stdout",
     "output_type": "stream",
     "text": [
      "total records in dataset:  100000\n",
      "total unique users: 943\n",
      "total unique movies: 1682\n",
      "top 2 users that gave most ratings:\n",
      "+------+-----+\n",
      "|userid|count|\n",
      "+------+-----+\n",
      "|   405|  737|\n",
      "|   655|  685|\n",
      "+------+-----+\n",
      "only showing top 2 rows\n",
      "\n",
      "top 2 movies that got most ratings:\n",
      "+------+-----+\n",
      "|itemid|count|\n",
      "+------+-----+\n",
      "|    50|  583|\n",
      "|   258|  509|\n",
      "+------+-----+\n",
      "only showing top 2 rows\n",
      "\n"
     ]
    }
   ],
   "source": [
    "print('total records in dataset: ',movie_ratings_data.count())\n",
    "print('total unique users:',movie_ratings_data.select('userid').groupby('userid').count().count())\n",
    "print('total unique movies:',movie_ratings_data.select('itemid').groupby('itemid').count().count())\n",
    "print('top 2 users that gave most ratings:')\n",
    "movie_ratings_data.select('userid').groupby('userid').count().sort(col('count').desc()).show(2)\n",
    "\n",
    "print('top 2 movies that got most ratings:')\n",
    "movie_ratings_data.select('itemid').groupby('itemid').count().sort(col('count').desc()).show(2)"
   ]
  },
  {
   "cell_type": "markdown",
   "id": "5ae2a0f1",
   "metadata": {},
   "source": [
    "## EDA and cleaning movie data"
   ]
  },
  {
   "cell_type": "code",
   "execution_count": 31,
   "id": "b2507d36",
   "metadata": {},
   "outputs": [
    {
     "data": {
      "text/plain": [
       "DataFrame[movieid: int, movietitle: string, releasedate: string, videoreleasedate: string, IMDbURL: string, unknown: int, Action: int, Adventure: int, Animation: int, Children's: int, Comedy: int, Crime: int, Documentary: int, Drama: int, Fantasy: int, Film-Noir: int, Horror: int, Musical: int, Mystery: int, Romance: int, Sci-Fi: int, Thriller: int, War: int, Western: int]"
      ]
     },
     "execution_count": 31,
     "metadata": {},
     "output_type": "execute_result"
    }
   ],
   "source": [
    "movie_details_data"
   ]
  },
  {
   "cell_type": "code",
   "execution_count": 32,
   "id": "94dd844c",
   "metadata": {},
   "outputs": [
    {
     "name": "stdout",
     "output_type": "stream",
     "text": [
      "total records  1682\n",
      "videoreleasedate not  null:  0\n",
      "videoreleasedate null:  1682\n"
     ]
    }
   ],
   "source": [
    "print('total records ', movie_details_data.count())\n",
    "print('videoreleasedate not  null: ',movie_details_data.filter(col('videoreleasedate').isNotNull()).count())\n",
    "print('videoreleasedate null: ',movie_details_data.filter(col('videoreleasedate').isNull()).count())"
   ]
  },
  {
   "cell_type": "code",
   "execution_count": 33,
   "id": "a7ae3016",
   "metadata": {},
   "outputs": [],
   "source": [
    "#since all values are null\n",
    "movie_details_data = movie_details_data.drop('videoreleasedate')"
   ]
  },
  {
   "cell_type": "code",
   "execution_count": 34,
   "id": "2579eb41",
   "metadata": {},
   "outputs": [],
   "source": [
    "from pyspark.sql.functions import to_date\n",
    "# to_date?"
   ]
  },
  {
   "cell_type": "code",
   "execution_count": 35,
   "id": "7be46013",
   "metadata": {},
   "outputs": [],
   "source": [
    "#casting release date to date type from string\n",
    "spark.sql(\"set spark.sql.legacy.timeParserPolicy=LEGACY\")\n",
    "movie_details_data = movie_details_data.withColumn('releasedate', to_date('releasedate', 'dd-MMM-yyyy'))"
   ]
  },
  {
   "cell_type": "code",
   "execution_count": 36,
   "id": "937e9d79",
   "metadata": {},
   "outputs": [
    {
     "data": {
      "text/plain": [
       "DataFrame[movieid: int, movietitle: string, releasedate: date, IMDbURL: string, unknown: int, Action: int, Adventure: int, Animation: int, Children's: int, Comedy: int, Crime: int, Documentary: int, Drama: int, Fantasy: int, Film-Noir: int, Horror: int, Musical: int, Mystery: int, Romance: int, Sci-Fi: int, Thriller: int, War: int, Western: int]"
      ]
     },
     "execution_count": 36,
     "metadata": {},
     "output_type": "execute_result"
    }
   ],
   "source": [
    "movie_details_data"
   ]
  },
  {
   "cell_type": "code",
   "execution_count": 37,
   "id": "d2527356",
   "metadata": {},
   "outputs": [],
   "source": [
    "from pyspark.sql.functions import regexp_extract, split\n",
    "# regexp_extract?\n",
    "# split?"
   ]
  },
  {
   "cell_type": "code",
   "execution_count": 38,
   "id": "c55ac6ab",
   "metadata": {},
   "outputs": [
    {
     "name": "stdout",
     "output_type": "stream",
     "text": [
      "+------------------------------------------------------------+--------------------------------+-----------------------------------+\n",
      "|IMDbURL                                                     |leadingUrl                      |searchQuery                        |\n",
      "+------------------------------------------------------------+--------------------------------+-----------------------------------+\n",
      "|http://us.imdb.com/M/title-exact?Toy%20Story%20(1995)       |http://us.imdb.com/M/title-exact|Toy%20Story%20(1995)               |\n",
      "|http://us.imdb.com/M/title-exact?GoldenEye%20(1995)         |http://us.imdb.com/M/title-exact|GoldenEye%20(1995)                 |\n",
      "|http://us.imdb.com/M/title-exact?Four%20Rooms%20(1995)      |http://us.imdb.com/M/title-exact|Four%20Rooms%20(1995)              |\n",
      "|http://us.imdb.com/M/title-exact?Get%20Shorty%20(1995)      |http://us.imdb.com/M/title-exact|Get%20Shorty%20(1995)              |\n",
      "|http://us.imdb.com/M/title-exact?Copycat%20(1995)           |http://us.imdb.com/M/title-exact|Copycat%20(1995)                   |\n",
      "|http://us.imdb.com/Title?Yao+a+yao+yao+dao+waipo+qiao+(1995)|http://us.imdb.com/Title        |Yao+a+yao+yao+dao+waipo+qiao+(1995)|\n",
      "|http://us.imdb.com/M/title-exact?Twelve%20Monkeys%20(1995)  |http://us.imdb.com/M/title-exact|Twelve%20Monkeys%20(1995)          |\n",
      "+------------------------------------------------------------+--------------------------------+-----------------------------------+\n",
      "only showing top 7 rows\n",
      "\n"
     ]
    }
   ],
   "source": [
    "# Signature: regexp_extract(str, pattern, idx)\n",
    "movie_details_data.\\\n",
    "    select('IMDbURL').\\\n",
    "    withColumn('leadingUrl',split(col('IMDbURL'), '\\\\?')[0]).\\\n",
    "    withColumn('searchQuery', split(col('IMDbURL'), '\\\\?')[1]).\\\n",
    "    show(7, truncate=False)"
   ]
  },
  {
   "cell_type": "markdown",
   "id": "a6d488b1",
   "metadata": {},
   "source": [
    "## Questions"
   ]
  },
  {
   "cell_type": "markdown",
   "id": "7ec7b808",
   "metadata": {},
   "source": [
    "### How many movies are 5 star rated, 4 star rated ... etc"
   ]
  },
  {
   "cell_type": "code",
   "execution_count": 39,
   "id": "9ee9d16e",
   "metadata": {},
   "outputs": [
    {
     "name": "stdout",
     "output_type": "stream",
     "text": [
      "+------+------+------+--------------+-------------------+\n",
      "|userid|itemid|rating|unix_timestamp|         actualTime|\n",
      "+------+------+------+--------------+-------------------+\n",
      "|   196|   242|     3|     881250949|1997-12-04 21:25:49|\n",
      "|   186|   302|     3|     891717742|1998-04-05 00:52:22|\n",
      "|    22|   377|     1|     878887116|1997-11-07 12:48:36|\n",
      "|   244|    51|     2|     880606923|1997-11-27 10:32:03|\n",
      "|   166|   346|     1|     886397596|1998-02-02 11:03:16|\n",
      "+------+------+------+--------------+-------------------+\n",
      "only showing top 5 rows\n",
      "\n"
     ]
    }
   ],
   "source": [
    "movie_ratings_data.show(5)"
   ]
  },
  {
   "cell_type": "code",
   "execution_count": 40,
   "id": "8f7fe53f",
   "metadata": {},
   "outputs": [
    {
     "name": "stdout",
     "output_type": "stream",
     "text": [
      "+------+------------+\n",
      "|rating|movies_count|\n",
      "+------+------------+\n",
      "|     5|       21201|\n",
      "|     4|       34174|\n",
      "|     3|       27145|\n",
      "|     2|       11370|\n",
      "|     1|        6110|\n",
      "+------+------------+\n",
      "\n"
     ]
    }
   ],
   "source": [
    "from pyspark.sql.functions import count\n",
    "movie_ratings_data.groupby('rating').agg(count('itemid').alias('movies_count')).sort(col('rating').desc()).show()"
   ]
  },
  {
   "cell_type": "markdown",
   "id": "9fb770bc",
   "metadata": {},
   "source": [
    "### Finding the most popular movie"
   ]
  },
  {
   "cell_type": "code",
   "execution_count": 41,
   "id": "28c7f4d8",
   "metadata": {},
   "outputs": [
    {
     "name": "stdout",
     "output_type": "stream",
     "text": [
      "+-------+-----------------+\n",
      "|movieid|       movietitle|\n",
      "+-------+-----------------+\n",
      "|      1| Toy Story (1995)|\n",
      "|      2| GoldenEye (1995)|\n",
      "|      3|Four Rooms (1995)|\n",
      "|      4|Get Shorty (1995)|\n",
      "|      5|   Copycat (1995)|\n",
      "+-------+-----------------+\n",
      "only showing top 5 rows\n",
      "\n"
     ]
    }
   ],
   "source": [
    "movie_details_data.select('movieid', 'movietitle').show(5)"
   ]
  },
  {
   "cell_type": "code",
   "execution_count": 42,
   "id": "23da4793",
   "metadata": {},
   "outputs": [
    {
     "name": "stdout",
     "output_type": "stream",
     "text": [
      "+------+-----+--------------------------------+\n",
      "|itemid|count|movietitle                      |\n",
      "+------+-----+--------------------------------+\n",
      "|50    |583  |Star Wars (1977)                |\n",
      "|258   |509  |Contact (1997)                  |\n",
      "|100   |508  |Fargo (1996)                    |\n",
      "|181   |507  |Return of the Jedi (1983)       |\n",
      "|294   |485  |Liar Liar (1997)                |\n",
      "|286   |481  |English Patient, The (1996)     |\n",
      "|288   |478  |Scream (1996)                   |\n",
      "|1     |452  |Toy Story (1995)                |\n",
      "|300   |431  |Air Force One (1997)            |\n",
      "|121   |429  |Independence Day (ID4) (1996)   |\n",
      "|174   |420  |Raiders of the Lost Ark (1981)  |\n",
      "|127   |413  |Godfather, The (1972)           |\n",
      "|56    |394  |Pulp Fiction (1994)             |\n",
      "|7     |392  |Twelve Monkeys (1995)           |\n",
      "|98    |390  |Silence of the Lambs, The (1991)|\n",
      "|237   |384  |Jerry Maguire (1996)            |\n",
      "|117   |378  |Rock, The (1996)                |\n",
      "|172   |367  |Empire Strikes Back, The (1980) |\n",
      "|222   |365  |Star Trek: First Contact (1996) |\n",
      "|204   |350  |Back to the Future (1985)       |\n",
      "+------+-----+--------------------------------+\n",
      "only showing top 20 rows\n",
      "\n"
     ]
    }
   ],
   "source": [
    "movie_ratings_data.\\\n",
    "    select('itemid'). \\\n",
    "    groupby('itemid'). \\\n",
    "    count(). \\\n",
    "    join(movie_details_data.select('movieid', 'movietitle'),\n",
    "         movie_ratings_data['itemid'] == movie_details_data['movieid'],\n",
    "         how='left'\n",
    "        ). \\\n",
    "    drop('movieid'). \\\n",
    "    sort(col('count').desc()). \\\n",
    "    show(20, truncate=False)"
   ]
  },
  {
   "cell_type": "markdown",
   "id": "da00b023",
   "metadata": {},
   "source": [
    "#### Solution for above problem but instead of using join we will broadcast the table which we joined (with movies name), since it is kind of a lookup tables and will be used a lot\n",
    "- what is broadcast variable explained in notes"
   ]
  },
  {
   "cell_type": "code",
   "execution_count": 43,
   "id": "7f24f423",
   "metadata": {},
   "outputs": [],
   "source": [
    "movie_name_list = movie_details_data.select('movieid', 'movietitle').collect()\n",
    "movie_name_dict = {str(movie['movieid']): movie['movietitle'] for movie in movie_name_list}\n",
    "movies_name_lookup =  spark.sparkContext.broadcast(movie_name_dict)"
   ]
  },
  {
   "cell_type": "code",
   "execution_count": 44,
   "id": "497dffa5",
   "metadata": {},
   "outputs": [],
   "source": [
    "# didn't work with boradcast"
   ]
  },
  {
   "cell_type": "markdown",
   "id": "adb61ed6",
   "metadata": {},
   "source": [
    "### Find Similar movies based on user ratings"
   ]
  },
  {
   "cell_type": "code",
   "execution_count": 45,
   "id": "34668c85",
   "metadata": {},
   "outputs": [],
   "source": [
    "import sys, time\n",
    "from math import sqrt"
   ]
  },
  {
   "cell_type": "code",
   "execution_count": 46,
   "id": "a5ee58a9",
   "metadata": {},
   "outputs": [],
   "source": [
    "scoreThreshold = 0.97\n",
    "coOccurenceThreshold = 50\n",
    "movieId = 50\n",
    "simstrengthCut = 200"
   ]
  },
  {
   "cell_type": "code",
   "execution_count": 47,
   "id": "25dac47d",
   "metadata": {},
   "outputs": [
    {
     "data": {
      "text/plain": [
       "100000"
      ]
     },
     "execution_count": 47,
     "metadata": {},
     "output_type": "execute_result"
    }
   ],
   "source": [
    "# filter duplicate records from ratings data\n",
    "movie_ratings_data.count()"
   ]
  },
  {
   "cell_type": "code",
   "execution_count": 48,
   "id": "0288e991",
   "metadata": {},
   "outputs": [
    {
     "data": {
      "text/plain": [
       "100000"
      ]
     },
     "execution_count": 48,
     "metadata": {},
     "output_type": "execute_result"
    }
   ],
   "source": [
    "movie_ratings_data.distinct().count()"
   ]
  },
  {
   "cell_type": "code",
   "execution_count": 49,
   "id": "89d3321d",
   "metadata": {},
   "outputs": [],
   "source": [
    "# Step 1: join all movie ratings with other movie ratings\n",
    "# if we simply join then there will be ot of duplicates since if a record 'a' is joined with record 'b', then record 'b' will also join will record 'a'\n",
    "# also record 'a' will be joined with record 'a' itslef (which is completely useless, since we'll not find movie similarity with itself)\n",
    "# solution: we can join with case when 'movieid a' < 'movieid b' ... so a==a case will be eliminated and record 'b' will not join record 'a' since a<b"
   ]
  },
  {
   "cell_type": "code",
   "execution_count": 50,
   "id": "3712f1f8",
   "metadata": {},
   "outputs": [
    {
     "name": "stdout",
     "output_type": "stream",
     "text": [
      "+------+------+------+--------------+-------------------+\n",
      "|userid|itemid|rating|unix_timestamp|         actualTime|\n",
      "+------+------+------+--------------+-------------------+\n",
      "|   196|   242|     3|     881250949|1997-12-04 21:25:49|\n",
      "|   186|   302|     3|     891717742|1998-04-05 00:52:22|\n",
      "+------+------+------+--------------+-------------------+\n",
      "only showing top 2 rows\n",
      "\n"
     ]
    }
   ],
   "source": [
    "movie_ratings_data.show(2)"
   ]
  },
  {
   "cell_type": "code",
   "execution_count": 51,
   "id": "c648fc35",
   "metadata": {},
   "outputs": [
    {
     "name": "stdout",
     "output_type": "stream",
     "text": [
      "+------+------+------+--------------+-------------------+------+------+------+--------------+-------------------+\n",
      "|userid|itemid|rating|unix_timestamp|         actualTime|userid|itemid|rating|unix_timestamp|         actualTime|\n",
      "+------+------+------+--------------+-------------------+------+------+------+--------------+-------------------+\n",
      "|   196|   242|     3|     881250949|1997-12-04 21:25:49|   186|   302|     3|     891717742|1998-04-05 00:52:22|\n",
      "|   196|   242|     3|     881250949|1997-12-04 21:25:49|    22|   377|     1|     878887116|1997-11-07 12:48:36|\n",
      "|   196|   242|     3|     881250949|1997-12-04 21:25:49|   166|   346|     1|     886397596|1998-02-02 11:03:16|\n",
      "|   196|   242|     3|     881250949|1997-12-04 21:25:49|   298|   474|     4|     884182806|1998-01-07 19:50:06|\n",
      "|   196|   242|     3|     881250949|1997-12-04 21:25:49|   115|   265|     2|     881171488|1997-12-03 23:21:28|\n",
      "+------+------+------+--------------+-------------------+------+------+------+--------------+-------------------+\n",
      "only showing top 5 rows\n",
      "\n"
     ]
    }
   ],
   "source": [
    "movie_ratings_joined = movie_ratings_data.alias('mrd1').join(\n",
    "    movie_ratings_data.alias('mrd2'),\n",
    "    col('mrd1.itemid') < col('mrd2.itemid'),\n",
    "    how = 'inner'\n",
    ")\n",
    "movie_ratings_joined.show(5)"
   ]
  },
  {
   "cell_type": "code",
   "execution_count": 142,
   "id": "a8e1b71c",
   "metadata": {},
   "outputs": [
    {
     "name": "stdout",
     "output_type": "stream",
     "text": [
      "+------+------+------+-------------------+------+------+------+-------------------+-------------+------------+\n",
      "|userid|itemid|rating|         actualTime|userid|itemid|rating|         actualTime|movieid_pairs|rating_pairs|\n",
      "+------+------+------+-------------------+------+------+------+-------------------+-------------+------------+\n",
      "|   196|   242|     3|1997-12-04 21:25:49|   186|   302|     3|1998-04-05 00:52:22|      242-302|         3-3|\n",
      "|   196|   242|     3|1997-12-04 21:25:49|    22|   377|     1|1997-11-07 12:48:36|      242-377|         3-1|\n",
      "|   196|   242|     3|1997-12-04 21:25:49|   166|   346|     1|1998-02-02 11:03:16|      242-346|         3-1|\n",
      "|   196|   242|     3|1997-12-04 21:25:49|   298|   474|     4|1998-01-07 19:50:06|      242-474|         3-4|\n",
      "|   196|   242|     3|1997-12-04 21:25:49|   115|   265|     2|1997-12-03 23:21:28|      242-265|         3-2|\n",
      "+------+------+------+-------------------+------+------+------+-------------------+-------------+------------+\n",
      "only showing top 5 rows\n",
      "\n"
     ]
    }
   ],
   "source": [
    "from pyspark.sql.functions import concat, lit\n",
    "\n",
    "movie_pairs = movie_ratings_joined. \\\n",
    "drop('unix_timestamp', 'mrd2.unix_timestamp'). \\\n",
    "withColumn('movieid_pairs', concat('mrd1.itemid', lit('-'), 'mrd2.itemid')). \\\n",
    "withColumn('rating_pairs', concat('mrd1.rating', lit('-'), 'mrd2.rating'))\n",
    "\n",
    "movie_pairs.show(5)"
   ]
  },
  {
   "cell_type": "code",
   "execution_count": 143,
   "id": "ce2838d2",
   "metadata": {},
   "outputs": [
    {
     "data": {
      "text/plain": [
       "DataFrame[userid: int, itemid: int, rating: int, actualTime: timestamp, userid: int, itemid: int, rating: int, actualTime: timestamp, movieid_pairs: string, rating_pairs: string]"
      ]
     },
     "execution_count": 143,
     "metadata": {},
     "output_type": "execute_result"
    }
   ],
   "source": [
    "movie_pairs"
   ]
  },
  {
   "cell_type": "code",
   "execution_count": 144,
   "id": "7a37ad1d",
   "metadata": {},
   "outputs": [
    {
     "data": {
      "text/plain": [
       "4991596405"
      ]
     },
     "execution_count": 144,
     "metadata": {},
     "output_type": "execute_result"
    }
   ],
   "source": [
    "movie_pairs. \\\n",
    "count()"
   ]
  },
  {
   "cell_type": "code",
   "execution_count": 145,
   "id": "812e3d3e",
   "metadata": {},
   "outputs": [],
   "source": [
    "movie_pairs_filtered = movie_pairs.filter((col('mrd1.itemid')==50) | (col('mrd2.itemid')==50))"
   ]
  },
  {
   "cell_type": "code",
   "execution_count": 54,
   "id": "3854b30f",
   "metadata": {},
   "outputs": [
    {
     "data": {
      "text/plain": [
       "DataFrame[movieid_pairs: string, count: bigint]"
      ]
     },
     "execution_count": 54,
     "metadata": {},
     "output_type": "execute_result"
    }
   ],
   "source": [
    "# movie_pairs_filtered. \\\n",
    "# select('movieid_pairs', 'rating_pairs'). \\\n",
    "# groupBy('movieid_pairs'). \\\n",
    "# count()"
   ]
  },
  {
   "cell_type": "code",
   "execution_count": 146,
   "id": "45a5437d",
   "metadata": {},
   "outputs": [],
   "source": [
    "from pyspark.sql.functions import collect_list\n",
    "movie_rating_pairs_by_id = movie_pairs_filtered. \\\n",
    "select('movieid_pairs', 'rating_pairs'). \\\n",
    "groupBy('movieid_pairs'). \\\n",
    "agg(collect_list('rating_pairs').alias('rating_pairs_list'))"
   ]
  },
  {
   "cell_type": "code",
   "execution_count": 147,
   "id": "f5f3e1c8",
   "metadata": {},
   "outputs": [
    {
     "data": {
      "text/plain": [
       "1681"
      ]
     },
     "execution_count": 147,
     "metadata": {},
     "output_type": "execute_result"
    }
   ],
   "source": [
    "movie_rating_pairs_by_id.count()"
   ]
  },
  {
   "cell_type": "code",
   "execution_count": 148,
   "id": "d4514ed0",
   "metadata": {},
   "outputs": [
    {
     "name": "stdout",
     "output_type": "stream",
     "text": [
      "+-------------+--------------------+\n",
      "|movieid_pairs|   rating_pairs_list|\n",
      "+-------------+--------------------+\n",
      "|       50-110|[4-3, 4-1, 4-3, 4...|\n",
      "|      50-1532|[4-2, 4-2, 4-2, 4...|\n",
      "|       50-238|[5-1, 5-4, 5-2, 5...|\n",
      "|       50-542|[4-2, 2-2, 4-2, 2...|\n",
      "|       50-942|[4-3, 4-4, 4-3, 4...|\n",
      "|       50-956|[5-4, 3-4, 5-1, 3...|\n",
      "|      50-1115|[5-5, 5-3, 5-3, 5...|\n",
      "|      50-1237|[4-3, 5-3, 4-3, 5...|\n",
      "|       50-129|[5-4, 4-5, 5-3, 4...|\n",
      "|      50-1678|[3-1, 5-1, 4-1, 5...|\n",
      "|       50-277|[5-5, 3-4, 5-4, 3...|\n",
      "|       50-349|[5-3, 5-2, 5-3, 5...|\n",
      "|       50-620|[5-4, 4-4, 5-3, 4...|\n",
      "|       50-840|[4-2, 5-2, 4-3, 5...|\n",
      "|       50-921|[3-5, 1-5, 3-5, 1...|\n",
      "|       50-933|[5-3, 5-4, 5-1, 5...|\n",
      "|      50-1081|[4-3, 5-1, 4-3, 5...|\n",
      "|      50-1364|[5-1, 2-1, 5-1, 5...|\n",
      "|      50-1460|[5-3, 2-3, 4-3, 4...|\n",
      "|       50-209|[5-3, 5-5, 5-5, 5...|\n",
      "+-------------+--------------------+\n",
      "only showing top 20 rows\n",
      "\n"
     ]
    }
   ],
   "source": [
    "movie_rating_pairs_by_id.show()"
   ]
  },
  {
   "cell_type": "code",
   "execution_count": 149,
   "id": "2b105152",
   "metadata": {},
   "outputs": [],
   "source": [
    "def findCosineSimilarity(ratings_pairs):\n",
    "    nominator = 0\n",
    "    denom1 = 0\n",
    "    denom2 = 0\n",
    "\n",
    "    for rp in ratings_pairs:\n",
    "        r1, r2 = rp.split('-')\n",
    "        r1 = int(r1.strip())\n",
    "        r2 = int(r2.strip())\n",
    "        \n",
    "#         return str(r1)+'-'+str(r2)\n",
    "    \n",
    "        nominator += (r1*r2)\n",
    "        denom1 += (r1*r1)\n",
    "        denom2 +=(r2*r2)\n",
    "        \n",
    "    denom = sqrt(denom1)*sqrt(denom2)\n",
    "    similarity = 0\n",
    "    if denom!=0:\n",
    "        similarity = nominator/(denom)\n",
    "    return similarity#, len(ratings_pairs)"
   ]
  },
  {
   "cell_type": "code",
   "execution_count": 150,
   "id": "94b27c95",
   "metadata": {},
   "outputs": [],
   "source": [
    "from pyspark.sql.functions import udf\n",
    "cosSimUdf = udf(lambda rating_pair: findCosineSimilarity(rating_pair))"
   ]
  },
  {
   "cell_type": "code",
   "execution_count": 151,
   "id": "5e6194fb",
   "metadata": {},
   "outputs": [],
   "source": [
    "movie_similarity = movie_rating_pairs_by_id. \\\n",
    "withColumn('similarityValue', cosSimUdf(col('rating_pairs_list')))"
   ]
  },
  {
   "cell_type": "code",
   "execution_count": 152,
   "id": "4b190d11",
   "metadata": {},
   "outputs": [
    {
     "data": {
      "text/plain": [
       "DataFrame[movieid_pairs: string, rating_pairs_list: array<string>, similarityValue: string]"
      ]
     },
     "execution_count": 152,
     "metadata": {},
     "output_type": "execute_result"
    }
   ],
   "source": [
    "#because we don't want to recompute it again and again everytime we call for 2 different movies\n",
    "movie_similarity.cache()"
   ]
  },
  {
   "cell_type": "code",
   "execution_count": null,
   "id": "535694c4",
   "metadata": {},
   "outputs": [],
   "source": [
    "movie_similarity.count()"
   ]
  },
  {
   "cell_type": "code",
   "execution_count": null,
   "id": "57979fb4",
   "metadata": {},
   "outputs": [],
   "source": [
    "movie_similarity. \\\n",
    "filter(size(col('rating_pairs_list'))>50). \\\n",
    "count()"
   ]
  },
  {
   "cell_type": "code",
   "execution_count": null,
   "id": "8461877c",
   "metadata": {},
   "outputs": [],
   "source": [
    "from pyspark.sql.functions import size, split\n",
    "movie_similarity. \\\n",
    "show(50)\n",
    "\n",
    "# withColumn('numOfRatings', size(col('rating_pairs_list'))). \\\n",
    "# filter(col('numOfRatings')>coOccurenceThreshold). \\\n",
    "# filter(col('similarityValue')>scoreThreshold). \\\n",
    "# drop('rating_pairs_list'). \\\n",
    "# sort(col('similarityValue').desc()). \\\n",
    "# withColumn('movieMatched', split('movieid_pairs', ',')[1].cast('int')). \\\n",
    "# join(movie_details_data.select('movieid', 'movietitle'),\n",
    "#          col('movieMatched') == movie_details_data['movieid'],\n",
    "#          how='left'). \\\n",
    "# drop('movieMatched', 'movieid'). \\\n",
    "# show(50, truncate=False)"
   ]
  },
  {
   "cell_type": "code",
   "execution_count": null,
   "id": "594bf4ab",
   "metadata": {},
   "outputs": [],
   "source": []
  }
 ],
 "metadata": {
  "kernelspec": {
   "display_name": "Python 3 (ipykernel)",
   "language": "python",
   "name": "python3"
  },
  "language_info": {
   "codemirror_mode": {
    "name": "ipython",
    "version": 3
   },
   "file_extension": ".py",
   "mimetype": "text/x-python",
   "name": "python",
   "nbconvert_exporter": "python",
   "pygments_lexer": "ipython3",
   "version": "3.8.11"
  }
 },
 "nbformat": 4,
 "nbformat_minor": 5
}
