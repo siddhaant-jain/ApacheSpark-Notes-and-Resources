{
 "cells": [
  {
   "cell_type": "code",
   "execution_count": 1,
   "id": "d9c3dcea-7b76-464d-8cec-2e08bf27cbc9",
   "metadata": {},
   "outputs": [],
   "source": [
    "import os\n",
    "import sys\n",
    "from pyspark.sql import SparkSession\n",
    "\n",
    "os.environ[\"HADOOP_HOME\"] = \"C:\\\\Users\\\\SkJain\\\\Downloads\\\\Compressed\\\\winutils-master\\\\hadoop-3.2.2\"\n",
    "sys.path.append('C:\\\\Users\\\\SkJain\\\\Downloads\\\\Compressed\\\\winutils-master\\\\hadoop-3.2.2\\\\bin')"
   ]
  },
  {
   "cell_type": "code",
   "execution_count": 1,
   "id": "2e69d0bf-fb81-4cc3-80e5-ac04167bb755",
   "metadata": {},
   "outputs": [
    {
     "data": {
      "text/plain": [
       "'SkJain'"
      ]
     },
     "execution_count": 1,
     "metadata": {},
     "output_type": "execute_result"
    }
   ],
   "source": [
    "import getpass\n",
    "getpass.getuser()"
   ]
  },
  {
   "cell_type": "markdown",
   "id": "8dfcc151-edc4-44a6-b6f0-816ef21ad3a6",
   "metadata": {},
   "source": [
    "## Spark Context and Spark Session\n",
    "- SparkSession is class in pyspark.sql package\n",
    "- it is a wrapper on top of SparkContext\n",
    "- when we create SparkSession, it will automatically cretae SparkContext if it doesn't exists\n",
    "- SparkContext is a web service which is created when spark app is submitted through spark-submit, spark-shell or pyspark\n",
    "- it maintains context of all jobs that are submitted until it is killed\n",
    "- "
   ]
  },
  {
   "cell_type": "code",
   "execution_count": 2,
   "id": "b68269d6-2270-489f-b894-63d8bcbfd4f4",
   "metadata": {},
   "outputs": [],
   "source": [
    "spark = SparkSession. \\\n",
    "    builder. \\\n",
    "    config(\"spark.ui.port\", \"0\"). \\\n",
    "    enableHiveSupport(). \\\n",
    "    appName('Pyspark - Part 1'). \\\n",
    "    master('local'). \\\n",
    "    getOrCreate()"
   ]
  },
  {
   "cell_type": "code",
   "execution_count": 3,
   "id": "743c82f5-5d3f-4a81-9f38-858f0a4b2c15",
   "metadata": {},
   "outputs": [
    {
     "data": {
      "text/html": [
       "\n",
       "            <div>\n",
       "                <p><b>SparkSession - hive</b></p>\n",
       "                \n",
       "        <div>\n",
       "            <p><b>SparkContext</b></p>\n",
       "\n",
       "            <p><a href=\"http://SIDDHANT-PC:50642\">Spark UI</a></p>\n",
       "\n",
       "            <dl>\n",
       "              <dt>Version</dt>\n",
       "                <dd><code>v3.1.2</code></dd>\n",
       "              <dt>Master</dt>\n",
       "                <dd><code>local</code></dd>\n",
       "              <dt>AppName</dt>\n",
       "                <dd><code>Pyspark - Part 1</code></dd>\n",
       "            </dl>\n",
       "        </div>\n",
       "        \n",
       "            </div>\n",
       "        "
      ],
      "text/plain": [
       "<pyspark.sql.session.SparkSession at 0x2036184bc40>"
      ]
     },
     "execution_count": 3,
     "metadata": {},
     "output_type": "execute_result"
    }
   ],
   "source": [
    "spark"
   ]
  },
  {
   "cell_type": "markdown",
   "id": "cadeed07-5328-415f-b076-537de1510374",
   "metadata": {},
   "source": [
    "## Read APIs"
   ]
  },
  {
   "cell_type": "code",
   "execution_count": 8,
   "id": "c34d1952-2314-4f50-b365-8cdfa19a9e06",
   "metadata": {},
   "outputs": [],
   "source": [
    "# spark.read.csv? # we can use this in jupyter based IDEs\n",
    "# help(spark.read.csv) # this can be used anywhere"
   ]
  },
  {
   "cell_type": "code",
   "execution_count": 4,
   "id": "8d9a19f6-31b9-4a8b-bdcc-1adabea96ce5",
   "metadata": {},
   "outputs": [
    {
     "name": "stdout",
     "output_type": "stream",
     "text": [
      "+--------+---------------------+-------------+---------------+\n",
      "|order_id|order_date           |order_cust_id|order_status   |\n",
      "+--------+---------------------+-------------+---------------+\n",
      "|2       |2013-07-25 00:00:00.0|256          |PENDING_PAYMENT|\n",
      "|3       |2013-07-25 00:00:00.0|12111        |COMPLETE       |\n",
      "|4       |2013-07-25 00:00:00.0|8827         |CLOSED         |\n",
      "|5       |2013-07-25 00:00:00.0|11318        |COMPLETE       |\n",
      "|6       |2013-07-25 00:00:00.0|7130         |COMPLETE       |\n",
      "|7       |2013-07-25 00:00:00.0|4530         |COMPLETE       |\n",
      "|8       |2013-07-25 00:00:00.0|2911         |PROCESSING     |\n",
      "|9       |2013-07-25 00:00:00.0|5657         |PENDING_PAYMENT|\n",
      "|10      |2013-07-25 00:00:00.0|5648         |PENDING_PAYMENT|\n",
      "|11      |2013-07-25 00:00:00.0|918          |PAYMENT_REVIEW |\n",
      "|12      |2013-07-25 00:00:00.0|1837         |CLOSED         |\n",
      "|13      |2013-07-25 00:00:00.0|9149         |PENDING_PAYMENT|\n",
      "|14      |2013-07-25 00:00:00.0|9842         |PROCESSING     |\n",
      "|15      |2013-07-25 00:00:00.0|2568         |COMPLETE       |\n",
      "|16      |2013-07-25 00:00:00.0|7276         |PENDING_PAYMENT|\n",
      "|17      |2013-07-25 00:00:00.0|2667         |COMPLETE       |\n",
      "|18      |2013-07-25 00:00:00.0|1205         |CLOSED         |\n",
      "|19      |2013-07-25 00:00:00.0|9488         |PENDING_PAYMENT|\n",
      "|20      |2013-07-25 00:00:00.0|9198         |PROCESSING     |\n",
      "|21      |2013-07-25 00:00:00.0|2711         |PENDING        |\n",
      "+--------+---------------------+-------------+---------------+\n",
      "only showing top 20 rows\n",
      "\n"
     ]
    }
   ],
   "source": [
    "# reading csv\n",
    "filename = './datasets/orders'\n",
    "spark. \\\n",
    "    read. \\\n",
    "    csv(filename,\n",
    "        header=True,\n",
    "        schema = ''' \n",
    "        order_id INT,\n",
    "        order_date STRING,\n",
    "        order_cust_id INT,\n",
    "        order_status STRING\n",
    "        '''\n",
    "       ). \\\n",
    "    show(20, False)\n",
    "\n",
    "# this file doesn't contain headers so setting header=True will skip the first line\n",
    "# here it is showing corrrect header values is bcz we have explicitly mentioned the schema, but first rec\n",
    "#is till skipped"
   ]
  },
  {
   "cell_type": "code",
   "execution_count": 5,
   "id": "fe8ee972-beda-40fc-876b-7d915c05d752",
   "metadata": {},
   "outputs": [
    {
     "name": "stdout",
     "output_type": "stream",
     "text": [
      "+-----------------+---------------------+--------+---------------+\n",
      "|order_customer_id|order_date           |order_id|order_status   |\n",
      "+-----------------+---------------------+--------+---------------+\n",
      "|11599            |2013-07-25 00:00:00.0|1       |CLOSED         |\n",
      "|256              |2013-07-25 00:00:00.0|2       |PENDING_PAYMENT|\n",
      "|12111            |2013-07-25 00:00:00.0|3       |COMPLETE       |\n",
      "|8827             |2013-07-25 00:00:00.0|4       |CLOSED         |\n",
      "|11318            |2013-07-25 00:00:00.0|5       |COMPLETE       |\n",
      "|7130             |2013-07-25 00:00:00.0|6       |COMPLETE       |\n",
      "|4530             |2013-07-25 00:00:00.0|7       |COMPLETE       |\n",
      "|2911             |2013-07-25 00:00:00.0|8       |PROCESSING     |\n",
      "|5657             |2013-07-25 00:00:00.0|9       |PENDING_PAYMENT|\n",
      "|5648             |2013-07-25 00:00:00.0|10      |PENDING_PAYMENT|\n",
      "|918              |2013-07-25 00:00:00.0|11      |PAYMENT_REVIEW |\n",
      "|1837             |2013-07-25 00:00:00.0|12      |CLOSED         |\n",
      "|9149             |2013-07-25 00:00:00.0|13      |PENDING_PAYMENT|\n",
      "|9842             |2013-07-25 00:00:00.0|14      |PROCESSING     |\n",
      "|2568             |2013-07-25 00:00:00.0|15      |COMPLETE       |\n",
      "|7276             |2013-07-25 00:00:00.0|16      |PENDING_PAYMENT|\n",
      "|2667             |2013-07-25 00:00:00.0|17      |COMPLETE       |\n",
      "|1205             |2013-07-25 00:00:00.0|18      |CLOSED         |\n",
      "|9488             |2013-07-25 00:00:00.0|19      |PENDING_PAYMENT|\n",
      "|9198             |2013-07-25 00:00:00.0|20      |PROCESSING     |\n",
      "+-----------------+---------------------+--------+---------------+\n",
      "only showing top 20 rows\n",
      "\n"
     ]
    }
   ],
   "source": [
    "#in other file formats like json we don't need any other args like headers bcz each value will have \n",
    "# a corresponding key which is treated as column name\n",
    "# it automactically infersSchema\n",
    "# but if we want we can explicitly provide a schema as well\n",
    "\n",
    "json_file_path = 'C:/Users/SkJain/Downloads/Compressed/data-master/retail_db_json/orders'\n",
    "spark.read.json(json_file_path).show(20, False)"
   ]
  },
  {
   "cell_type": "markdown",
   "id": "dc46b5d2-c40e-4651-b1cf-b42859477c54",
   "metadata": {},
   "source": [
    "#### read airlines data\n",
    "- first read with read.text to understand delimiter, header and all\n",
    "- then read with read.csv using this information"
   ]
  },
  {
   "cell_type": "code",
   "execution_count": 6,
   "id": "41885908-9b08-4754-b167-a34d0323946b",
   "metadata": {},
   "outputs": [
    {
     "name": "stdout",
     "output_type": "stream",
     "text": [
      "+-------------------------------------------------------------------------------------------------------------------------------------------------------------------------------------------------------------------------------------------------------------------------------------------------------------------------------------+\n",
      "|value                                                                                                                                                                                                                                                                                                                                |\n",
      "+-------------------------------------------------------------------------------------------------------------------------------------------------------------------------------------------------------------------------------------------------------------------------------------------------------------------------------------+\n",
      "|Year,Month,DayofMonth,DayOfWeek,DepTime,CRSDepTime,ArrTime,CRSArrTime,UniqueCarrier,FlightNum,TailNum,ActualElapsedTime,CRSElapsedTime,AirTime,ArrDelay,DepDelay,Origin,Dest,Distance,TaxiIn,TaxiOut,Cancelled,CancellationCode,Diverted,CarrierDelay,WeatherDelay,NASDelay,SecurityDelay,LateAircraftDelay,IsArrDelayed,IsDepDelayed|\n",
      "|1987,10,14,3,741,730,912,849,PS,1451,NA,91,79,NA,23,11,SAN,SFO,447,NA,NA,0,NA,0,NA,NA,NA,NA,NA,YES,YES                                                                                                                                                                                                                               |\n",
      "|1987,10,15,4,729,730,903,849,PS,1451,NA,94,79,NA,14,-1,SAN,SFO,447,NA,NA,0,NA,0,NA,NA,NA,NA,NA,YES,NO                                                                                                                                                                                                                                |\n",
      "|1987,10,17,6,741,730,918,849,PS,1451,NA,97,79,NA,29,11,SAN,SFO,447,NA,NA,0,NA,0,NA,NA,NA,NA,NA,YES,YES                                                                                                                                                                                                                               |\n",
      "|1987,10,18,7,729,730,847,849,PS,1451,NA,78,79,NA,-2,-1,SAN,SFO,447,NA,NA,0,NA,0,NA,NA,NA,NA,NA,NO,NO                                                                                                                                                                                                                                 |\n",
      "+-------------------------------------------------------------------------------------------------------------------------------------------------------------------------------------------------------------------------------------------------------------------------------------------------------------------------------------+\n",
      "only showing top 5 rows\n",
      "\n"
     ]
    }
   ],
   "source": [
    "airlines_folder = 'C:/Users/SkJain/Downloads/Compressed/data-master/airlines_all/airlines'\n",
    "spark.read.text(airlines_folder).show(5, False)"
   ]
  },
  {
   "cell_type": "markdown",
   "id": "9a0e377c-0c89-4bdb-9bf9-d4a6eb2945bd",
   "metadata": {},
   "source": [
    "- from above we can infer that\n",
    "    - header is present\n",
    "    - comma separated"
   ]
  },
  {
   "cell_type": "code",
   "execution_count": 7,
   "id": "1176cd5f-cd42-4812-9f94-dc56df441ccc",
   "metadata": {},
   "outputs": [
    {
     "name": "stdout",
     "output_type": "stream",
     "text": [
      "+----+-----+----------+---------+-------+----------+-------+----------+-------------+---------+-------+-----------------+--------------+-------+--------+--------+------+----+--------+------+-------+---------+----------------+--------+------------+------------+--------+-------------+-----------------+------------+------------+\n",
      "|Year|Month|DayofMonth|DayOfWeek|DepTime|CRSDepTime|ArrTime|CRSArrTime|UniqueCarrier|FlightNum|TailNum|ActualElapsedTime|CRSElapsedTime|AirTime|ArrDelay|DepDelay|Origin|Dest|Distance|TaxiIn|TaxiOut|Cancelled|CancellationCode|Diverted|CarrierDelay|WeatherDelay|NASDelay|SecurityDelay|LateAircraftDelay|IsArrDelayed|IsDepDelayed|\n",
      "+----+-----+----------+---------+-------+----------+-------+----------+-------------+---------+-------+-----------------+--------------+-------+--------+--------+------+----+--------+------+-------+---------+----------------+--------+------------+------------+--------+-------------+-----------------+------------+------------+\n",
      "|1987|10   |14        |3        |741    |730       |912    |849       |PS           |1451     |NA     |91               |79            |NA     |23      |11      |SAN   |SFO |447     |NA    |NA     |0        |NA              |0       |NA          |NA          |NA      |NA           |NA               |YES         |YES         |\n",
      "|1987|10   |15        |4        |729    |730       |903    |849       |PS           |1451     |NA     |94               |79            |NA     |14      |-1      |SAN   |SFO |447     |NA    |NA     |0        |NA              |0       |NA          |NA          |NA      |NA           |NA               |YES         |NO          |\n",
      "|1987|10   |17        |6        |741    |730       |918    |849       |PS           |1451     |NA     |97               |79            |NA     |29      |11      |SAN   |SFO |447     |NA    |NA     |0        |NA              |0       |NA          |NA          |NA      |NA           |NA               |YES         |YES         |\n",
      "|1987|10   |18        |7        |729    |730       |847    |849       |PS           |1451     |NA     |78               |79            |NA     |-2      |-1      |SAN   |SFO |447     |NA    |NA     |0        |NA              |0       |NA          |NA          |NA      |NA           |NA               |NO          |NO          |\n",
      "|1987|10   |19        |1        |749    |730       |922    |849       |PS           |1451     |NA     |93               |79            |NA     |33      |19      |SAN   |SFO |447     |NA    |NA     |0        |NA              |0       |NA          |NA          |NA      |NA           |NA               |YES         |YES         |\n",
      "+----+-----+----------+---------+-------+----------+-------+----------+-------------+---------+-------+-----------------+--------------+-------+--------+--------+------+----+--------+------+-------+---------+----------------+--------+------------+------------+--------+-------------+-----------------+------------+------------+\n",
      "only showing top 5 rows\n",
      "\n"
     ]
    }
   ],
   "source": [
    "spark. \\\n",
    "    read. \\\n",
    "    csv(airlines_folder,\n",
    "        header=True,\n",
    "       ). \\\n",
    "    show(5, False)"
   ]
  },
  {
   "cell_type": "code",
   "execution_count": 8,
   "id": "c2f49ea6-f238-4342-98d8-315ea761d988",
   "metadata": {},
   "outputs": [],
   "source": [
    "# we can use inferrSchema to find the schema of a datatset\n",
    "# but inferSchema will go through each and every record of the data to determine the schema\n",
    "# this can be very performance costly for large datasets\n",
    "# if multiple files have same schema  then we can first infer it using one of the files\n",
    "\n",
    "airlines_single_file = airlines_folder + '/part-00000'\n",
    "airlines_partial_df = spark. \\\n",
    "    read. \\\n",
    "    csv(airlines_single_file,\n",
    "        header=True,\n",
    "        inferSchema=True\n",
    "       )"
   ]
  },
  {
   "cell_type": "code",
   "execution_count": 9,
   "id": "2040d492-6a03-42df-a8c7-3e9b2ef90ba8",
   "metadata": {},
   "outputs": [
    {
     "name": "stdout",
     "output_type": "stream",
     "text": [
      "+----+-----+----------+---------+-------+----------+-------+----------+-------------+---------+-------+-----------------+--------------+-------+--------+--------+------+----+--------+------+-------+---------+----------------+--------+------------+------------+--------+-------------+-----------------+------------+------------+\n",
      "|Year|Month|DayofMonth|DayOfWeek|DepTime|CRSDepTime|ArrTime|CRSArrTime|UniqueCarrier|FlightNum|TailNum|ActualElapsedTime|CRSElapsedTime|AirTime|ArrDelay|DepDelay|Origin|Dest|Distance|TaxiIn|TaxiOut|Cancelled|CancellationCode|Diverted|CarrierDelay|WeatherDelay|NASDelay|SecurityDelay|LateAircraftDelay|IsArrDelayed|IsDepDelayed|\n",
      "+----+-----+----------+---------+-------+----------+-------+----------+-------------+---------+-------+-----------------+--------------+-------+--------+--------+------+----+--------+------+-------+---------+----------------+--------+------------+------------+--------+-------------+-----------------+------------+------------+\n",
      "|1987|10   |14        |3        |741    |730       |912    |849       |PS           |1451     |NA     |91               |79            |NA     |23      |11      |SAN   |SFO |447     |NA    |NA     |0        |NA              |0       |NA          |NA          |NA      |NA           |NA               |YES         |YES         |\n",
      "|1987|10   |15        |4        |729    |730       |903    |849       |PS           |1451     |NA     |94               |79            |NA     |14      |-1      |SAN   |SFO |447     |NA    |NA     |0        |NA              |0       |NA          |NA          |NA      |NA           |NA               |YES         |NO          |\n",
      "|1987|10   |17        |6        |741    |730       |918    |849       |PS           |1451     |NA     |97               |79            |NA     |29      |11      |SAN   |SFO |447     |NA    |NA     |0        |NA              |0       |NA          |NA          |NA      |NA           |NA               |YES         |YES         |\n",
      "|1987|10   |18        |7        |729    |730       |847    |849       |PS           |1451     |NA     |78               |79            |NA     |-2      |-1      |SAN   |SFO |447     |NA    |NA     |0        |NA              |0       |NA          |NA          |NA      |NA           |NA               |NO          |NO          |\n",
      "|1987|10   |19        |1        |749    |730       |922    |849       |PS           |1451     |NA     |93               |79            |NA     |33      |19      |SAN   |SFO |447     |NA    |NA     |0        |NA              |0       |NA          |NA          |NA      |NA           |NA               |YES         |YES         |\n",
      "+----+-----+----------+---------+-------+----------+-------+----------+-------------+---------+-------+-----------------+--------------+-------+--------+--------+------+----+--------+------+-------+---------+----------------+--------+------------+------------+--------+-------------+-----------------+------------+------------+\n",
      "only showing top 5 rows\n",
      "\n"
     ]
    }
   ],
   "source": [
    "airlines_partial_df. \\\n",
    "    show(5, False)"
   ]
  },
  {
   "cell_type": "code",
   "execution_count": 25,
   "id": "7121c636-244a-4b73-900d-4cd2540bba44",
   "metadata": {},
   "outputs": [
    {
     "name": "stdout",
     "output_type": "stream",
     "text": [
      "root\n",
      " |-- Year: integer (nullable = true)\n",
      " |-- Month: integer (nullable = true)\n",
      " |-- DayofMonth: integer (nullable = true)\n",
      " |-- DayOfWeek: integer (nullable = true)\n",
      " |-- DepTime: string (nullable = true)\n",
      " |-- CRSDepTime: integer (nullable = true)\n",
      " |-- ArrTime: string (nullable = true)\n",
      " |-- CRSArrTime: integer (nullable = true)\n",
      " |-- UniqueCarrier: string (nullable = true)\n",
      " |-- FlightNum: integer (nullable = true)\n",
      " |-- TailNum: string (nullable = true)\n",
      " |-- ActualElapsedTime: string (nullable = true)\n",
      " |-- CRSElapsedTime: integer (nullable = true)\n",
      " |-- AirTime: string (nullable = true)\n",
      " |-- ArrDelay: string (nullable = true)\n",
      " |-- DepDelay: string (nullable = true)\n",
      " |-- Origin: string (nullable = true)\n",
      " |-- Dest: string (nullable = true)\n",
      " |-- Distance: string (nullable = true)\n",
      " |-- TaxiIn: string (nullable = true)\n",
      " |-- TaxiOut: string (nullable = true)\n",
      " |-- Cancelled: integer (nullable = true)\n",
      " |-- CancellationCode: string (nullable = true)\n",
      " |-- Diverted: integer (nullable = true)\n",
      " |-- CarrierDelay: string (nullable = true)\n",
      " |-- WeatherDelay: string (nullable = true)\n",
      " |-- NASDelay: string (nullable = true)\n",
      " |-- SecurityDelay: string (nullable = true)\n",
      " |-- LateAircraftDelay: string (nullable = true)\n",
      " |-- IsArrDelayed: string (nullable = true)\n",
      " |-- IsDepDelayed: string (nullable = true)\n",
      "\n"
     ]
    }
   ],
   "source": [
    "airlines_partial_df.printSchema()"
   ]
  },
  {
   "cell_type": "code",
   "execution_count": 10,
   "id": "22010358-4517-4ed1-8383-170f9b4ed5c4",
   "metadata": {},
   "outputs": [
    {
     "data": {
      "text/plain": [
       "StructType(List(StructField(Year,IntegerType,true),StructField(Month,IntegerType,true),StructField(DayofMonth,IntegerType,true),StructField(DayOfWeek,IntegerType,true),StructField(DepTime,StringType,true),StructField(CRSDepTime,IntegerType,true),StructField(ArrTime,StringType,true),StructField(CRSArrTime,IntegerType,true),StructField(UniqueCarrier,StringType,true),StructField(FlightNum,IntegerType,true),StructField(TailNum,StringType,true),StructField(ActualElapsedTime,StringType,true),StructField(CRSElapsedTime,IntegerType,true),StructField(AirTime,StringType,true),StructField(ArrDelay,StringType,true),StructField(DepDelay,StringType,true),StructField(Origin,StringType,true),StructField(Dest,StringType,true),StructField(Distance,StringType,true),StructField(TaxiIn,StringType,true),StructField(TaxiOut,StringType,true),StructField(Cancelled,IntegerType,true),StructField(CancellationCode,StringType,true),StructField(Diverted,IntegerType,true),StructField(CarrierDelay,StringType,true),StructField(WeatherDelay,StringType,true),StructField(NASDelay,StringType,true),StructField(SecurityDelay,StringType,true),StructField(LateAircraftDelay,StringType,true),StructField(IsArrDelayed,StringType,true),StructField(IsDepDelayed,StringType,true)))"
      ]
     },
     "execution_count": 10,
     "metadata": {},
     "output_type": "execute_result"
    }
   ],
   "source": [
    "# we can get schema like mentioned below and give it to schema parameter of read apis while reading file\n",
    "airlines_partial_df.schema"
   ]
  },
  {
   "cell_type": "code",
   "execution_count": 11,
   "id": "69020f88-0665-4893-966f-74a3da008afe",
   "metadata": {},
   "outputs": [],
   "source": [
    "# we can directly get it by doing\n",
    "airlines_single_file = airlines_folder + '/part-00000'\n",
    "airlines_schema = spark. \\\n",
    "    read. \\\n",
    "    csv(airlines_single_file,\n",
    "        header=True,\n",
    "        inferSchema=True\n",
    "       ). \\\n",
    "    schema"
   ]
  },
  {
   "cell_type": "code",
   "execution_count": 28,
   "id": "67e17503-b7ab-4cb6-8a20-e380c87588a4",
   "metadata": {},
   "outputs": [
    {
     "data": {
      "text/plain": [
       "StructType(List(StructField(Year,IntegerType,true),StructField(Month,IntegerType,true),StructField(DayofMonth,IntegerType,true),StructField(DayOfWeek,IntegerType,true),StructField(DepTime,StringType,true),StructField(CRSDepTime,IntegerType,true),StructField(ArrTime,StringType,true),StructField(CRSArrTime,IntegerType,true),StructField(UniqueCarrier,StringType,true),StructField(FlightNum,IntegerType,true),StructField(TailNum,StringType,true),StructField(ActualElapsedTime,StringType,true),StructField(CRSElapsedTime,IntegerType,true),StructField(AirTime,StringType,true),StructField(ArrDelay,StringType,true),StructField(DepDelay,StringType,true),StructField(Origin,StringType,true),StructField(Dest,StringType,true),StructField(Distance,StringType,true),StructField(TaxiIn,StringType,true),StructField(TaxiOut,StringType,true),StructField(Cancelled,IntegerType,true),StructField(CancellationCode,StringType,true),StructField(Diverted,IntegerType,true),StructField(CarrierDelay,StringType,true),StructField(WeatherDelay,StringType,true),StructField(NASDelay,StringType,true),StructField(SecurityDelay,StringType,true),StructField(LateAircraftDelay,StringType,true),StructField(IsArrDelayed,StringType,true),StructField(IsDepDelayed,StringType,true)))"
      ]
     },
     "execution_count": 28,
     "metadata": {},
     "output_type": "execute_result"
    }
   ],
   "source": [
    "airlines_schema"
   ]
  },
  {
   "cell_type": "code",
   "execution_count": 12,
   "id": "c9f20042-3c9c-43fb-90ce-b6a009f9aaa0",
   "metadata": {},
   "outputs": [],
   "source": [
    "#schema can be pased either as string or struct type\n",
    "#for order we did in using string type , here we will use structtype\n",
    "\n",
    "airlines_full_df = spark. \\\n",
    "    read. \\\n",
    "    schema(airlines_schema). \\\n",
    "    csv(airlines_folder,\n",
    "        header=True\n",
    "       )"
   ]
  },
  {
   "cell_type": "code",
   "execution_count": 13,
   "id": "86f38e82-f124-4979-9bc2-e1bdf2439464",
   "metadata": {},
   "outputs": [
    {
     "data": {
      "text/plain": [
       "1290395"
      ]
     },
     "execution_count": 13,
     "metadata": {},
     "output_type": "execute_result"
    }
   ],
   "source": [
    "airlines_full_df.count()"
   ]
  },
  {
   "cell_type": "code",
   "execution_count": 14,
   "id": "9ebbddb7-2cbd-46be-b357-94f88e944ad7",
   "metadata": {},
   "outputs": [
    {
     "data": {
      "text/plain": [
       "1290323"
      ]
     },
     "execution_count": 14,
     "metadata": {},
     "output_type": "execute_result"
    }
   ],
   "source": [
    "airlines_full_df.distinct().count()"
   ]
  },
  {
   "cell_type": "markdown",
   "id": "9ebd5d72-1863-4e56-a861-c120f1cde38f",
   "metadata": {},
   "source": [
    "### creating dataframe from python collection"
   ]
  },
  {
   "cell_type": "code",
   "execution_count": 41,
   "id": "3052d119-aef3-409f-b3b7-a781513df2a8",
   "metadata": {},
   "outputs": [],
   "source": [
    "employees = [(1, \"Scott\", \"Tiger\", 1000.0, \"united states\"),\n",
    "             (2, \"Henry\", \"Ford\", 1250.0, \"India\"),\n",
    "             (3, \"Nick\", \"Junior\", 750.0, \"united KINGDOM\"),\n",
    "             (4, \"Bill\", \"Gomes\", 1500.0, \"AUSTRALIA\")\n",
    "            ]"
   ]
  },
  {
   "cell_type": "code",
   "execution_count": 42,
   "id": "ce060b0d-f542-40fd-ad7f-32ac71d5d819",
   "metadata": {},
   "outputs": [],
   "source": [
    "emp_df = spark.createDataFrame(employees,\n",
    "                               schema = \"\"\" employee_id INT,\n",
    "                                           f_name STRING,\n",
    "                                           l_name STRING,\n",
    "                                           salary FLOAT,\n",
    "                                           country STRING\"\"\"\n",
    "                              )"
   ]
  },
  {
   "cell_type": "code",
   "execution_count": 43,
   "id": "c15ede1d-37cd-41be-854d-2511b0077dce",
   "metadata": {},
   "outputs": [
    {
     "name": "stdout",
     "output_type": "stream",
     "text": [
      "root\n",
      " |-- employee_id: integer (nullable = true)\n",
      " |-- f_name: string (nullable = true)\n",
      " |-- l_name: string (nullable = true)\n",
      " |-- salary: float (nullable = true)\n",
      " |-- country: string (nullable = true)\n",
      "\n"
     ]
    }
   ],
   "source": [
    "emp_df.printSchema()"
   ]
  },
  {
   "cell_type": "code",
   "execution_count": 50,
   "id": "c575b575-ce6b-4619-ad49-ac8789bcbc82",
   "metadata": {},
   "outputs": [
    {
     "name": "stdout",
     "output_type": "stream",
     "text": [
      "+----+-----+----------+---------+-------+----------+-------+----------+-------------+---------+-------+-----------------+--------------+-------+--------+--------+------+----+--------+------+-------+---------+----------------+--------+------------+------------+--------+-------------+-----------------+------------+------------+\n",
      "|Year|Month|DayofMonth|DayOfWeek|DepTime|CRSDepTime|ArrTime|CRSArrTime|UniqueCarrier|FlightNum|TailNum|ActualElapsedTime|CRSElapsedTime|AirTime|ArrDelay|DepDelay|Origin|Dest|Distance|TaxiIn|TaxiOut|Cancelled|CancellationCode|Diverted|CarrierDelay|WeatherDelay|NASDelay|SecurityDelay|LateAircraftDelay|IsArrDelayed|IsDepDelayed|\n",
      "+----+-----+----------+---------+-------+----------+-------+----------+-------------+---------+-------+-----------------+--------------+-------+--------+--------+------+----+--------+------+-------+---------+----------------+--------+------------+------------+--------+-------------+-----------------+------------+------------+\n",
      "|1987|10   |14        |3        |741    |730       |912    |849       |PS           |1451     |NA     |91               |79            |NA     |23      |11      |SAN   |SFO |447     |NA    |NA     |0        |NA              |0       |NA          |NA          |NA      |NA           |NA               |YES         |YES         |\n",
      "|1987|10   |15        |4        |729    |730       |903    |849       |PS           |1451     |NA     |94               |79            |NA     |14      |-1      |SAN   |SFO |447     |NA    |NA     |0        |NA              |0       |NA          |NA          |NA      |NA           |NA               |YES         |NO          |\n",
      "|1987|10   |17        |6        |741    |730       |918    |849       |PS           |1451     |NA     |97               |79            |NA     |29      |11      |SAN   |SFO |447     |NA    |NA     |0        |NA              |0       |NA          |NA          |NA      |NA           |NA               |YES         |YES         |\n",
      "|1987|10   |18        |7        |729    |730       |847    |849       |PS           |1451     |NA     |78               |79            |NA     |-2      |-1      |SAN   |SFO |447     |NA    |NA     |0        |NA              |0       |NA          |NA          |NA      |NA           |NA               |NO          |NO          |\n",
      "|1987|10   |19        |1        |749    |730       |922    |849       |PS           |1451     |NA     |93               |79            |NA     |33      |19      |SAN   |SFO |447     |NA    |NA     |0        |NA              |0       |NA          |NA          |NA      |NA           |NA               |YES         |YES         |\n",
      "+----+-----+----------+---------+-------+----------+-------+----------+-------------+---------+-------+-----------------+--------------+-------+--------+--------+------+----+--------+------+-------+---------+----------------+--------+------------+------------+--------+-------------+-----------------+------------+------------+\n",
      "only showing top 5 rows\n",
      "\n"
     ]
    }
   ],
   "source": [
    "airlines_full_df.show(5, False)"
   ]
  },
  {
   "cell_type": "code",
   "execution_count": 52,
   "id": "dcc057fc-843e-420e-979b-4e0a9e707c4d",
   "metadata": {},
   "outputs": [
    {
     "name": "stdout",
     "output_type": "stream",
     "text": [
      "+---------+---------+\n",
      "|FlightNum|Cancelled|\n",
      "+---------+---------+\n",
      "|1451     |0        |\n",
      "|1451     |0        |\n",
      "|1451     |0        |\n",
      "|1451     |0        |\n",
      "|1451     |0        |\n",
      "+---------+---------+\n",
      "only showing top 5 rows\n",
      "\n"
     ]
    }
   ],
   "source": [
    "# to see only a few columns\n",
    "airlines_full_df.select(\"FlightNum\", \"Cancelled\").show(5, False)"
   ]
  },
  {
   "cell_type": "code",
   "execution_count": 54,
   "id": "cdc89d8e-bcbf-482d-abb4-45fec78b9c5a",
   "metadata": {},
   "outputs": [
    {
     "name": "stdout",
     "output_type": "stream",
     "text": [
      "+----------+---------+-------+----------+-------+----------+-------------+---------+-------+-----------------+--------------+-------+--------+--------+------+----+--------+------+-------+---------+----------------+--------+------------+------------+--------+-------------+-----------------+------------+------------+\n",
      "|DayofMonth|DayOfWeek|DepTime|CRSDepTime|ArrTime|CRSArrTime|UniqueCarrier|FlightNum|TailNum|ActualElapsedTime|CRSElapsedTime|AirTime|ArrDelay|DepDelay|Origin|Dest|Distance|TaxiIn|TaxiOut|Cancelled|CancellationCode|Diverted|CarrierDelay|WeatherDelay|NASDelay|SecurityDelay|LateAircraftDelay|IsArrDelayed|IsDepDelayed|\n",
      "+----------+---------+-------+----------+-------+----------+-------------+---------+-------+-----------------+--------------+-------+--------+--------+------+----+--------+------+-------+---------+----------------+--------+------------+------------+--------+-------------+-----------------+------------+------------+\n",
      "|        14|        3|    741|       730|    912|       849|           PS|     1451|     NA|               91|            79|     NA|      23|      11|   SAN| SFO|     447|    NA|     NA|        0|              NA|       0|          NA|          NA|      NA|           NA|               NA|         YES|         YES|\n",
      "|        15|        4|    729|       730|    903|       849|           PS|     1451|     NA|               94|            79|     NA|      14|      -1|   SAN| SFO|     447|    NA|     NA|        0|              NA|       0|          NA|          NA|      NA|           NA|               NA|         YES|          NO|\n",
      "|        17|        6|    741|       730|    918|       849|           PS|     1451|     NA|               97|            79|     NA|      29|      11|   SAN| SFO|     447|    NA|     NA|        0|              NA|       0|          NA|          NA|      NA|           NA|               NA|         YES|         YES|\n",
      "|        18|        7|    729|       730|    847|       849|           PS|     1451|     NA|               78|            79|     NA|      -2|      -1|   SAN| SFO|     447|    NA|     NA|        0|              NA|       0|          NA|          NA|      NA|           NA|               NA|          NO|          NO|\n",
      "|        19|        1|    749|       730|    922|       849|           PS|     1451|     NA|               93|            79|     NA|      33|      19|   SAN| SFO|     447|    NA|     NA|        0|              NA|       0|          NA|          NA|      NA|           NA|               NA|         YES|         YES|\n",
      "+----------+---------+-------+----------+-------+----------+-------------+---------+-------+-----------------+--------------+-------+--------+--------+------+----+--------+------+-------+---------+----------------+--------+------------+------------+--------+-------------+-----------------+------------+------------+\n",
      "only showing top 5 rows\n",
      "\n"
     ]
    }
   ],
   "source": [
    "# to not see a few columns\n",
    "airlines_full_df.drop(\"Year\", \"Month\").show(5)"
   ]
  },
  {
   "cell_type": "code",
   "execution_count": 56,
   "id": "35b7019e-ba9c-4959-9934-fa256112853b",
   "metadata": {},
   "outputs": [],
   "source": [
    "from pyspark.sql.functions import *"
   ]
  },
  {
   "cell_type": "code",
   "execution_count": 58,
   "id": "777ffeef-8b57-4afd-ab87-aa4e2dae738b",
   "metadata": {},
   "outputs": [
    {
     "name": "stdout",
     "output_type": "stream",
     "text": [
      "+----+-----+----------+----------+\n",
      "|Year|Month|DayofMonth|  fullDate|\n",
      "+----+-----+----------+----------+\n",
      "|1987|   10|        14|1987-10-14|\n",
      "|1987|   10|        15|1987-10-15|\n",
      "|1987|   10|        17|1987-10-17|\n",
      "|1987|   10|        18|1987-10-18|\n",
      "|1987|   10|        19|1987-10-19|\n",
      "+----+-----+----------+----------+\n",
      "only showing top 5 rows\n",
      "\n"
     ]
    }
   ],
   "source": [
    "airlines_full_df. \\\n",
    "    select(\"Year\", \"Month\", \"DayofMonth\"). \\\n",
    "    withColumn(\"fullDate\", concat_ws(\"-\",\"Year\", \"Month\", \"DayofMonth\")). \\\n",
    "    show(5)"
   ]
  },
  {
   "cell_type": "code",
   "execution_count": 59,
   "id": "9e3ec14f-f04a-46a0-80ef-c066581e90f2",
   "metadata": {},
   "outputs": [
    {
     "name": "stdout",
     "output_type": "stream",
     "text": [
      "+----+-----+----------+----------+\n",
      "|Year|Month|DayofMonth|  fullDate|\n",
      "+----+-----+----------+----------+\n",
      "|1987|   10|        14|1987-10-14|\n",
      "|1987|   10|        15|1987-10-15|\n",
      "|1987|   10|        17|1987-10-17|\n",
      "|1987|   10|        18|1987-10-18|\n",
      "|1987|   10|        19|1987-10-19|\n",
      "+----+-----+----------+----------+\n",
      "only showing top 5 rows\n",
      "\n"
     ]
    }
   ],
   "source": [
    "# to add a constant, we can use lit() function, otherwise it will try to look for column with name '-'\n",
    "\n",
    "airlines_full_df. \\\n",
    "    select(\"Year\", \"Month\", \"DayofMonth\"). \\\n",
    "    withColumn(\"fullDate\", concat(\"Year\", lit(\"-\"), \"Month\", lit(\"-\"), \"DayofMonth\")). \\\n",
    "    show(5)"
   ]
  },
  {
   "cell_type": "code",
   "execution_count": 63,
   "id": "0c53390f-50bf-407e-8f06-d7111e7ffed6",
   "metadata": {},
   "outputs": [
    {
     "name": "stdout",
     "output_type": "stream",
     "text": [
      "+----+-----+----------+----------+\n",
      "|Year|Month|DayofMonth|  fullDate|\n",
      "+----+-----+----------+----------+\n",
      "|1987|   10|        14|1987-10-14|\n",
      "|1987|   10|        15|1987-10-15|\n",
      "|1987|   10|        17|1987-10-17|\n",
      "|1987|   10|        18|1987-10-18|\n",
      "|1987|   10|        19|1987-10-19|\n",
      "|1987|   10|        21|1987-10-21|\n",
      "|1987|   10|        22|1987-10-22|\n",
      "|1987|   10|        23|1987-10-23|\n",
      "|1987|   10|        24|1987-10-24|\n",
      "|1987|   10|        25|1987-10-25|\n",
      "|1987|   10|        26|1987-10-26|\n",
      "|1987|   10|        28|1987-10-28|\n",
      "|1987|   10|        29|1987-10-29|\n",
      "|1987|   10|        31|1987-10-31|\n",
      "|1987|   10|         1| 1987-10-1|\n",
      "|1987|   10|         2| 1987-10-2|\n",
      "|1987|   10|         3| 1987-10-3|\n",
      "|1987|   10|         4| 1987-10-4|\n",
      "|1987|   10|         5| 1987-10-5|\n",
      "|1987|   10|         6| 1987-10-6|\n",
      "+----+-----+----------+----------+\n",
      "only showing top 20 rows\n",
      "\n"
     ]
    }
   ],
   "source": [
    "# we can use selectExpr to do the same thing as above using sql style query\n",
    "airlines_full_df. \\\n",
    "    select(\"Year\", \"Month\", \"DayofMonth\"). \\\n",
    "    selectExpr(\"Year\", \"Month\", \"DayofMonth\", \"concat(Year, '-', Month, '-', DayOfMonth) as fullDate\"). \\\n",
    "    show()"
   ]
  },
  {
   "cell_type": "markdown",
   "id": "17bb7898-ecd0-4b2a-9d17-2013d65220af",
   "metadata": {},
   "source": [
    "### Write APIs\n",
    "- when we pass options to writeApis, if there's any mistake in them then query will not fail, the option will simply be ignored\n",
    "- by default the number of files created in the output directory is equal to number of tasks in last stage. But we can control the number of files so that we don't get to many small sized files\n",
    "- that can be done using **coalesce** which has done on the dataframe before invoing write"
   ]
  },
  {
   "cell_type": "code",
   "execution_count": 66,
   "id": "d570105f-4e45-4944-a358-61b0cd74b33a",
   "metadata": {},
   "outputs": [],
   "source": [
    "filename = './datasets/orders'\n",
    "orders_df = spark. \\\n",
    "    read. \\\n",
    "    csv(filename,\n",
    "        schema = ''' \n",
    "        order_id INT,\n",
    "        order_date STRING,\n",
    "        order_cust_id INT,\n",
    "        order_status STRING\n",
    "        '''\n",
    "       )"
   ]
  },
  {
   "cell_type": "code",
   "execution_count": 67,
   "id": "05c879ab-3db1-4a1e-9eb2-335eaf40a484",
   "metadata": {},
   "outputs": [
    {
     "name": "stdout",
     "output_type": "stream",
     "text": [
      "root\n",
      " |-- order_id: integer (nullable = true)\n",
      " |-- order_date: string (nullable = true)\n",
      " |-- order_cust_id: integer (nullable = true)\n",
      " |-- order_status: string (nullable = true)\n",
      "\n"
     ]
    }
   ],
   "source": [
    "orders_df.printSchema()"
   ]
  },
  {
   "cell_type": "code",
   "execution_count": 68,
   "id": "bc20b58b-fd88-4ea7-bf77-9660f3a34485",
   "metadata": {},
   "outputs": [
    {
     "name": "stdout",
     "output_type": "stream",
     "text": [
      "+--------+--------------------+-------------+---------------+\n",
      "|order_id|          order_date|order_cust_id|   order_status|\n",
      "+--------+--------------------+-------------+---------------+\n",
      "|       1|2013-07-25 00:00:...|        11599|         CLOSED|\n",
      "|       2|2013-07-25 00:00:...|          256|PENDING_PAYMENT|\n",
      "|       3|2013-07-25 00:00:...|        12111|       COMPLETE|\n",
      "|       4|2013-07-25 00:00:...|         8827|         CLOSED|\n",
      "|       5|2013-07-25 00:00:...|        11318|       COMPLETE|\n",
      "+--------+--------------------+-------------+---------------+\n",
      "only showing top 5 rows\n",
      "\n"
     ]
    }
   ],
   "source": [
    "orders_df.show(5)"
   ]
  },
  {
   "cell_type": "code",
   "execution_count": 69,
   "id": "2ca70b95-ad6c-4ff2-b029-768e8d21df81",
   "metadata": {},
   "outputs": [
    {
     "data": {
      "text/plain": [
       "68883"
      ]
     },
     "execution_count": 69,
     "metadata": {},
     "output_type": "execute_result"
    }
   ],
   "source": [
    "orders_df.count()"
   ]
  },
  {
   "cell_type": "code",
   "execution_count": 70,
   "id": "6a727731-e453-4256-b469-3699a111da58",
   "metadata": {},
   "outputs": [],
   "source": [
    "orders_df. \\\n",
    "    write. \\\n",
    "    parquet('./ordersOutputFolder',\n",
    "           mode='overwrite',\n",
    "           compression='none')"
   ]
  },
  {
   "cell_type": "code",
   "execution_count": 71,
   "id": "623ed583-723b-4ef7-8666-2d868cbd45fb",
   "metadata": {},
   "outputs": [],
   "source": [
    "#alternate way\n",
    "orders_df. \\\n",
    "    write. \\\n",
    "    mode('overwrite'). \\\n",
    "    option('compression', 'none'). \\\n",
    "    parquet('./ordersOutputFolder')"
   ]
  },
  {
   "cell_type": "code",
   "execution_count": 72,
   "id": "d6bc30dd-0b9c-4f3f-a2b0-de7cbbbdeb0c",
   "metadata": {},
   "outputs": [],
   "source": [
    "#alternate way\n",
    "orders_df. \\\n",
    "    write. \\\n",
    "    mode('overwrite'). \\\n",
    "    option('compression', 'none'). \\\n",
    "    format('parquet').\\\n",
    "    save('./ordersOutputFolder')"
   ]
  },
  {
   "cell_type": "markdown",
   "id": "eaf22604-a5dd-4899-91b4-bd809c66f9d4",
   "metadata": {},
   "source": [
    "#### write json to \n",
    "- pipe delimited file \n",
    "- with gzip compression\n",
    "- in a single file\n",
    "- ignore if target location already exists"
   ]
  },
  {
   "cell_type": "code",
   "execution_count": 73,
   "id": "9d60eeb6-42ba-4e10-bf47-2e8031de932d",
   "metadata": {},
   "outputs": [],
   "source": [
    "json_file_path = 'C:/Users/SkJain/Downloads/Compressed/data-master/retail_db_json/order_items'\n",
    "order_items_df = spark.read.json(json_file_path)"
   ]
  },
  {
   "cell_type": "code",
   "execution_count": 74,
   "id": "eaf91ff0-90f4-4256-863d-d91614697263",
   "metadata": {},
   "outputs": [
    {
     "name": "stdout",
     "output_type": "stream",
     "text": [
      "root\n",
      " |-- order_item_id: long (nullable = true)\n",
      " |-- order_item_order_id: long (nullable = true)\n",
      " |-- order_item_product_id: long (nullable = true)\n",
      " |-- order_item_product_price: double (nullable = true)\n",
      " |-- order_item_quantity: long (nullable = true)\n",
      " |-- order_item_subtotal: double (nullable = true)\n",
      "\n"
     ]
    }
   ],
   "source": [
    "order_items_df.printSchema()"
   ]
  },
  {
   "cell_type": "code",
   "execution_count": 75,
   "id": "fda0dfb0-3eac-4a8c-b86c-23e3f38b7c3a",
   "metadata": {},
   "outputs": [
    {
     "name": "stdout",
     "output_type": "stream",
     "text": [
      "+-------------+-------------------+---------------------+------------------------+-------------------+-------------------+\n",
      "|order_item_id|order_item_order_id|order_item_product_id|order_item_product_price|order_item_quantity|order_item_subtotal|\n",
      "+-------------+-------------------+---------------------+------------------------+-------------------+-------------------+\n",
      "|            1|                  1|                  957|                  299.98|                  1|             299.98|\n",
      "|            2|                  2|                 1073|                  199.99|                  1|             199.99|\n",
      "|            3|                  2|                  502|                    50.0|                  5|              250.0|\n",
      "|            4|                  2|                  403|                  129.99|                  1|             129.99|\n",
      "|            5|                  4|                  897|                   24.99|                  2|              49.98|\n",
      "+-------------+-------------------+---------------------+------------------------+-------------------+-------------------+\n",
      "only showing top 5 rows\n",
      "\n"
     ]
    }
   ],
   "source": [
    "order_items_df.show(5)"
   ]
  },
  {
   "cell_type": "code",
   "execution_count": 76,
   "id": "b1bfd687-1226-4309-9554-11a3f8a9c296",
   "metadata": {},
   "outputs": [
    {
     "data": {
      "text/plain": [
       "172198"
      ]
     },
     "execution_count": 76,
     "metadata": {},
     "output_type": "execute_result"
    }
   ],
   "source": [
    "order_items_df.count()"
   ]
  },
  {
   "cell_type": "code",
   "execution_count": 79,
   "id": "da91f980-238b-4dee-a7ec-2f8dd5970cde",
   "metadata": {},
   "outputs": [],
   "source": [
    "# sicne we have used mode as ignore, if we run this second time when folder is already present, the timestamp of folder will not change\n",
    "# that means since the folder is present, it ignored the write command and did nothing\n",
    "\n",
    "#apart from 'overwrite' and 'ignore' we can also use\n",
    "# append: if we use this, we'll see another file will be added to the same folder (single file in this case bcz of coalesce)\n",
    "#error: code will fail and throw error if target folder already exists\n",
    "\n",
    "order_items_df. \\\n",
    "coalesce(1). \\\n",
    "write. \\\n",
    "mode('ignore'). \\\n",
    "option('compression', 'gzip'). \\\n",
    "option('sep', '|'). \\\n",
    "csv('./orderItemsOutputFolder')"
   ]
  },
  {
   "cell_type": "code",
   "execution_count": null,
   "id": "51c94ff4-15b0-4b0d-b180-fafb2dcd0c25",
   "metadata": {},
   "outputs": [],
   "source": []
  }
 ],
 "metadata": {
  "kernelspec": {
   "display_name": "Python 3 (ipykernel)",
   "language": "python",
   "name": "python3"
  },
  "language_info": {
   "codemirror_mode": {
    "name": "ipython",
    "version": 3
   },
   "file_extension": ".py",
   "mimetype": "text/x-python",
   "name": "python",
   "nbconvert_exporter": "python",
   "pygments_lexer": "ipython3",
   "version": "3.8.11"
  }
 },
 "nbformat": 4,
 "nbformat_minor": 5
}
