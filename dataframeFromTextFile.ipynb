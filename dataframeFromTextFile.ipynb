{
 "cells": [
  {
   "cell_type": "code",
   "execution_count": 1,
   "id": "faa38614-b66a-4e5e-add8-88d28af8d76e",
   "metadata": {},
   "outputs": [],
   "source": [
    "from pyspark.sql import SparkSession\n",
    "import os\n",
    "\n",
    "os.environ[\"HADOOP_HOME\"] = \"C:\\\\Users\\\\SkJain\\\\Downloads\\\\Compressed\\\\winutils-master\\\\hadoop-3.2.2\""
   ]
  },
  {
   "cell_type": "markdown",
   "id": "f767e231-48d5-4adb-8325-868d839507d6",
   "metadata": {},
   "source": [
    "## Creating SparkSession object"
   ]
  },
  {
   "cell_type": "code",
   "execution_count": 2,
   "id": "88516404-c635-4142-bedb-1fef8e07898e",
   "metadata": {},
   "outputs": [],
   "source": [
    "spark = SparkSession. \\\n",
    "    builder. \\\n",
    "    appName('Reading Data From text files'). \\\n",
    "    master('local'). \\\n",
    "    getOrCreate()"
   ]
  },
  {
   "cell_type": "markdown",
   "id": "6b674e4c-f406-42f9-ad42-01bc8ae2f3a8",
   "metadata": {},
   "source": [
    "### Reading file using read.csv"
   ]
  },
  {
   "cell_type": "code",
   "execution_count": 3,
   "id": "f01393ac-3eeb-4dd8-8d83-2da511cc8810",
   "metadata": {},
   "outputs": [],
   "source": [
    "filepath = 'datasets/orders/*'"
   ]
  },
  {
   "cell_type": "code",
   "execution_count": 4,
   "id": "2a23f307-a15a-4d34-89a5-ae444f6b21d6",
   "metadata": {},
   "outputs": [
    {
     "name": "stdout",
     "output_type": "stream",
     "text": [
      "+---+--------------------+-----+---------------+\n",
      "|_c0|                 _c1|  _c2|            _c3|\n",
      "+---+--------------------+-----+---------------+\n",
      "|  1|2013-07-25 00:00:...|11599|         CLOSED|\n",
      "|  2|2013-07-25 00:00:...|  256|PENDING_PAYMENT|\n",
      "|  3|2013-07-25 00:00:...|12111|       COMPLETE|\n",
      "|  4|2013-07-25 00:00:...| 8827|         CLOSED|\n",
      "|  5|2013-07-25 00:00:...|11318|       COMPLETE|\n",
      "|  6|2013-07-25 00:00:...| 7130|       COMPLETE|\n",
      "|  7|2013-07-25 00:00:...| 4530|       COMPLETE|\n",
      "|  8|2013-07-25 00:00:...| 2911|     PROCESSING|\n",
      "|  9|2013-07-25 00:00:...| 5657|PENDING_PAYMENT|\n",
      "| 10|2013-07-25 00:00:...| 5648|PENDING_PAYMENT|\n",
      "| 11|2013-07-25 00:00:...|  918| PAYMENT_REVIEW|\n",
      "| 12|2013-07-25 00:00:...| 1837|         CLOSED|\n",
      "| 13|2013-07-25 00:00:...| 9149|PENDING_PAYMENT|\n",
      "| 14|2013-07-25 00:00:...| 9842|     PROCESSING|\n",
      "| 15|2013-07-25 00:00:...| 2568|       COMPLETE|\n",
      "| 16|2013-07-25 00:00:...| 7276|PENDING_PAYMENT|\n",
      "| 17|2013-07-25 00:00:...| 2667|       COMPLETE|\n",
      "| 18|2013-07-25 00:00:...| 1205|         CLOSED|\n",
      "| 19|2013-07-25 00:00:...| 9488|PENDING_PAYMENT|\n",
      "| 20|2013-07-25 00:00:...| 9198|     PROCESSING|\n",
      "+---+--------------------+-----+---------------+\n",
      "only showing top 20 rows\n",
      "\n"
     ]
    }
   ],
   "source": [
    "orders_df = spark.read.csv(filepath)\n",
    "orders_df.show()"
   ]
  },
  {
   "cell_type": "code",
   "execution_count": 5,
   "id": "6c7af18f-25da-4a1c-91b3-addea59faa44",
   "metadata": {},
   "outputs": [
    {
     "name": "stdout",
     "output_type": "stream",
     "text": [
      "root\n",
      " |-- _c0: string (nullable = true)\n",
      " |-- _c1: string (nullable = true)\n",
      " |-- _c2: string (nullable = true)\n",
      " |-- _c3: string (nullable = true)\n",
      "\n"
     ]
    }
   ],
   "source": [
    "orders_df.printSchema() #it has no column names or schema"
   ]
  },
  {
   "cell_type": "markdown",
   "id": "8f68f222-d186-4aae-885c-ece2b24142b4",
   "metadata": {},
   "source": [
    "### reading file using .csv but with formatting (column names and data types)"
   ]
  },
  {
   "cell_type": "code",
   "execution_count": 7,
   "id": "2db82aa2-a000-4400-9532-02b7cec5e672",
   "metadata": {},
   "outputs": [
    {
     "name": "stdout",
     "output_type": "stream",
     "text": [
      "+--------+--------------------+-----------------+---------------+\n",
      "|order_id|          order_date|order_customer_id|   order_status|\n",
      "+--------+--------------------+-----------------+---------------+\n",
      "|       1|2013-07-25 00:00:...|            11599|         CLOSED|\n",
      "|       2|2013-07-25 00:00:...|              256|PENDING_PAYMENT|\n",
      "|       3|2013-07-25 00:00:...|            12111|       COMPLETE|\n",
      "|       4|2013-07-25 00:00:...|             8827|         CLOSED|\n",
      "|       5|2013-07-25 00:00:...|            11318|       COMPLETE|\n",
      "|       6|2013-07-25 00:00:...|             7130|       COMPLETE|\n",
      "|       7|2013-07-25 00:00:...|             4530|       COMPLETE|\n",
      "|       8|2013-07-25 00:00:...|             2911|     PROCESSING|\n",
      "|       9|2013-07-25 00:00:...|             5657|PENDING_PAYMENT|\n",
      "|      10|2013-07-25 00:00:...|             5648|PENDING_PAYMENT|\n",
      "|      11|2013-07-25 00:00:...|              918| PAYMENT_REVIEW|\n",
      "|      12|2013-07-25 00:00:...|             1837|         CLOSED|\n",
      "|      13|2013-07-25 00:00:...|             9149|PENDING_PAYMENT|\n",
      "|      14|2013-07-25 00:00:...|             9842|     PROCESSING|\n",
      "|      15|2013-07-25 00:00:...|             2568|       COMPLETE|\n",
      "|      16|2013-07-25 00:00:...|             7276|PENDING_PAYMENT|\n",
      "|      17|2013-07-25 00:00:...|             2667|       COMPLETE|\n",
      "|      18|2013-07-25 00:00:...|             1205|         CLOSED|\n",
      "|      19|2013-07-25 00:00:...|             9488|PENDING_PAYMENT|\n",
      "|      20|2013-07-25 00:00:...|             9198|     PROCESSING|\n",
      "+--------+--------------------+-----------------+---------------+\n",
      "only showing top 20 rows\n",
      "\n"
     ]
    }
   ],
   "source": [
    "orders_schema = 'order_id int, order_date string, order_customer_id int, order_status string'\n",
    "orders_formatted_df = spark.read.csv(filepath, sep=',', schema=orders_schema)\n",
    "orders_formatted_df.show()"
   ]
  },
  {
   "cell_type": "code",
   "execution_count": 8,
   "id": "c45f8f0d-8bc2-4adb-a270-865cce8713cc",
   "metadata": {},
   "outputs": [
    {
     "name": "stdout",
     "output_type": "stream",
     "text": [
      "root\n",
      " |-- order_id: integer (nullable = true)\n",
      " |-- order_date: string (nullable = true)\n",
      " |-- order_customer_id: integer (nullable = true)\n",
      " |-- order_status: string (nullable = true)\n",
      "\n"
     ]
    }
   ],
   "source": [
    "orders_formatted_df.printSchema()"
   ]
  },
  {
   "cell_type": "markdown",
   "id": "44fc14ea-e4c3-4656-9137-d198795ee9e0",
   "metadata": {},
   "source": [
    "### only provide column names and not other schema related values"
   ]
  },
  {
   "cell_type": "code",
   "execution_count": 11,
   "id": "4b5fec7a-e2ce-4ee0-aae4-3e411ab2df8b",
   "metadata": {},
   "outputs": [
    {
     "name": "stdout",
     "output_type": "stream",
     "text": [
      "+--------+--------------------+-------------+---------------+\n",
      "|order_id|          order_Date|order_cust_id|   order_status|\n",
      "+--------+--------------------+-------------+---------------+\n",
      "|       1|2013-07-25 00:00:...|        11599|         CLOSED|\n",
      "|       2|2013-07-25 00:00:...|          256|PENDING_PAYMENT|\n",
      "|       3|2013-07-25 00:00:...|        12111|       COMPLETE|\n",
      "|       4|2013-07-25 00:00:...|         8827|         CLOSED|\n",
      "|       5|2013-07-25 00:00:...|        11318|       COMPLETE|\n",
      "|       6|2013-07-25 00:00:...|         7130|       COMPLETE|\n",
      "|       7|2013-07-25 00:00:...|         4530|       COMPLETE|\n",
      "|       8|2013-07-25 00:00:...|         2911|     PROCESSING|\n",
      "|       9|2013-07-25 00:00:...|         5657|PENDING_PAYMENT|\n",
      "|      10|2013-07-25 00:00:...|         5648|PENDING_PAYMENT|\n",
      "|      11|2013-07-25 00:00:...|          918| PAYMENT_REVIEW|\n",
      "|      12|2013-07-25 00:00:...|         1837|         CLOSED|\n",
      "|      13|2013-07-25 00:00:...|         9149|PENDING_PAYMENT|\n",
      "|      14|2013-07-25 00:00:...|         9842|     PROCESSING|\n",
      "|      15|2013-07-25 00:00:...|         2568|       COMPLETE|\n",
      "|      16|2013-07-25 00:00:...|         7276|PENDING_PAYMENT|\n",
      "|      17|2013-07-25 00:00:...|         2667|       COMPLETE|\n",
      "|      18|2013-07-25 00:00:...|         1205|         CLOSED|\n",
      "|      19|2013-07-25 00:00:...|         9488|PENDING_PAYMENT|\n",
      "|      20|2013-07-25 00:00:...|         9198|     PROCESSING|\n",
      "+--------+--------------------+-------------+---------------+\n",
      "only showing top 20 rows\n",
      "\n"
     ]
    }
   ],
   "source": [
    "orders_cols_df = spark.read.csv(filepath, sep=',').toDF('order_id', 'order_Date', 'order_cust_id', 'order_status')\n",
    "orders_cols_df.show()"
   ]
  },
  {
   "cell_type": "code",
   "execution_count": 12,
   "id": "4f76791b-fdc7-4709-98b5-adc5e7a094e4",
   "metadata": {},
   "outputs": [
    {
     "name": "stdout",
     "output_type": "stream",
     "text": [
      "root\n",
      " |-- order_id: string (nullable = true)\n",
      " |-- order_Date: string (nullable = true)\n",
      " |-- order_cust_id: string (nullable = true)\n",
      " |-- order_status: string (nullable = true)\n",
      "\n"
     ]
    }
   ],
   "source": [
    "orders_cols_df.printSchema() #will not change"
   ]
  },
  {
   "cell_type": "markdown",
   "id": "2ce47de9-2bf3-4c9c-a0a7-61eeac67fc43",
   "metadata": {},
   "source": [
    "### Cast to correct datatypes after reading the file using select statement"
   ]
  },
  {
   "cell_type": "code",
   "execution_count": 23,
   "id": "2cfc4282-6ed6-4c01-abe7-002912c40ec5",
   "metadata": {},
   "outputs": [],
   "source": [
    "from pyspark.sql.types import IntegerType\n",
    "order_cols_formatted = orders_cols_df.select(\n",
    "    orders_cols_df.order_id.cast(IntegerType()),\n",
    "    orders_cols_df.order_Date,\n",
    "    orders_cols_df.order_cust_id.cast(\"int\"),\n",
    "    orders_cols_df.order_status\n",
    ")"
   ]
  },
  {
   "cell_type": "code",
   "execution_count": 25,
   "id": "8a23d8ee-c608-4d21-87c4-d23beff799e3",
   "metadata": {},
   "outputs": [
    {
     "name": "stdout",
     "output_type": "stream",
     "text": [
      "+--------+--------------------+-------------+---------------+\n",
      "|order_id|          order_Date|order_cust_id|   order_status|\n",
      "+--------+--------------------+-------------+---------------+\n",
      "|       1|2013-07-25 00:00:...|        11599|         CLOSED|\n",
      "|       2|2013-07-25 00:00:...|          256|PENDING_PAYMENT|\n",
      "|       3|2013-07-25 00:00:...|        12111|       COMPLETE|\n",
      "|       4|2013-07-25 00:00:...|         8827|         CLOSED|\n",
      "|       5|2013-07-25 00:00:...|        11318|       COMPLETE|\n",
      "+--------+--------------------+-------------+---------------+\n",
      "only showing top 5 rows\n",
      "\n"
     ]
    }
   ],
   "source": [
    "order_cols_formatted.show(5)"
   ]
  },
  {
   "cell_type": "code",
   "execution_count": 26,
   "id": "9b731bcb-edf2-4ff0-8e45-beb5d14cba3e",
   "metadata": {},
   "outputs": [
    {
     "name": "stdout",
     "output_type": "stream",
     "text": [
      "root\n",
      " |-- order_id: integer (nullable = true)\n",
      " |-- order_Date: string (nullable = true)\n",
      " |-- order_cust_id: integer (nullable = true)\n",
      " |-- order_status: string (nullable = true)\n",
      "\n"
     ]
    }
   ],
   "source": [
    "order_cols_formatted.printSchema()"
   ]
  },
  {
   "cell_type": "markdown",
   "id": "8a4e8c79-5102-4607-b9bf-743ef56d0aa1",
   "metadata": {},
   "source": [
    "### Cast to correct datatypes after reading the file using withCoumn statement\n",
    "Since Select might be too tedious bcz we need to write all column which don't need typecasting as well"
   ]
  },
  {
   "cell_type": "code",
   "execution_count": 31,
   "id": "a48ca571-5881-4254-bfd5-142b728ab1d1",
   "metadata": {},
   "outputs": [],
   "source": [
    "order_with_dataTypes = orders_cols_df. \\\n",
    "    withColumn('order_id', orders_cols_df.order_id.cast(IntegerType())). \\\n",
    "    withColumn('order_cust_id', orders_cols_df.order_cust_id.cast(IntegerType()))      "
   ]
  },
  {
   "cell_type": "code",
   "execution_count": 32,
   "id": "bb2515b0-3a63-43ba-9e4f-e0b9da3331cf",
   "metadata": {},
   "outputs": [
    {
     "name": "stdout",
     "output_type": "stream",
     "text": [
      "+--------+--------------------+-------------+---------------+\n",
      "|order_id|          order_Date|order_cust_id|   order_status|\n",
      "+--------+--------------------+-------------+---------------+\n",
      "|       1|2013-07-25 00:00:...|        11599|         CLOSED|\n",
      "|       2|2013-07-25 00:00:...|          256|PENDING_PAYMENT|\n",
      "|       3|2013-07-25 00:00:...|        12111|       COMPLETE|\n",
      "|       4|2013-07-25 00:00:...|         8827|         CLOSED|\n",
      "|       5|2013-07-25 00:00:...|        11318|       COMPLETE|\n",
      "+--------+--------------------+-------------+---------------+\n",
      "only showing top 5 rows\n",
      "\n"
     ]
    }
   ],
   "source": [
    "order_with_dataTypes.show(5)"
   ]
  },
  {
   "cell_type": "code",
   "execution_count": 33,
   "id": "789769ae-e5d4-4916-8f14-4bfad7fc043e",
   "metadata": {},
   "outputs": [
    {
     "name": "stdout",
     "output_type": "stream",
     "text": [
      "root\n",
      " |-- order_id: integer (nullable = true)\n",
      " |-- order_Date: string (nullable = true)\n",
      " |-- order_cust_id: integer (nullable = true)\n",
      " |-- order_status: string (nullable = true)\n",
      "\n"
     ]
    }
   ],
   "source": [
    "order_with_dataTypes.printSchema()"
   ]
  },
  {
   "cell_type": "markdown",
   "id": "098141c3-f751-48ca-b518-4f6f3bc9d542",
   "metadata": {},
   "source": [
    "### using spark.read.format"
   ]
  },
  {
   "cell_type": "code",
   "execution_count": 17,
   "id": "501320ec-c703-4d4b-a910-c6b0ab0ddf91",
   "metadata": {},
   "outputs": [],
   "source": [
    "orders_df2 = spark. \\\n",
    "    read. \\\n",
    "    format('csv'). \\\n",
    "    option('sep', ','). \\\n",
    "    schema(orders_schema). \\\n",
    "    load(filepath)"
   ]
  },
  {
   "cell_type": "code",
   "execution_count": 18,
   "id": "3082b2b3-2e4f-4921-8496-9577a5ef777d",
   "metadata": {},
   "outputs": [
    {
     "name": "stdout",
     "output_type": "stream",
     "text": [
      "+--------+--------------------+-----------------+---------------+\n",
      "|order_id|          order_date|order_customer_id|   order_status|\n",
      "+--------+--------------------+-----------------+---------------+\n",
      "|       1|2013-07-25 00:00:...|            11599|         CLOSED|\n",
      "|       2|2013-07-25 00:00:...|              256|PENDING_PAYMENT|\n",
      "|       3|2013-07-25 00:00:...|            12111|       COMPLETE|\n",
      "|       4|2013-07-25 00:00:...|             8827|         CLOSED|\n",
      "|       5|2013-07-25 00:00:...|            11318|       COMPLETE|\n",
      "+--------+--------------------+-----------------+---------------+\n",
      "only showing top 5 rows\n",
      "\n"
     ]
    }
   ],
   "source": [
    "orders_df2.show(5)  "
   ]
  },
  {
   "cell_type": "markdown",
   "id": "e96589b3-5d59-458d-a2bd-3917a1bc14b9",
   "metadata": {},
   "source": [
    "### Using spark.read.text"
   ]
  },
  {
   "cell_type": "code",
   "execution_count": 35,
   "id": "f80b8cd0-e5be-4625-8a17-d6edb92d09d6",
   "metadata": {},
   "outputs": [
    {
     "name": "stdout",
     "output_type": "stream",
     "text": [
      "+-------------------------------------------+\n",
      "|value                                      |\n",
      "+-------------------------------------------+\n",
      "|1,2013-07-25 00:00:00.0,11599,CLOSED       |\n",
      "|2,2013-07-25 00:00:00.0,256,PENDING_PAYMENT|\n",
      "|3,2013-07-25 00:00:00.0,12111,COMPLETE     |\n",
      "|4,2013-07-25 00:00:00.0,8827,CLOSED        |\n",
      "|5,2013-07-25 00:00:00.0,11318,COMPLETE     |\n",
      "+-------------------------------------------+\n",
      "only showing top 5 rows\n",
      "\n"
     ]
    }
   ],
   "source": [
    "#all 4 columns will come as a single record in string format\n",
    "order_text_df = spark.read.text(filepath)\n",
    "order_text_df.show(5, truncate=False)"
   ]
  },
  {
   "cell_type": "markdown",
   "id": "b229fa0a-33b8-4c37-af7d-f0153325ad8a",
   "metadata": {},
   "source": [
    "### Reading hive tables from spark\n",
    "Hive should be up and running and configured with spark"
   ]
  },
  {
   "cell_type": "code",
   "execution_count": null,
   "id": "0abce6ad-0d21-4df0-b9a5-cf28a2d58c83",
   "metadata": {},
   "outputs": [],
   "source": [
    "hiveTable_df = spark.read.table('dbname.tablename')\n",
    "\n",
    "#or\n",
    "\n",
    "hive_table_sql = spark.sql('SELECT * FROM dbname.tablename')\n"
   ]
  }
 ],
 "metadata": {
  "kernelspec": {
   "display_name": "Python 3 (ipykernel)",
   "language": "python",
   "name": "python3"
  },
  "language_info": {
   "codemirror_mode": {
    "name": "ipython",
    "version": 3
   },
   "file_extension": ".py",
   "mimetype": "text/x-python",
   "name": "python",
   "nbconvert_exporter": "python",
   "pygments_lexer": "ipython3",
   "version": "3.8.11"
  }
 },
 "nbformat": 4,
 "nbformat_minor": 5
}
