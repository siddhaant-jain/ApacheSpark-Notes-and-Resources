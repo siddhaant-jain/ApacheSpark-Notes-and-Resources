{
 "cells": [
  {
   "cell_type": "code",
   "execution_count": 1,
   "id": "f1a0e8d1-320f-4630-9826-fff27964074c",
   "metadata": {},
   "outputs": [
    {
     "name": "stdout",
     "output_type": "stream",
     "text": [
      "['C:\\\\Users\\\\SkJain\\\\Documents\\\\BigDataStackWorkspace\\\\SparkLearn\\\\ApacheSpark-Notes-and-Resources', 'C:\\\\Users\\\\SkJain\\\\anaconda3\\\\python38.zip', 'C:\\\\Users\\\\SkJain\\\\anaconda3\\\\DLLs', 'C:\\\\Users\\\\SkJain\\\\anaconda3\\\\lib', 'C:\\\\Users\\\\SkJain\\\\anaconda3', '', 'C:\\\\Users\\\\SkJain\\\\AppData\\\\Roaming\\\\Python\\\\Python38\\\\site-packages', 'C:\\\\Users\\\\SkJain\\\\anaconda3\\\\lib\\\\site-packages', 'C:\\\\Users\\\\SkJain\\\\anaconda3\\\\lib\\\\site-packages\\\\locket-0.2.1-py3.8.egg', 'C:\\\\Users\\\\SkJain\\\\anaconda3\\\\lib\\\\site-packages\\\\win32', 'C:\\\\Users\\\\SkJain\\\\anaconda3\\\\lib\\\\site-packages\\\\win32\\\\lib', 'C:\\\\Users\\\\SkJain\\\\anaconda3\\\\lib\\\\site-packages\\\\Pythonwin', 'C:\\\\Users\\\\SkJain\\\\anaconda3\\\\lib\\\\site-packages\\\\IPython\\\\extensions', 'C:\\\\Users\\\\SkJain\\\\.ipython', 'C:\\\\Users\\\\SkJain\\\\Downloads\\\\Compressed\\\\winutils-master\\\\hadoop-3.2.2\\\\bin']\n"
     ]
    }
   ],
   "source": [
    "from pyspark.sql import SparkSession\n",
    "import os\n",
    "import sys\n",
    "\n",
    "os.environ[\"HADOOP_HOME\"] = \"C:\\\\Users\\\\SkJain\\\\Downloads\\\\Compressed\\\\winutils-master\\\\hadoop-3.2.2\"\n",
    "# os.environ[\"HIVE_HOME\"] = \"C:\\\\Users\\\\SkJain\\\\Documents\\\\BigDataStackWorkspace\\\\SparkLearn\\\\apache-hive-3.1.3-bin\"\n",
    "# os.environ[\"HIVE_LIB\"] = \"C:\\\\Users\\\\SkJain\\\\Documents\\\\BigDataStackWorkspace\\\\SparkLearn\\\\apache-hive-3.1.3-bin\\\\lib\"\n",
    "# os.environ[\"HIVE_BIN\"] =  \"C:\\\\Users\\\\SkJain\\\\Documents\\\\BigDataStackWorkspace\\\\SparkLearn\\\\apache-hive-3.1.3-bin\\\\bin\"\n",
    "# os.environ[\"HADOOP_USER_CLASSPATH_FIRST\"] = \"true\"\n",
    "sys.path.append('C:\\\\Users\\\\SkJain\\\\Downloads\\\\Compressed\\\\winutils-master\\\\hadoop-3.2.2\\\\bin')\n",
    "print(sys.path)"
   ]
  },
  {
   "cell_type": "code",
   "execution_count": 2,
   "id": "332c0e96-3489-40ac-acaf-0c4215527bcc",
   "metadata": {},
   "outputs": [],
   "source": [
    "spark = SparkSession. \\\n",
    "    builder. \\\n",
    "    config(\"spark.ui.port\", \"0\"). \\\n",
    "    enableHiveSupport(). \\\n",
    "    appName('SparkSql'). \\\n",
    "    master('local'). \\\n",
    "    getOrCreate()"
   ]
  },
  {
   "cell_type": "code",
   "execution_count": 3,
   "id": "b719a016-820d-4af3-9b6d-b7ecbabf42a5",
   "metadata": {},
   "outputs": [
    {
     "name": "stdout",
     "output_type": "stream",
     "text": [
      "+---------+\n",
      "|namespace|\n",
      "+---------+\n",
      "|  default|\n",
      "+---------+\n",
      "\n"
     ]
    }
   ],
   "source": [
    "spark.sql(\"SHOW databases\").show()"
   ]
  },
  {
   "cell_type": "code",
   "execution_count": 4,
   "id": "ff27a2ff-48d0-427c-bc26-4767b30d3206",
   "metadata": {},
   "outputs": [
    {
     "name": "stdout",
     "output_type": "stream",
     "text": [
      "++\n",
      "||\n",
      "++\n",
      "++\n",
      "\n"
     ]
    }
   ],
   "source": [
    "spark.sql(\"CREATE DATABASE IF NOT EXISTS siddhantdb\").show()"
   ]
  },
  {
   "cell_type": "code",
   "execution_count": 5,
   "id": "8ea4c676-ba83-445c-a2b5-fd992a41a0ab",
   "metadata": {},
   "outputs": [
    {
     "name": "stdout",
     "output_type": "stream",
     "text": [
      "+------------------+\n",
      "|current_database()|\n",
      "+------------------+\n",
      "|        siddhantdb|\n",
      "+------------------+\n",
      "\n"
     ]
    }
   ],
   "source": [
    "spark.sql(\"USE siddhantdb\")\n",
    "spark.sql(\"SELECT current_database()\").show()"
   ]
  },
  {
   "cell_type": "code",
   "execution_count": 6,
   "id": "df40dc90-b1b0-4bb9-a351-cf6f56804860",
   "metadata": {},
   "outputs": [
    {
     "name": "stdout",
     "output_type": "stream",
     "text": [
      "+--------+---------+-----------+\n",
      "|database|tableName|isTemporary|\n",
      "+--------+---------+-----------+\n",
      "+--------+---------+-----------+\n",
      "\n"
     ]
    }
   ],
   "source": [
    "spark.sql(\"SHOW TABLES\").show()"
   ]
  },
  {
   "cell_type": "code",
   "execution_count": 7,
   "id": "7589fe44-976e-495b-8c7c-0e1c40980153",
   "metadata": {},
   "outputs": [],
   "source": [
    "create_test_table_query = \"\"\" CREATE EXTERNAL TABLE IF NOT EXISTS test(\n",
    "        test_id INT,\n",
    "        subject STRING\n",
    "    ) ROW FORMAT DELIMITED FIELDS TERMINATED BY ','\n",
    "    STORED AS TEXTFILE\n",
    "    LOCATION './testTable'\n",
    "\"\"\""
   ]
  },
  {
   "cell_type": "code",
   "execution_count": 8,
   "id": "91683c1c-1e3f-4f28-a82a-ff66bd98baf5",
   "metadata": {},
   "outputs": [
    {
     "data": {
      "text/plain": [
       "DataFrame[]"
      ]
     },
     "execution_count": 8,
     "metadata": {},
     "output_type": "execute_result"
    }
   ],
   "source": [
    "spark.sql(create_test_table_query)"
   ]
  },
  {
   "cell_type": "code",
   "execution_count": 9,
   "id": "d38d6be6-69eb-47d1-89b4-51ffe1e6873b",
   "metadata": {},
   "outputs": [
    {
     "name": "stdout",
     "output_type": "stream",
     "text": [
      "+----------+---------+-----------+\n",
      "|  database|tableName|isTemporary|\n",
      "+----------+---------+-----------+\n",
      "|siddhantdb|     test|      false|\n",
      "+----------+---------+-----------+\n",
      "\n"
     ]
    }
   ],
   "source": [
    "spark.sql(\"SHOW TABLES\").show()"
   ]
  },
  {
   "cell_type": "code",
   "execution_count": 10,
   "id": "03aa2764-a24e-4e22-bc81-631a092eccc2",
   "metadata": {},
   "outputs": [
    {
     "name": "stdout",
     "output_type": "stream",
     "text": [
      "+-------+-------+\n",
      "|test_id|subject|\n",
      "+-------+-------+\n",
      "+-------+-------+\n",
      "\n"
     ]
    }
   ],
   "source": [
    "spark.sql(\"SELECT * FROM test\").show()"
   ]
  },
  {
   "cell_type": "code",
   "execution_count": 11,
   "id": "aa00e2cf-a98b-49db-b058-58e7186302bc",
   "metadata": {},
   "outputs": [
    {
     "data": {
      "text/plain": [
       "DataFrame[]"
      ]
     },
     "execution_count": 11,
     "metadata": {},
     "output_type": "execute_result"
    }
   ],
   "source": [
    "spark.sql(\"INSERT INTO test VALUES (1, 'MATHS')\")"
   ]
  },
  {
   "cell_type": "code",
   "execution_count": 12,
   "id": "f111c85b-b249-43ea-8eb1-7339e9d8ea6c",
   "metadata": {},
   "outputs": [
    {
     "name": "stdout",
     "output_type": "stream",
     "text": [
      "+-------+-------+\n",
      "|test_id|subject|\n",
      "+-------+-------+\n",
      "|      1|  MATHS|\n",
      "+-------+-------+\n",
      "\n"
     ]
    }
   ],
   "source": [
    "spark.sql(\"SELECT * FROM test\").show()"
   ]
  },
  {
   "cell_type": "code",
   "execution_count": 13,
   "id": "66acb38a-6982-4626-9eb8-5f215acfb1ef",
   "metadata": {},
   "outputs": [
    {
     "data": {
      "text/plain": [
       "DataFrame[]"
      ]
     },
     "execution_count": 13,
     "metadata": {},
     "output_type": "execute_result"
    }
   ],
   "source": [
    "create_test_managed_table_query = \"\"\" CREATE TABLE IF NOT EXISTS test_managed(\n",
    "        test_id INT,\n",
    "        subject STRING\n",
    "    ) ROW FORMAT DELIMITED FIELDS TERMINATED BY ','\n",
    "    STORED AS TEXTFILE\n",
    "\"\"\"\n",
    "spark.sql(create_test_managed_table_query)"
   ]
  },
  {
   "cell_type": "code",
   "execution_count": 14,
   "id": "a837c1cf-aa49-4240-a253-27808720d16d",
   "metadata": {},
   "outputs": [
    {
     "name": "stdout",
     "output_type": "stream",
     "text": [
      "+----------------------------+----------------------------------------------------------------------------------------------------------------------------------------+-------+\n",
      "|col_name                    |data_type                                                                                                                               |comment|\n",
      "+----------------------------+----------------------------------------------------------------------------------------------------------------------------------------+-------+\n",
      "|test_id                     |int                                                                                                                                     |null   |\n",
      "|subject                     |string                                                                                                                                  |null   |\n",
      "|                            |                                                                                                                                        |       |\n",
      "|# Detailed Table Information|                                                                                                                                        |       |\n",
      "|Database                    |siddhantdb                                                                                                                              |       |\n",
      "|Table                       |test                                                                                                                                    |       |\n",
      "|Owner                       |SkJain                                                                                                                                  |       |\n",
      "|Created Time                |Wed Apr 13 16:28:04 IST 2022                                                                                                            |       |\n",
      "|Last Access                 |UNKNOWN                                                                                                                                 |       |\n",
      "|Created By                  |Spark 3.1.2                                                                                                                             |       |\n",
      "|Type                        |EXTERNAL                                                                                                                                |       |\n",
      "|Provider                    |hive                                                                                                                                    |       |\n",
      "|Table Properties            |[transient_lastDdlTime=1649849143]                                                                                                      |       |\n",
      "|Statistics                  |8 bytes                                                                                                                                 |       |\n",
      "|Location                    |file:/C:/Users/SkJain/Documents/BigDataStackWorkspace/SparkLearn/ApacheSpark-Notes-and-Resources/spark-warehouse/siddhantdb.db/testTable|       |\n",
      "|Serde Library               |org.apache.hadoop.hive.serde2.lazy.LazySimpleSerDe                                                                                      |       |\n",
      "|InputFormat                 |org.apache.hadoop.mapred.TextInputFormat                                                                                                |       |\n",
      "|OutputFormat                |org.apache.hadoop.hive.ql.io.HiveIgnoreKeyTextOutputFormat                                                                              |       |\n",
      "|Storage Properties          |[serialization.format=,, field.delim=,]                                                                                                 |       |\n",
      "|Partition Provider          |Catalog                                                                                                                                 |       |\n",
      "+----------------------------+----------------------------------------------------------------------------------------------------------------------------------------+-------+\n",
      "\n"
     ]
    }
   ],
   "source": [
    "spark.sql(\"DESCRIBE FORMATTED test\").show(truncate=False)"
   ]
  },
  {
   "cell_type": "code",
   "execution_count": 15,
   "id": "eacbc10e-de2b-44d7-a3ce-71e82e406bc3",
   "metadata": {},
   "outputs": [
    {
     "name": "stdout",
     "output_type": "stream",
     "text": [
      "+----------------------------+-------------------------------------------------------------------------------------------------------------------------------------------+-------+\n",
      "|col_name                    |data_type                                                                                                                                  |comment|\n",
      "+----------------------------+-------------------------------------------------------------------------------------------------------------------------------------------+-------+\n",
      "|test_id                     |int                                                                                                                                        |null   |\n",
      "|subject                     |string                                                                                                                                     |null   |\n",
      "|                            |                                                                                                                                           |       |\n",
      "|# Detailed Table Information|                                                                                                                                           |       |\n",
      "|Database                    |siddhantdb                                                                                                                                 |       |\n",
      "|Table                       |test_managed                                                                                                                               |       |\n",
      "|Owner                       |SkJain                                                                                                                                     |       |\n",
      "|Created Time                |Wed Apr 13 16:56:40 IST 2022                                                                                                               |       |\n",
      "|Last Access                 |UNKNOWN                                                                                                                                    |       |\n",
      "|Created By                  |Spark 3.1.2                                                                                                                                |       |\n",
      "|Type                        |MANAGED                                                                                                                                    |       |\n",
      "|Provider                    |hive                                                                                                                                       |       |\n",
      "|Table Properties            |[transient_lastDdlTime=1649849200]                                                                                                         |       |\n",
      "|Location                    |file:/C:/Users/SkJain/Documents/BigDataStackWorkspace/SparkLearn/ApacheSpark-Notes-and-Resources/spark-warehouse/siddhantdb.db/test_managed|       |\n",
      "|Serde Library               |org.apache.hadoop.hive.serde2.lazy.LazySimpleSerDe                                                                                         |       |\n",
      "|InputFormat                 |org.apache.hadoop.mapred.TextInputFormat                                                                                                   |       |\n",
      "|OutputFormat                |org.apache.hadoop.hive.ql.io.HiveIgnoreKeyTextOutputFormat                                                                                 |       |\n",
      "|Storage Properties          |[serialization.format=,, field.delim=,]                                                                                                    |       |\n",
      "|Partition Provider          |Catalog                                                                                                                                    |       |\n",
      "+----------------------------+-------------------------------------------------------------------------------------------------------------------------------------------+-------+\n",
      "\n"
     ]
    }
   ],
   "source": [
    "spark.sql(\"DESCRIBE FORMATTED test_managed\").show(truncate=False)"
   ]
  },
  {
   "cell_type": "code",
   "execution_count": 16,
   "id": "d16ce989-cd65-429f-b92d-7718cd47b3b6",
   "metadata": {},
   "outputs": [
    {
     "data": {
      "text/plain": [
       "DataFrame[]"
      ]
     },
     "execution_count": 16,
     "metadata": {},
     "output_type": "execute_result"
    }
   ],
   "source": [
    "spark.sql(\"DROP TABLE IF EXISTS test\")"
   ]
  },
  {
   "cell_type": "code",
   "execution_count": 17,
   "id": "f3e82d54-689a-457d-bdc1-12eff909cc4f",
   "metadata": {},
   "outputs": [
    {
     "data": {
      "text/plain": [
       "DataFrame[]"
      ]
     },
     "execution_count": 17,
     "metadata": {},
     "output_type": "execute_result"
    }
   ],
   "source": [
    "spark.sql(\"DROP TABLE IF EXISTS test_managed\")"
   ]
  },
  {
   "cell_type": "code",
   "execution_count": 18,
   "id": "78d7119e-6161-4616-9251-49fa1d682fed",
   "metadata": {},
   "outputs": [
    {
     "name": "stdout",
     "output_type": "stream",
     "text": [
      "+--------+---------+-----------+\n",
      "|database|tableName|isTemporary|\n",
      "+--------+---------+-----------+\n",
      "+--------+---------+-----------+\n",
      "\n"
     ]
    }
   ],
   "source": [
    "spark.sql(\"SHOW TABLES\").show()"
   ]
  },
  {
   "cell_type": "markdown",
   "id": "cc578bc1-5397-47aa-8240-9ff5dc4e554b",
   "metadata": {},
   "source": [
    "# Assignment"
   ]
  },
  {
   "cell_type": "code",
   "execution_count": 20,
   "id": "cc6afe1b-7a84-4f93-9ab0-1d352739cb68",
   "metadata": {},
   "outputs": [],
   "source": [
    "dataset_path = './datasets/nyse_all/nyse_data/'\n",
    "database_name = 'nysedb'\n",
    "table_name = 'nyse_eod'"
   ]
  },
  {
   "cell_type": "code",
   "execution_count": 22,
   "id": "b343df54-23fc-4b91-8a96-2e4510365cec",
   "metadata": {},
   "outputs": [
    {
     "name": "stdout",
     "output_type": "stream",
     "text": [
      "+----------+\n",
      "| namespace|\n",
      "+----------+\n",
      "|   default|\n",
      "|    nysedb|\n",
      "|siddhantdb|\n",
      "+----------+\n",
      "\n"
     ]
    }
   ],
   "source": [
    "create_db_query = f'CREATE DATABASE IF NOT EXISTS {database_name}'\n",
    "spark.sql(create_db_query)\n",
    "spark.sql(\"SHOW databases\").show()"
   ]
  },
  {
   "cell_type": "code",
   "execution_count": 23,
   "id": "43cd6bec-e66b-49fd-a1f7-dbe93ba6551e",
   "metadata": {},
   "outputs": [
    {
     "name": "stdout",
     "output_type": "stream",
     "text": [
      "+------------------+\n",
      "|current_database()|\n",
      "+------------------+\n",
      "|            nysedb|\n",
      "+------------------+\n",
      "\n"
     ]
    }
   ],
   "source": [
    "spark.sql(\"USE nysedb\")\n",
    "spark.sql(\"SELECT current_database()\").show()"
   ]
  },
  {
   "cell_type": "code",
   "execution_count": 27,
   "id": "a84eae9a-a319-45da-9732-0c149f7392b4",
   "metadata": {},
   "outputs": [
    {
     "data": {
      "text/plain": [
       "DataFrame[]"
      ]
     },
     "execution_count": 27,
     "metadata": {},
     "output_type": "execute_result"
    }
   ],
   "source": [
    "create_table_query = f\"\"\" CREATE TABLE IF NOT EXISTS {table_name}(\n",
    "    stockticker STRING,\n",
    "    tradeDate STRING,\n",
    "    openprice FLOAT,\n",
    "    highprice FLOAT,\n",
    "    lowprice FLOAT,\n",
    "    closeprice FLOAT,\n",
    "    volume BIGINT\n",
    ") ROW FORMAT DELIMITED FIELDS TERMINATED BY ','\n",
    "STORED AS TEXTFILE\n",
    "\"\"\"\n",
    "\n",
    "spark.sql(create_table_query)"
   ]
  },
  {
   "cell_type": "code",
   "execution_count": 28,
   "id": "eb8b3589-5d99-42b0-ae5e-e3d0e0c76c8a",
   "metadata": {},
   "outputs": [
    {
     "name": "stdout",
     "output_type": "stream",
     "text": [
      "+--------+---------+-----------+\n",
      "|database|tableName|isTemporary|\n",
      "+--------+---------+-----------+\n",
      "|  nysedb| nyse_eod|      false|\n",
      "+--------+---------+-----------+\n",
      "\n"
     ]
    }
   ],
   "source": [
    "spark.sql(\"SHOW TABLES\").show()"
   ]
  },
  {
   "cell_type": "code",
   "execution_count": 31,
   "id": "78391336-10fc-4252-b376-e9c9780f1868",
   "metadata": {},
   "outputs": [
    {
     "data": {
      "text/plain": [
       "DataFrame[]"
      ]
     },
     "execution_count": 31,
     "metadata": {},
     "output_type": "execute_result"
    }
   ],
   "source": [
    "load_data_query = f\"LOAD DATA LOCAL INPATH '{dataset_path}' INTO TABLE {table_name}\"\n",
    "spark.sql(load_data_query)"
   ]
  },
  {
   "cell_type": "code",
   "execution_count": 35,
   "id": "a1f8c32e-9e39-4ad2-8a5d-173206441b92",
   "metadata": {},
   "outputs": [
    {
     "name": "stdout",
     "output_type": "stream",
     "text": [
      "+-----------+---------+---------+---------+--------+----------+----------+\n",
      "|stockticker|tradeDate|openprice|highprice|lowprice|closeprice|    volume|\n",
      "+-----------+---------+---------+---------+--------+----------+----------+\n",
      "|        BAC| 20091204|    15.76|     16.4|   15.62|     16.28|1226792000|\n",
      "|        AIG| 20080916|     37.0|    104.8|    25.0|      75.0|1215138000|\n",
      "|        BAC| 20090520|    11.88|    12.24|   11.21|     11.49|1198553000|\n",
      "|       ORCL| 19971209|   3.8438|      4.0|  3.7344|    3.8281|1030964000|\n",
      "|        BAC| 20090409|     8.15|     9.85|     8.0|      9.55|1028991000|\n",
      "|        BAC| 20090507|    14.75|    15.07|   12.78|     13.51| 944016900|\n",
      "|        BAC| 20090506|    11.93|    12.85|   11.51|     12.69| 923616900|\n",
      "|        BAC| 20090421|     7.21|     8.93|     7.0|      8.76| 867050400|\n",
      "|        BAC| 20110825|     8.29|      8.8|    7.38|      7.65| 859643300|\n",
      "|        BAC| 20090220|     3.61|     4.09|    2.53|      3.79| 838938304|\n",
      "+-----------+---------+---------+---------+--------+----------+----------+\n",
      "\n"
     ]
    }
   ],
   "source": [
    "spark.sql(f\"SELECT * FROM {table_name} ORDER BY volume DESC LIMIT 10\").show()"
   ]
  },
  {
   "cell_type": "code",
   "execution_count": 36,
   "id": "e0f7dfba-a261-4404-a157-1b4ddb1a6fc9",
   "metadata": {},
   "outputs": [
    {
     "name": "stdout",
     "output_type": "stream",
     "text": [
      "+--------+\n",
      "|count(1)|\n",
      "+--------+\n",
      "| 9384739|\n",
      "+--------+\n",
      "\n"
     ]
    }
   ],
   "source": [
    "spark.sql(f'select count(1) from {table_name}').show()"
   ]
  },
  {
   "cell_type": "code",
   "execution_count": 41,
   "id": "64dcdb2a-eccd-4c51-854f-3477e12eec29",
   "metadata": {},
   "outputs": [
    {
     "name": "stdout",
     "output_type": "stream",
     "text": [
      "+----------------------------+-----------------------------------------------------------------------------------------------------------------------------------+-------+\n",
      "|col_name                    |data_type                                                                                                                          |comment|\n",
      "+----------------------------+-----------------------------------------------------------------------------------------------------------------------------------+-------+\n",
      "|stockticker                 |string                                                                                                                             |null   |\n",
      "|tradeDate                   |string                                                                                                                             |null   |\n",
      "|openprice                   |float                                                                                                                              |null   |\n",
      "|highprice                   |float                                                                                                                              |null   |\n",
      "|lowprice                    |float                                                                                                                              |null   |\n",
      "|closeprice                  |float                                                                                                                              |null   |\n",
      "|volume                      |bigint                                                                                                                             |null   |\n",
      "|                            |                                                                                                                                   |       |\n",
      "|# Detailed Table Information|                                                                                                                                   |       |\n",
      "|Database                    |nysedb                                                                                                                             |       |\n",
      "|Table                       |nyse_eod                                                                                                                           |       |\n",
      "|Owner                       |SkJain                                                                                                                             |       |\n",
      "|Created Time                |Wed Apr 13 17:23:22 IST 2022                                                                                                       |       |\n",
      "|Last Access                 |UNKNOWN                                                                                                                            |       |\n",
      "|Created By                  |Spark 3.1.2                                                                                                                        |       |\n",
      "|Type                        |MANAGED                                                                                                                            |       |\n",
      "|Provider                    |hive                                                                                                                               |       |\n",
      "|Table Properties            |[transient_lastDdlTime=1649851093]                                                                                                 |       |\n",
      "|Statistics                  |139239940 bytes                                                                                                                    |       |\n",
      "|Location                    |file:/C:/Users/SkJain/Documents/BigDataStackWorkspace/SparkLearn/ApacheSpark-Notes-and-Resources/spark-warehouse/nysedb.db/nyse_eod|       |\n",
      "|Serde Library               |org.apache.hadoop.hive.serde2.lazy.LazySimpleSerDe                                                                                 |       |\n",
      "|InputFormat                 |org.apache.hadoop.mapred.TextInputFormat                                                                                           |       |\n",
      "|OutputFormat                |org.apache.hadoop.hive.ql.io.HiveIgnoreKeyTextOutputFormat                                                                         |       |\n",
      "|Storage Properties          |[serialization.format=,, field.delim=,]                                                                                            |       |\n",
      "|Partition Provider          |Catalog                                                                                                                            |       |\n",
      "+----------------------------+-----------------------------------------------------------------------------------------------------------------------------------+-------+\n",
      "\n"
     ]
    }
   ],
   "source": [
    "spark.sql(f'DESCRIBE FORMATTED {table_name}').show(50, truncate=False)"
   ]
  },
  {
   "cell_type": "code",
   "execution_count": null,
   "id": "a05d7ad9-9fdb-4c03-a4d5-a8521953791c",
   "metadata": {},
   "outputs": [],
   "source": []
  }
 ],
 "metadata": {
  "kernelspec": {
   "display_name": "Python 3 (ipykernel)",
   "language": "python",
   "name": "python3"
  },
  "language_info": {
   "codemirror_mode": {
    "name": "ipython",
    "version": 3
   },
   "file_extension": ".py",
   "mimetype": "text/x-python",
   "name": "python",
   "nbconvert_exporter": "python",
   "pygments_lexer": "ipython3",
   "version": "3.8.11"
  }
 },
 "nbformat": 4,
 "nbformat_minor": 5
}
